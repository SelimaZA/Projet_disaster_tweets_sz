{
  "nbformat": 4,
  "nbformat_minor": 0,
  "metadata": {
    "colab": {
      "name": "Projet_NLP",
      "provenance": [],
      "collapsed_sections": []
    },
    "kernelspec": {
      "name": "python3",
      "display_name": "Python 3"
    },
    "language_info": {
      "name": "python"
    }
  },
  "cells": [
    {
      "cell_type": "code",
      "metadata": {
        "id": "LAQqQ7a1gjd_"
      },
      "source": [
        "import pandas as pd\n",
        "import tensorflow as tf\n",
        "import numpy as np\n",
        "import matplotlib.pyplot as plt\n",
        "import seaborn as sns\n",
        "import spacy\n",
        "\n",
        "import numpy as np\n",
        "import tensorflow as tf\n",
        "import pathlib \n",
        "from tensorflow import keras\n",
        "from tensorflow.keras import layers\n",
        "import sys, os,io,re, csv, codecs\n",
        "\n",
        "\n",
        "#spacy.load('en_core_web_sm')\n",
        "from spacy.lang.en.stop_words import STOP_WORDS\n",
        "from wordcloud import WordCloud\n",
        "from sklearn.model_selection import train_test_split\n",
        "from sklearn.pipeline import Pipeline\n",
        "from sklearn.impute import SimpleImputer\n",
        "from sklearn.preprocessing import StandardScaler\n",
        "from sklearn.preprocessing import OneHotEncoder\n",
        "from sklearn.preprocessing import LabelEncoder\n",
        "from sklearn.compose import ColumnTransformer\n",
        "from sklearn.metrics import classification_report\n",
        "import warnings\n",
        "warnings.filterwarnings('ignore')"
      ],
      "execution_count": null,
      "outputs": []
    },
    {
      "cell_type": "code",
      "source": [
        "# Nous cahrgeons les fichiers: \n",
        "df_train = pd.read_csv('/content/train.csv')\n",
        "df_test = pd.read_csv('/content/test.csv')\n",
        "sample_submission = pd.read_csv('/content/sample_submission.csv')"
      ],
      "metadata": {
        "id": "LRxT2nIcEs99"
      },
      "execution_count": null,
      "outputs": []
    },
    {
      "cell_type": "code",
      "metadata": {
        "id": "tnGpUGW6gu_X",
        "colab": {
          "base_uri": "https://localhost:8080/",
          "height": 206
        },
        "outputId": "5632093a-1f5d-4305-93e2-ec3f6a01c859"
      },
      "source": [
        "df_train.head()"
      ],
      "execution_count": null,
      "outputs": [
        {
          "output_type": "execute_result",
          "data": {
            "text/html": [
              "\n",
              "  <div id=\"df-4bddcd49-342a-4df0-a448-f4d39fba02de\">\n",
              "    <div class=\"colab-df-container\">\n",
              "      <div>\n",
              "<style scoped>\n",
              "    .dataframe tbody tr th:only-of-type {\n",
              "        vertical-align: middle;\n",
              "    }\n",
              "\n",
              "    .dataframe tbody tr th {\n",
              "        vertical-align: top;\n",
              "    }\n",
              "\n",
              "    .dataframe thead th {\n",
              "        text-align: right;\n",
              "    }\n",
              "</style>\n",
              "<table border=\"1\" class=\"dataframe\">\n",
              "  <thead>\n",
              "    <tr style=\"text-align: right;\">\n",
              "      <th></th>\n",
              "      <th>id</th>\n",
              "      <th>keyword</th>\n",
              "      <th>location</th>\n",
              "      <th>text</th>\n",
              "      <th>target</th>\n",
              "    </tr>\n",
              "  </thead>\n",
              "  <tbody>\n",
              "    <tr>\n",
              "      <th>0</th>\n",
              "      <td>1</td>\n",
              "      <td>NaN</td>\n",
              "      <td>NaN</td>\n",
              "      <td>Our Deeds are the Reason of this #earthquake M...</td>\n",
              "      <td>1</td>\n",
              "    </tr>\n",
              "    <tr>\n",
              "      <th>1</th>\n",
              "      <td>4</td>\n",
              "      <td>NaN</td>\n",
              "      <td>NaN</td>\n",
              "      <td>Forest fire near La Ronge Sask. Canada</td>\n",
              "      <td>1</td>\n",
              "    </tr>\n",
              "    <tr>\n",
              "      <th>2</th>\n",
              "      <td>5</td>\n",
              "      <td>NaN</td>\n",
              "      <td>NaN</td>\n",
              "      <td>All residents asked to 'shelter in place' are ...</td>\n",
              "      <td>1</td>\n",
              "    </tr>\n",
              "    <tr>\n",
              "      <th>3</th>\n",
              "      <td>6</td>\n",
              "      <td>NaN</td>\n",
              "      <td>NaN</td>\n",
              "      <td>13,000 people receive #wildfires evacuation or...</td>\n",
              "      <td>1</td>\n",
              "    </tr>\n",
              "    <tr>\n",
              "      <th>4</th>\n",
              "      <td>7</td>\n",
              "      <td>NaN</td>\n",
              "      <td>NaN</td>\n",
              "      <td>Just got sent this photo from Ruby #Alaska as ...</td>\n",
              "      <td>1</td>\n",
              "    </tr>\n",
              "  </tbody>\n",
              "</table>\n",
              "</div>\n",
              "      <button class=\"colab-df-convert\" onclick=\"convertToInteractive('df-4bddcd49-342a-4df0-a448-f4d39fba02de')\"\n",
              "              title=\"Convert this dataframe to an interactive table.\"\n",
              "              style=\"display:none;\">\n",
              "        \n",
              "  <svg xmlns=\"http://www.w3.org/2000/svg\" height=\"24px\"viewBox=\"0 0 24 24\"\n",
              "       width=\"24px\">\n",
              "    <path d=\"M0 0h24v24H0V0z\" fill=\"none\"/>\n",
              "    <path d=\"M18.56 5.44l.94 2.06.94-2.06 2.06-.94-2.06-.94-.94-2.06-.94 2.06-2.06.94zm-11 1L8.5 8.5l.94-2.06 2.06-.94-2.06-.94L8.5 2.5l-.94 2.06-2.06.94zm10 10l.94 2.06.94-2.06 2.06-.94-2.06-.94-.94-2.06-.94 2.06-2.06.94z\"/><path d=\"M17.41 7.96l-1.37-1.37c-.4-.4-.92-.59-1.43-.59-.52 0-1.04.2-1.43.59L10.3 9.45l-7.72 7.72c-.78.78-.78 2.05 0 2.83L4 21.41c.39.39.9.59 1.41.59.51 0 1.02-.2 1.41-.59l7.78-7.78 2.81-2.81c.8-.78.8-2.07 0-2.86zM5.41 20L4 18.59l7.72-7.72 1.47 1.35L5.41 20z\"/>\n",
              "  </svg>\n",
              "      </button>\n",
              "      \n",
              "  <style>\n",
              "    .colab-df-container {\n",
              "      display:flex;\n",
              "      flex-wrap:wrap;\n",
              "      gap: 12px;\n",
              "    }\n",
              "\n",
              "    .colab-df-convert {\n",
              "      background-color: #E8F0FE;\n",
              "      border: none;\n",
              "      border-radius: 50%;\n",
              "      cursor: pointer;\n",
              "      display: none;\n",
              "      fill: #1967D2;\n",
              "      height: 32px;\n",
              "      padding: 0 0 0 0;\n",
              "      width: 32px;\n",
              "    }\n",
              "\n",
              "    .colab-df-convert:hover {\n",
              "      background-color: #E2EBFA;\n",
              "      box-shadow: 0px 1px 2px rgba(60, 64, 67, 0.3), 0px 1px 3px 1px rgba(60, 64, 67, 0.15);\n",
              "      fill: #174EA6;\n",
              "    }\n",
              "\n",
              "    [theme=dark] .colab-df-convert {\n",
              "      background-color: #3B4455;\n",
              "      fill: #D2E3FC;\n",
              "    }\n",
              "\n",
              "    [theme=dark] .colab-df-convert:hover {\n",
              "      background-color: #434B5C;\n",
              "      box-shadow: 0px 1px 3px 1px rgba(0, 0, 0, 0.15);\n",
              "      filter: drop-shadow(0px 1px 2px rgba(0, 0, 0, 0.3));\n",
              "      fill: #FFFFFF;\n",
              "    }\n",
              "  </style>\n",
              "\n",
              "      <script>\n",
              "        const buttonEl =\n",
              "          document.querySelector('#df-4bddcd49-342a-4df0-a448-f4d39fba02de button.colab-df-convert');\n",
              "        buttonEl.style.display =\n",
              "          google.colab.kernel.accessAllowed ? 'block' : 'none';\n",
              "\n",
              "        async function convertToInteractive(key) {\n",
              "          const element = document.querySelector('#df-4bddcd49-342a-4df0-a448-f4d39fba02de');\n",
              "          const dataTable =\n",
              "            await google.colab.kernel.invokeFunction('convertToInteractive',\n",
              "                                                     [key], {});\n",
              "          if (!dataTable) return;\n",
              "\n",
              "          const docLinkHtml = 'Like what you see? Visit the ' +\n",
              "            '<a target=\"_blank\" href=https://colab.research.google.com/notebooks/data_table.ipynb>data table notebook</a>'\n",
              "            + ' to learn more about interactive tables.';\n",
              "          element.innerHTML = '';\n",
              "          dataTable['output_type'] = 'display_data';\n",
              "          await google.colab.output.renderOutput(dataTable, element);\n",
              "          const docLink = document.createElement('div');\n",
              "          docLink.innerHTML = docLinkHtml;\n",
              "          element.appendChild(docLink);\n",
              "        }\n",
              "      </script>\n",
              "    </div>\n",
              "  </div>\n",
              "  "
            ],
            "text/plain": [
              "   id keyword  ...                                               text target\n",
              "0   1     NaN  ...  Our Deeds are the Reason of this #earthquake M...      1\n",
              "1   4     NaN  ...             Forest fire near La Ronge Sask. Canada      1\n",
              "2   5     NaN  ...  All residents asked to 'shelter in place' are ...      1\n",
              "3   6     NaN  ...  13,000 people receive #wildfires evacuation or...      1\n",
              "4   7     NaN  ...  Just got sent this photo from Ruby #Alaska as ...      1\n",
              "\n",
              "[5 rows x 5 columns]"
            ]
          },
          "metadata": {},
          "execution_count": 3
        }
      ]
    },
    {
      "cell_type": "code",
      "source": [
        "df_train.shape"
      ],
      "metadata": {
        "colab": {
          "base_uri": "https://localhost:8080/"
        },
        "id": "2yJN3VaWFkc9",
        "outputId": "2c1f3ab2-c10f-4d19-f0a0-3ed1dd975081"
      },
      "execution_count": null,
      "outputs": [
        {
          "output_type": "execute_result",
          "data": {
            "text/plain": [
              "(7613, 5)"
            ]
          },
          "metadata": {},
          "execution_count": 4
        }
      ]
    },
    {
      "cell_type": "code",
      "source": [
        "df_train.info()"
      ],
      "metadata": {
        "colab": {
          "base_uri": "https://localhost:8080/"
        },
        "id": "ztxUvwzGFgIF",
        "outputId": "62480f3c-9246-4daf-a307-1736d6389991"
      },
      "execution_count": null,
      "outputs": [
        {
          "output_type": "stream",
          "name": "stdout",
          "text": [
            "<class 'pandas.core.frame.DataFrame'>\n",
            "RangeIndex: 7613 entries, 0 to 7612\n",
            "Data columns (total 5 columns):\n",
            " #   Column    Non-Null Count  Dtype \n",
            "---  ------    --------------  ----- \n",
            " 0   id        7613 non-null   int64 \n",
            " 1   keyword   7552 non-null   object\n",
            " 2   location  5080 non-null   object\n",
            " 3   text      7613 non-null   object\n",
            " 4   target    7613 non-null   int64 \n",
            "dtypes: int64(2), object(3)\n",
            "memory usage: 297.5+ KB\n"
          ]
        }
      ]
    },
    {
      "cell_type": "code",
      "metadata": {
        "id": "fFutdPp3gvEX",
        "colab": {
          "base_uri": "https://localhost:8080/",
          "height": 206
        },
        "outputId": "b56ca439-5a39-4dd6-ef0f-13cb16353dd8"
      },
      "source": [
        "# on va supprimer la colonne id qui n'est pas nécessaire pour l'analyse \n",
        "df_train.drop(columns=\"id\", axis = 1, inplace = True)\n",
        "df_train.head()"
      ],
      "execution_count": null,
      "outputs": [
        {
          "output_type": "execute_result",
          "data": {
            "text/html": [
              "\n",
              "  <div id=\"df-ba54e853-9e73-4fe1-b2a9-baff21632c6d\">\n",
              "    <div class=\"colab-df-container\">\n",
              "      <div>\n",
              "<style scoped>\n",
              "    .dataframe tbody tr th:only-of-type {\n",
              "        vertical-align: middle;\n",
              "    }\n",
              "\n",
              "    .dataframe tbody tr th {\n",
              "        vertical-align: top;\n",
              "    }\n",
              "\n",
              "    .dataframe thead th {\n",
              "        text-align: right;\n",
              "    }\n",
              "</style>\n",
              "<table border=\"1\" class=\"dataframe\">\n",
              "  <thead>\n",
              "    <tr style=\"text-align: right;\">\n",
              "      <th></th>\n",
              "      <th>keyword</th>\n",
              "      <th>location</th>\n",
              "      <th>text</th>\n",
              "      <th>target</th>\n",
              "    </tr>\n",
              "  </thead>\n",
              "  <tbody>\n",
              "    <tr>\n",
              "      <th>0</th>\n",
              "      <td>NaN</td>\n",
              "      <td>NaN</td>\n",
              "      <td>Our Deeds are the Reason of this #earthquake M...</td>\n",
              "      <td>1</td>\n",
              "    </tr>\n",
              "    <tr>\n",
              "      <th>1</th>\n",
              "      <td>NaN</td>\n",
              "      <td>NaN</td>\n",
              "      <td>Forest fire near La Ronge Sask. Canada</td>\n",
              "      <td>1</td>\n",
              "    </tr>\n",
              "    <tr>\n",
              "      <th>2</th>\n",
              "      <td>NaN</td>\n",
              "      <td>NaN</td>\n",
              "      <td>All residents asked to 'shelter in place' are ...</td>\n",
              "      <td>1</td>\n",
              "    </tr>\n",
              "    <tr>\n",
              "      <th>3</th>\n",
              "      <td>NaN</td>\n",
              "      <td>NaN</td>\n",
              "      <td>13,000 people receive #wildfires evacuation or...</td>\n",
              "      <td>1</td>\n",
              "    </tr>\n",
              "    <tr>\n",
              "      <th>4</th>\n",
              "      <td>NaN</td>\n",
              "      <td>NaN</td>\n",
              "      <td>Just got sent this photo from Ruby #Alaska as ...</td>\n",
              "      <td>1</td>\n",
              "    </tr>\n",
              "  </tbody>\n",
              "</table>\n",
              "</div>\n",
              "      <button class=\"colab-df-convert\" onclick=\"convertToInteractive('df-ba54e853-9e73-4fe1-b2a9-baff21632c6d')\"\n",
              "              title=\"Convert this dataframe to an interactive table.\"\n",
              "              style=\"display:none;\">\n",
              "        \n",
              "  <svg xmlns=\"http://www.w3.org/2000/svg\" height=\"24px\"viewBox=\"0 0 24 24\"\n",
              "       width=\"24px\">\n",
              "    <path d=\"M0 0h24v24H0V0z\" fill=\"none\"/>\n",
              "    <path d=\"M18.56 5.44l.94 2.06.94-2.06 2.06-.94-2.06-.94-.94-2.06-.94 2.06-2.06.94zm-11 1L8.5 8.5l.94-2.06 2.06-.94-2.06-.94L8.5 2.5l-.94 2.06-2.06.94zm10 10l.94 2.06.94-2.06 2.06-.94-2.06-.94-.94-2.06-.94 2.06-2.06.94z\"/><path d=\"M17.41 7.96l-1.37-1.37c-.4-.4-.92-.59-1.43-.59-.52 0-1.04.2-1.43.59L10.3 9.45l-7.72 7.72c-.78.78-.78 2.05 0 2.83L4 21.41c.39.39.9.59 1.41.59.51 0 1.02-.2 1.41-.59l7.78-7.78 2.81-2.81c.8-.78.8-2.07 0-2.86zM5.41 20L4 18.59l7.72-7.72 1.47 1.35L5.41 20z\"/>\n",
              "  </svg>\n",
              "      </button>\n",
              "      \n",
              "  <style>\n",
              "    .colab-df-container {\n",
              "      display:flex;\n",
              "      flex-wrap:wrap;\n",
              "      gap: 12px;\n",
              "    }\n",
              "\n",
              "    .colab-df-convert {\n",
              "      background-color: #E8F0FE;\n",
              "      border: none;\n",
              "      border-radius: 50%;\n",
              "      cursor: pointer;\n",
              "      display: none;\n",
              "      fill: #1967D2;\n",
              "      height: 32px;\n",
              "      padding: 0 0 0 0;\n",
              "      width: 32px;\n",
              "    }\n",
              "\n",
              "    .colab-df-convert:hover {\n",
              "      background-color: #E2EBFA;\n",
              "      box-shadow: 0px 1px 2px rgba(60, 64, 67, 0.3), 0px 1px 3px 1px rgba(60, 64, 67, 0.15);\n",
              "      fill: #174EA6;\n",
              "    }\n",
              "\n",
              "    [theme=dark] .colab-df-convert {\n",
              "      background-color: #3B4455;\n",
              "      fill: #D2E3FC;\n",
              "    }\n",
              "\n",
              "    [theme=dark] .colab-df-convert:hover {\n",
              "      background-color: #434B5C;\n",
              "      box-shadow: 0px 1px 3px 1px rgba(0, 0, 0, 0.15);\n",
              "      filter: drop-shadow(0px 1px 2px rgba(0, 0, 0, 0.3));\n",
              "      fill: #FFFFFF;\n",
              "    }\n",
              "  </style>\n",
              "\n",
              "      <script>\n",
              "        const buttonEl =\n",
              "          document.querySelector('#df-ba54e853-9e73-4fe1-b2a9-baff21632c6d button.colab-df-convert');\n",
              "        buttonEl.style.display =\n",
              "          google.colab.kernel.accessAllowed ? 'block' : 'none';\n",
              "\n",
              "        async function convertToInteractive(key) {\n",
              "          const element = document.querySelector('#df-ba54e853-9e73-4fe1-b2a9-baff21632c6d');\n",
              "          const dataTable =\n",
              "            await google.colab.kernel.invokeFunction('convertToInteractive',\n",
              "                                                     [key], {});\n",
              "          if (!dataTable) return;\n",
              "\n",
              "          const docLinkHtml = 'Like what you see? Visit the ' +\n",
              "            '<a target=\"_blank\" href=https://colab.research.google.com/notebooks/data_table.ipynb>data table notebook</a>'\n",
              "            + ' to learn more about interactive tables.';\n",
              "          element.innerHTML = '';\n",
              "          dataTable['output_type'] = 'display_data';\n",
              "          await google.colab.output.renderOutput(dataTable, element);\n",
              "          const docLink = document.createElement('div');\n",
              "          docLink.innerHTML = docLinkHtml;\n",
              "          element.appendChild(docLink);\n",
              "        }\n",
              "      </script>\n",
              "    </div>\n",
              "  </div>\n",
              "  "
            ],
            "text/plain": [
              "  keyword location                                               text  target\n",
              "0     NaN      NaN  Our Deeds are the Reason of this #earthquake M...       1\n",
              "1     NaN      NaN             Forest fire near La Ronge Sask. Canada       1\n",
              "2     NaN      NaN  All residents asked to 'shelter in place' are ...       1\n",
              "3     NaN      NaN  13,000 people receive #wildfires evacuation or...       1\n",
              "4     NaN      NaN  Just got sent this photo from Ruby #Alaska as ...       1"
            ]
          },
          "metadata": {},
          "execution_count": 6
        }
      ]
    },
    {
      "cell_type": "code",
      "metadata": {
        "id": "Y-Dcp4qmgvHF",
        "colab": {
          "base_uri": "https://localhost:8080/",
          "height": 423
        },
        "outputId": "52986832-074c-4e28-a50a-f9b8ef8c5c52"
      },
      "source": [
        "#On vérifie s'il y a des doublons dans les enregistrements \n",
        "duplicates_record = df_train[df_train.duplicated(subset=['text'], keep=False)] #subset nous permet d'identifier la colonne dans laquelle on veut \n",
        "# chercher les doublons, keep = false il va nous afficher les doublons en true \n",
        "duplicates_record"
      ],
      "execution_count": null,
      "outputs": [
        {
          "output_type": "execute_result",
          "data": {
            "text/html": [
              "\n",
              "  <div id=\"df-26a7e2f0-21d6-4155-9c2b-e7c8c2a6841c\">\n",
              "    <div class=\"colab-df-container\">\n",
              "      <div>\n",
              "<style scoped>\n",
              "    .dataframe tbody tr th:only-of-type {\n",
              "        vertical-align: middle;\n",
              "    }\n",
              "\n",
              "    .dataframe tbody tr th {\n",
              "        vertical-align: top;\n",
              "    }\n",
              "\n",
              "    .dataframe thead th {\n",
              "        text-align: right;\n",
              "    }\n",
              "</style>\n",
              "<table border=\"1\" class=\"dataframe\">\n",
              "  <thead>\n",
              "    <tr style=\"text-align: right;\">\n",
              "      <th></th>\n",
              "      <th>keyword</th>\n",
              "      <th>location</th>\n",
              "      <th>text</th>\n",
              "      <th>target</th>\n",
              "    </tr>\n",
              "  </thead>\n",
              "  <tbody>\n",
              "    <tr>\n",
              "      <th>40</th>\n",
              "      <td>ablaze</td>\n",
              "      <td>Live On Webcam</td>\n",
              "      <td>Check these out: http://t.co/rOI2NSmEJJ http:/...</td>\n",
              "      <td>0</td>\n",
              "    </tr>\n",
              "    <tr>\n",
              "      <th>48</th>\n",
              "      <td>ablaze</td>\n",
              "      <td>Live On Webcam</td>\n",
              "      <td>Check these out: http://t.co/rOI2NSmEJJ http:/...</td>\n",
              "      <td>0</td>\n",
              "    </tr>\n",
              "    <tr>\n",
              "      <th>106</th>\n",
              "      <td>aftershock</td>\n",
              "      <td>US</td>\n",
              "      <td>320 [IR] ICEMOON [AFTERSHOCK] | http://t.co/vA...</td>\n",
              "      <td>0</td>\n",
              "    </tr>\n",
              "    <tr>\n",
              "      <th>115</th>\n",
              "      <td>aftershock</td>\n",
              "      <td>US</td>\n",
              "      <td>320 [IR] ICEMOON [AFTERSHOCK] | http://t.co/vA...</td>\n",
              "      <td>0</td>\n",
              "    </tr>\n",
              "    <tr>\n",
              "      <th>118</th>\n",
              "      <td>aftershock</td>\n",
              "      <td>Switzerland</td>\n",
              "      <td>320 [IR] ICEMOON [AFTERSHOCK] | http://t.co/TH...</td>\n",
              "      <td>0</td>\n",
              "    </tr>\n",
              "    <tr>\n",
              "      <th>...</th>\n",
              "      <td>...</td>\n",
              "      <td>...</td>\n",
              "      <td>...</td>\n",
              "      <td>...</td>\n",
              "    </tr>\n",
              "    <tr>\n",
              "      <th>7600</th>\n",
              "      <td>NaN</td>\n",
              "      <td>NaN</td>\n",
              "      <td>Evacuation order lifted for town of Roosevelt:...</td>\n",
              "      <td>1</td>\n",
              "    </tr>\n",
              "    <tr>\n",
              "      <th>7607</th>\n",
              "      <td>NaN</td>\n",
              "      <td>NaN</td>\n",
              "      <td>#stormchase Violent Record Breaking EF-5 El Re...</td>\n",
              "      <td>1</td>\n",
              "    </tr>\n",
              "    <tr>\n",
              "      <th>7609</th>\n",
              "      <td>NaN</td>\n",
              "      <td>NaN</td>\n",
              "      <td>@aria_ahrary @TheTawniest The out of control w...</td>\n",
              "      <td>1</td>\n",
              "    </tr>\n",
              "    <tr>\n",
              "      <th>7610</th>\n",
              "      <td>NaN</td>\n",
              "      <td>NaN</td>\n",
              "      <td>M1.94 [01:04 UTC]?5km S of Volcano Hawaii. htt...</td>\n",
              "      <td>1</td>\n",
              "    </tr>\n",
              "    <tr>\n",
              "      <th>7611</th>\n",
              "      <td>NaN</td>\n",
              "      <td>NaN</td>\n",
              "      <td>Police investigating after an e-bike collided ...</td>\n",
              "      <td>1</td>\n",
              "    </tr>\n",
              "  </tbody>\n",
              "</table>\n",
              "<p>179 rows × 4 columns</p>\n",
              "</div>\n",
              "      <button class=\"colab-df-convert\" onclick=\"convertToInteractive('df-26a7e2f0-21d6-4155-9c2b-e7c8c2a6841c')\"\n",
              "              title=\"Convert this dataframe to an interactive table.\"\n",
              "              style=\"display:none;\">\n",
              "        \n",
              "  <svg xmlns=\"http://www.w3.org/2000/svg\" height=\"24px\"viewBox=\"0 0 24 24\"\n",
              "       width=\"24px\">\n",
              "    <path d=\"M0 0h24v24H0V0z\" fill=\"none\"/>\n",
              "    <path d=\"M18.56 5.44l.94 2.06.94-2.06 2.06-.94-2.06-.94-.94-2.06-.94 2.06-2.06.94zm-11 1L8.5 8.5l.94-2.06 2.06-.94-2.06-.94L8.5 2.5l-.94 2.06-2.06.94zm10 10l.94 2.06.94-2.06 2.06-.94-2.06-.94-.94-2.06-.94 2.06-2.06.94z\"/><path d=\"M17.41 7.96l-1.37-1.37c-.4-.4-.92-.59-1.43-.59-.52 0-1.04.2-1.43.59L10.3 9.45l-7.72 7.72c-.78.78-.78 2.05 0 2.83L4 21.41c.39.39.9.59 1.41.59.51 0 1.02-.2 1.41-.59l7.78-7.78 2.81-2.81c.8-.78.8-2.07 0-2.86zM5.41 20L4 18.59l7.72-7.72 1.47 1.35L5.41 20z\"/>\n",
              "  </svg>\n",
              "      </button>\n",
              "      \n",
              "  <style>\n",
              "    .colab-df-container {\n",
              "      display:flex;\n",
              "      flex-wrap:wrap;\n",
              "      gap: 12px;\n",
              "    }\n",
              "\n",
              "    .colab-df-convert {\n",
              "      background-color: #E8F0FE;\n",
              "      border: none;\n",
              "      border-radius: 50%;\n",
              "      cursor: pointer;\n",
              "      display: none;\n",
              "      fill: #1967D2;\n",
              "      height: 32px;\n",
              "      padding: 0 0 0 0;\n",
              "      width: 32px;\n",
              "    }\n",
              "\n",
              "    .colab-df-convert:hover {\n",
              "      background-color: #E2EBFA;\n",
              "      box-shadow: 0px 1px 2px rgba(60, 64, 67, 0.3), 0px 1px 3px 1px rgba(60, 64, 67, 0.15);\n",
              "      fill: #174EA6;\n",
              "    }\n",
              "\n",
              "    [theme=dark] .colab-df-convert {\n",
              "      background-color: #3B4455;\n",
              "      fill: #D2E3FC;\n",
              "    }\n",
              "\n",
              "    [theme=dark] .colab-df-convert:hover {\n",
              "      background-color: #434B5C;\n",
              "      box-shadow: 0px 1px 3px 1px rgba(0, 0, 0, 0.15);\n",
              "      filter: drop-shadow(0px 1px 2px rgba(0, 0, 0, 0.3));\n",
              "      fill: #FFFFFF;\n",
              "    }\n",
              "  </style>\n",
              "\n",
              "      <script>\n",
              "        const buttonEl =\n",
              "          document.querySelector('#df-26a7e2f0-21d6-4155-9c2b-e7c8c2a6841c button.colab-df-convert');\n",
              "        buttonEl.style.display =\n",
              "          google.colab.kernel.accessAllowed ? 'block' : 'none';\n",
              "\n",
              "        async function convertToInteractive(key) {\n",
              "          const element = document.querySelector('#df-26a7e2f0-21d6-4155-9c2b-e7c8c2a6841c');\n",
              "          const dataTable =\n",
              "            await google.colab.kernel.invokeFunction('convertToInteractive',\n",
              "                                                     [key], {});\n",
              "          if (!dataTable) return;\n",
              "\n",
              "          const docLinkHtml = 'Like what you see? Visit the ' +\n",
              "            '<a target=\"_blank\" href=https://colab.research.google.com/notebooks/data_table.ipynb>data table notebook</a>'\n",
              "            + ' to learn more about interactive tables.';\n",
              "          element.innerHTML = '';\n",
              "          dataTable['output_type'] = 'display_data';\n",
              "          await google.colab.output.renderOutput(dataTable, element);\n",
              "          const docLink = document.createElement('div');\n",
              "          docLink.innerHTML = docLinkHtml;\n",
              "          element.appendChild(docLink);\n",
              "        }\n",
              "      </script>\n",
              "    </div>\n",
              "  </div>\n",
              "  "
            ],
            "text/plain": [
              "         keyword  ... target\n",
              "40        ablaze  ...      0\n",
              "48        ablaze  ...      0\n",
              "106   aftershock  ...      0\n",
              "115   aftershock  ...      0\n",
              "118   aftershock  ...      0\n",
              "...          ...  ...    ...\n",
              "7600         NaN  ...      1\n",
              "7607         NaN  ...      1\n",
              "7609         NaN  ...      1\n",
              "7610         NaN  ...      1\n",
              "7611         NaN  ...      1\n",
              "\n",
              "[179 rows x 4 columns]"
            ]
          },
          "metadata": {},
          "execution_count": 7
        }
      ]
    },
    {
      "cell_type": "code",
      "metadata": {
        "id": "gDIzGQeBgvJ-",
        "colab": {
          "base_uri": "https://localhost:8080/",
          "height": 1000
        },
        "outputId": "4868440d-c343-4af2-a287-66998aec538f"
      },
      "source": [
        "#Environ 179 enregistrements en double sont trouvés. Considérons maintenant (Texte, cible) et ne gardons que le premier\n",
        "#enregistrement de l'enregistrement en double et supprimez le reste\n",
        "df_train.drop_duplicates(subset = ['text','target'], keep = 'first', inplace = True, ignore_index = True)\n",
        "duplicates_record = df_train[df_train.duplicated(subset=['text'], keep=False)]# on refait encore une fois duplicate pr voir s'il nous reste d'autres doublons \n",
        "duplicates_record"
      ],
      "execution_count": null,
      "outputs": [
        {
          "output_type": "execute_result",
          "data": {
            "text/html": [
              "\n",
              "  <div id=\"df-56260faf-5e8d-467d-afcf-9c74c3096d4e\">\n",
              "    <div class=\"colab-df-container\">\n",
              "      <div>\n",
              "<style scoped>\n",
              "    .dataframe tbody tr th:only-of-type {\n",
              "        vertical-align: middle;\n",
              "    }\n",
              "\n",
              "    .dataframe tbody tr th {\n",
              "        vertical-align: top;\n",
              "    }\n",
              "\n",
              "    .dataframe thead th {\n",
              "        text-align: right;\n",
              "    }\n",
              "</style>\n",
              "<table border=\"1\" class=\"dataframe\">\n",
              "  <thead>\n",
              "    <tr style=\"text-align: right;\">\n",
              "      <th></th>\n",
              "      <th>keyword</th>\n",
              "      <th>location</th>\n",
              "      <th>text</th>\n",
              "      <th>target</th>\n",
              "    </tr>\n",
              "  </thead>\n",
              "  <tbody>\n",
              "    <tr>\n",
              "      <th>606</th>\n",
              "      <td>bioterrorism</td>\n",
              "      <td>NaN</td>\n",
              "      <td>To fight bioterrorism sir.</td>\n",
              "      <td>1</td>\n",
              "    </tr>\n",
              "    <tr>\n",
              "      <th>620</th>\n",
              "      <td>bioterrorism</td>\n",
              "      <td>NaN</td>\n",
              "      <td>To fight bioterrorism sir.</td>\n",
              "      <td>0</td>\n",
              "    </tr>\n",
              "    <tr>\n",
              "      <th>1190</th>\n",
              "      <td>buildings%20burning</td>\n",
              "      <td>Mackay, QLD, Australia</td>\n",
              "      <td>Mmmmmm I'm burning.... I'm burning buildings I...</td>\n",
              "      <td>1</td>\n",
              "    </tr>\n",
              "    <tr>\n",
              "      <th>1207</th>\n",
              "      <td>buildings%20burning</td>\n",
              "      <td>Epic City, BB.</td>\n",
              "      <td>I Pledge Allegiance To The P.O.P.E. And The Bu...</td>\n",
              "      <td>0</td>\n",
              "    </tr>\n",
              "    <tr>\n",
              "      <th>1214</th>\n",
              "      <td>buildings%20burning</td>\n",
              "      <td>dallas</td>\n",
              "      <td>like for the music video I want some real acti...</td>\n",
              "      <td>1</td>\n",
              "    </tr>\n",
              "    <tr>\n",
              "      <th>1323</th>\n",
              "      <td>burning%20buildings</td>\n",
              "      <td>Mackay, QLD, Australia</td>\n",
              "      <td>Mmmmmm I'm burning.... I'm burning buildings I...</td>\n",
              "      <td>0</td>\n",
              "    </tr>\n",
              "    <tr>\n",
              "      <th>1337</th>\n",
              "      <td>burning%20buildings</td>\n",
              "      <td>dallas</td>\n",
              "      <td>like for the music video I want some real acti...</td>\n",
              "      <td>0</td>\n",
              "    </tr>\n",
              "    <tr>\n",
              "      <th>1351</th>\n",
              "      <td>burning%20buildings</td>\n",
              "      <td>Epic City, BB.</td>\n",
              "      <td>I Pledge Allegiance To The P.O.P.E. And The Bu...</td>\n",
              "      <td>1</td>\n",
              "    </tr>\n",
              "    <tr>\n",
              "      <th>2802</th>\n",
              "      <td>displaced</td>\n",
              "      <td>Pedophile hunting ground</td>\n",
              "      <td>.POTUS #StrategicPatience is a strategy for #G...</td>\n",
              "      <td>1</td>\n",
              "    </tr>\n",
              "    <tr>\n",
              "      <th>2803</th>\n",
              "      <td>displaced</td>\n",
              "      <td>Pedophile hunting ground</td>\n",
              "      <td>.POTUS #StrategicPatience is a strategy for #G...</td>\n",
              "      <td>0</td>\n",
              "    </tr>\n",
              "    <tr>\n",
              "      <th>3209</th>\n",
              "      <td>engulfed</td>\n",
              "      <td>NaN</td>\n",
              "      <td>He came to a land which was engulfed in tribal...</td>\n",
              "      <td>0</td>\n",
              "    </tr>\n",
              "    <tr>\n",
              "      <th>3212</th>\n",
              "      <td>engulfed</td>\n",
              "      <td>Kuwait</td>\n",
              "      <td>He came to a land which was engulfed in tribal...</td>\n",
              "      <td>1</td>\n",
              "    </tr>\n",
              "    <tr>\n",
              "      <th>3936</th>\n",
              "      <td>floods</td>\n",
              "      <td>NaN</td>\n",
              "      <td>Who is bringing the tornadoes and floods. Who ...</td>\n",
              "      <td>1</td>\n",
              "    </tr>\n",
              "    <tr>\n",
              "      <th>3964</th>\n",
              "      <td>floods</td>\n",
              "      <td>NaN</td>\n",
              "      <td>Who is bringing the tornadoes and floods. Who ...</td>\n",
              "      <td>0</td>\n",
              "    </tr>\n",
              "    <tr>\n",
              "      <th>4171</th>\n",
              "      <td>hazardous</td>\n",
              "      <td>NaN</td>\n",
              "      <td>#foodscare #offers2go #NestleIndia slips into ...</td>\n",
              "      <td>1</td>\n",
              "    </tr>\n",
              "    <tr>\n",
              "      <th>4182</th>\n",
              "      <td>hazardous</td>\n",
              "      <td>NaN</td>\n",
              "      <td>Caution: breathing may be hazardous to your he...</td>\n",
              "      <td>1</td>\n",
              "    </tr>\n",
              "    <tr>\n",
              "      <th>4185</th>\n",
              "      <td>hazardous</td>\n",
              "      <td>NaN</td>\n",
              "      <td>Caution: breathing may be hazardous to your he...</td>\n",
              "      <td>0</td>\n",
              "    </tr>\n",
              "    <tr>\n",
              "      <th>4193</th>\n",
              "      <td>hazardous</td>\n",
              "      <td>New Delhi, Delhi</td>\n",
              "      <td>#foodscare #offers2go #NestleIndia slips into ...</td>\n",
              "      <td>0</td>\n",
              "    </tr>\n",
              "    <tr>\n",
              "      <th>4233</th>\n",
              "      <td>hellfire</td>\n",
              "      <td>NaN</td>\n",
              "      <td>The Prophet (peace be upon him) said 'Save you...</td>\n",
              "      <td>0</td>\n",
              "    </tr>\n",
              "    <tr>\n",
              "      <th>4234</th>\n",
              "      <td>hellfire</td>\n",
              "      <td>NaN</td>\n",
              "      <td>Hellfire is surrounded by desires so be carefu...</td>\n",
              "      <td>0</td>\n",
              "    </tr>\n",
              "    <tr>\n",
              "      <th>4238</th>\n",
              "      <td>hellfire</td>\n",
              "      <td>Jubail IC, Saudi Arabia.</td>\n",
              "      <td>#Allah describes piling up #wealth thinking it...</td>\n",
              "      <td>0</td>\n",
              "    </tr>\n",
              "    <tr>\n",
              "      <th>4239</th>\n",
              "      <td>hellfire</td>\n",
              "      <td>NaN</td>\n",
              "      <td>The Prophet (peace be upon him) said 'Save you...</td>\n",
              "      <td>1</td>\n",
              "    </tr>\n",
              "    <tr>\n",
              "      <th>4249</th>\n",
              "      <td>hellfire</td>\n",
              "      <td>NaN</td>\n",
              "      <td>Hellfire is surrounded by desires so be carefu...</td>\n",
              "      <td>1</td>\n",
              "    </tr>\n",
              "    <tr>\n",
              "      <th>4250</th>\n",
              "      <td>hellfire</td>\n",
              "      <td>NaN</td>\n",
              "      <td>Hellfire! We donÛªt even want to think about ...</td>\n",
              "      <td>0</td>\n",
              "    </tr>\n",
              "    <tr>\n",
              "      <th>4253</th>\n",
              "      <td>hellfire</td>\n",
              "      <td>?????? ???? ??????</td>\n",
              "      <td>#Allah describes piling up #wealth thinking it...</td>\n",
              "      <td>1</td>\n",
              "    </tr>\n",
              "    <tr>\n",
              "      <th>4259</th>\n",
              "      <td>hellfire</td>\n",
              "      <td>Riyadh ')</td>\n",
              "      <td>Hellfire! We donÛªt even want to think about ...</td>\n",
              "      <td>1</td>\n",
              "    </tr>\n",
              "    <tr>\n",
              "      <th>4317</th>\n",
              "      <td>hijacker</td>\n",
              "      <td>worldwide</td>\n",
              "      <td>RT NotExplained: The only known image of infam...</td>\n",
              "      <td>0</td>\n",
              "    </tr>\n",
              "    <tr>\n",
              "      <th>4319</th>\n",
              "      <td>hijacker</td>\n",
              "      <td>worldwide</td>\n",
              "      <td>RT NotExplained: The only known image of infam...</td>\n",
              "      <td>1</td>\n",
              "    </tr>\n",
              "    <tr>\n",
              "      <th>4535</th>\n",
              "      <td>injury</td>\n",
              "      <td>NaN</td>\n",
              "      <td>CLEARED:incident with injury:I-495  inner loop...</td>\n",
              "      <td>1</td>\n",
              "    </tr>\n",
              "    <tr>\n",
              "      <th>4554</th>\n",
              "      <td>injury</td>\n",
              "      <td>NaN</td>\n",
              "      <td>CLEARED:incident with injury:I-495  inner loop...</td>\n",
              "      <td>0</td>\n",
              "    </tr>\n",
              "    <tr>\n",
              "      <th>5552</th>\n",
              "      <td>refugees</td>\n",
              "      <td>NaN</td>\n",
              "      <td>wowo--=== 12000 Nigerian refugees repatriated ...</td>\n",
              "      <td>1</td>\n",
              "    </tr>\n",
              "    <tr>\n",
              "      <th>5573</th>\n",
              "      <td>refugees</td>\n",
              "      <td>NaN</td>\n",
              "      <td>wowo--=== 12000 Nigerian refugees repatriated ...</td>\n",
              "      <td>0</td>\n",
              "    </tr>\n",
              "    <tr>\n",
              "      <th>6018</th>\n",
              "      <td>sinking</td>\n",
              "      <td>Every Where in the World</td>\n",
              "      <td>that horrible sinking feeling when youÛªve be...</td>\n",
              "      <td>1</td>\n",
              "    </tr>\n",
              "    <tr>\n",
              "      <th>6021</th>\n",
              "      <td>sinking</td>\n",
              "      <td>NaN</td>\n",
              "      <td>that horrible sinking feeling when youÛªve be...</td>\n",
              "      <td>0</td>\n",
              "    </tr>\n",
              "    <tr>\n",
              "      <th>6533</th>\n",
              "      <td>terrorism</td>\n",
              "      <td>Jeddah_Saudi Arabia.</td>\n",
              "      <td>In #islam saving a person is equal in reward t...</td>\n",
              "      <td>0</td>\n",
              "    </tr>\n",
              "    <tr>\n",
              "      <th>6535</th>\n",
              "      <td>terrorism</td>\n",
              "      <td>Riyadh</td>\n",
              "      <td>In #islam saving a person is equal in reward t...</td>\n",
              "      <td>1</td>\n",
              "    </tr>\n",
              "  </tbody>\n",
              "</table>\n",
              "</div>\n",
              "      <button class=\"colab-df-convert\" onclick=\"convertToInteractive('df-56260faf-5e8d-467d-afcf-9c74c3096d4e')\"\n",
              "              title=\"Convert this dataframe to an interactive table.\"\n",
              "              style=\"display:none;\">\n",
              "        \n",
              "  <svg xmlns=\"http://www.w3.org/2000/svg\" height=\"24px\"viewBox=\"0 0 24 24\"\n",
              "       width=\"24px\">\n",
              "    <path d=\"M0 0h24v24H0V0z\" fill=\"none\"/>\n",
              "    <path d=\"M18.56 5.44l.94 2.06.94-2.06 2.06-.94-2.06-.94-.94-2.06-.94 2.06-2.06.94zm-11 1L8.5 8.5l.94-2.06 2.06-.94-2.06-.94L8.5 2.5l-.94 2.06-2.06.94zm10 10l.94 2.06.94-2.06 2.06-.94-2.06-.94-.94-2.06-.94 2.06-2.06.94z\"/><path d=\"M17.41 7.96l-1.37-1.37c-.4-.4-.92-.59-1.43-.59-.52 0-1.04.2-1.43.59L10.3 9.45l-7.72 7.72c-.78.78-.78 2.05 0 2.83L4 21.41c.39.39.9.59 1.41.59.51 0 1.02-.2 1.41-.59l7.78-7.78 2.81-2.81c.8-.78.8-2.07 0-2.86zM5.41 20L4 18.59l7.72-7.72 1.47 1.35L5.41 20z\"/>\n",
              "  </svg>\n",
              "      </button>\n",
              "      \n",
              "  <style>\n",
              "    .colab-df-container {\n",
              "      display:flex;\n",
              "      flex-wrap:wrap;\n",
              "      gap: 12px;\n",
              "    }\n",
              "\n",
              "    .colab-df-convert {\n",
              "      background-color: #E8F0FE;\n",
              "      border: none;\n",
              "      border-radius: 50%;\n",
              "      cursor: pointer;\n",
              "      display: none;\n",
              "      fill: #1967D2;\n",
              "      height: 32px;\n",
              "      padding: 0 0 0 0;\n",
              "      width: 32px;\n",
              "    }\n",
              "\n",
              "    .colab-df-convert:hover {\n",
              "      background-color: #E2EBFA;\n",
              "      box-shadow: 0px 1px 2px rgba(60, 64, 67, 0.3), 0px 1px 3px 1px rgba(60, 64, 67, 0.15);\n",
              "      fill: #174EA6;\n",
              "    }\n",
              "\n",
              "    [theme=dark] .colab-df-convert {\n",
              "      background-color: #3B4455;\n",
              "      fill: #D2E3FC;\n",
              "    }\n",
              "\n",
              "    [theme=dark] .colab-df-convert:hover {\n",
              "      background-color: #434B5C;\n",
              "      box-shadow: 0px 1px 3px 1px rgba(0, 0, 0, 0.15);\n",
              "      filter: drop-shadow(0px 1px 2px rgba(0, 0, 0, 0.3));\n",
              "      fill: #FFFFFF;\n",
              "    }\n",
              "  </style>\n",
              "\n",
              "      <script>\n",
              "        const buttonEl =\n",
              "          document.querySelector('#df-56260faf-5e8d-467d-afcf-9c74c3096d4e button.colab-df-convert');\n",
              "        buttonEl.style.display =\n",
              "          google.colab.kernel.accessAllowed ? 'block' : 'none';\n",
              "\n",
              "        async function convertToInteractive(key) {\n",
              "          const element = document.querySelector('#df-56260faf-5e8d-467d-afcf-9c74c3096d4e');\n",
              "          const dataTable =\n",
              "            await google.colab.kernel.invokeFunction('convertToInteractive',\n",
              "                                                     [key], {});\n",
              "          if (!dataTable) return;\n",
              "\n",
              "          const docLinkHtml = 'Like what you see? Visit the ' +\n",
              "            '<a target=\"_blank\" href=https://colab.research.google.com/notebooks/data_table.ipynb>data table notebook</a>'\n",
              "            + ' to learn more about interactive tables.';\n",
              "          element.innerHTML = '';\n",
              "          dataTable['output_type'] = 'display_data';\n",
              "          await google.colab.output.renderOutput(dataTable, element);\n",
              "          const docLink = document.createElement('div');\n",
              "          docLink.innerHTML = docLinkHtml;\n",
              "          element.appendChild(docLink);\n",
              "        }\n",
              "      </script>\n",
              "    </div>\n",
              "  </div>\n",
              "  "
            ],
            "text/plain": [
              "                  keyword  ... target\n",
              "606          bioterrorism  ...      1\n",
              "620          bioterrorism  ...      0\n",
              "1190  buildings%20burning  ...      1\n",
              "1207  buildings%20burning  ...      0\n",
              "1214  buildings%20burning  ...      1\n",
              "1323  burning%20buildings  ...      0\n",
              "1337  burning%20buildings  ...      0\n",
              "1351  burning%20buildings  ...      1\n",
              "2802            displaced  ...      1\n",
              "2803            displaced  ...      0\n",
              "3209             engulfed  ...      0\n",
              "3212             engulfed  ...      1\n",
              "3936               floods  ...      1\n",
              "3964               floods  ...      0\n",
              "4171            hazardous  ...      1\n",
              "4182            hazardous  ...      1\n",
              "4185            hazardous  ...      0\n",
              "4193            hazardous  ...      0\n",
              "4233             hellfire  ...      0\n",
              "4234             hellfire  ...      0\n",
              "4238             hellfire  ...      0\n",
              "4239             hellfire  ...      1\n",
              "4249             hellfire  ...      1\n",
              "4250             hellfire  ...      0\n",
              "4253             hellfire  ...      1\n",
              "4259             hellfire  ...      1\n",
              "4317             hijacker  ...      0\n",
              "4319             hijacker  ...      1\n",
              "4535               injury  ...      1\n",
              "4554               injury  ...      0\n",
              "5552             refugees  ...      1\n",
              "5573             refugees  ...      0\n",
              "6018              sinking  ...      1\n",
              "6021              sinking  ...      0\n",
              "6533            terrorism  ...      0\n",
              "6535            terrorism  ...      1\n",
              "\n",
              "[36 rows x 4 columns]"
            ]
          },
          "metadata": {},
          "execution_count": 8
        }
      ]
    },
    {
      "cell_type": "code",
      "metadata": {
        "id": "tTizzMU2gvMo",
        "colab": {
          "base_uri": "https://localhost:8080/"
        },
        "outputId": "e133f256-4b3a-477e-bb41-7f445ecff3fe"
      },
      "source": [
        "duplicates_record.shape"
      ],
      "execution_count": null,
      "outputs": [
        {
          "output_type": "execute_result",
          "data": {
            "text/plain": [
              "(36, 4)"
            ]
          },
          "metadata": {},
          "execution_count": 9
        }
      ]
    },
    {
      "cell_type": "code",
      "metadata": {
        "id": "VpEq2iUwgvPT",
        "colab": {
          "base_uri": "https://localhost:8080/",
          "height": 423
        },
        "outputId": "1b1102c2-e090-4e5c-d1dd-9e3499247bb5"
      },
      "source": [
        "#Il existe encore  divers enregistrements en doublon disponibles, mais avec une différence, \n",
        "#cette fois pour le même tweet une cible temporelle est 0 et pour une autre elle est 1. Cela semble être des \n",
        "#enregistrements corrompus et le modèle NLP peut être confus, il est donc préférable de supprimer ces enregistrements\n",
        "df_train=df_train.drop_duplicates(subset = ['text'], keep = False, ignore_index = True)# ici on a utilisé le keep Flase pour\n",
        "# dire on supprime tous les doublons \n",
        "df_train"
      ],
      "execution_count": null,
      "outputs": [
        {
          "output_type": "execute_result",
          "data": {
            "text/html": [
              "\n",
              "  <div id=\"df-98b37fcf-b524-47bb-aaf0-8227047453ad\">\n",
              "    <div class=\"colab-df-container\">\n",
              "      <div>\n",
              "<style scoped>\n",
              "    .dataframe tbody tr th:only-of-type {\n",
              "        vertical-align: middle;\n",
              "    }\n",
              "\n",
              "    .dataframe tbody tr th {\n",
              "        vertical-align: top;\n",
              "    }\n",
              "\n",
              "    .dataframe thead th {\n",
              "        text-align: right;\n",
              "    }\n",
              "</style>\n",
              "<table border=\"1\" class=\"dataframe\">\n",
              "  <thead>\n",
              "    <tr style=\"text-align: right;\">\n",
              "      <th></th>\n",
              "      <th>keyword</th>\n",
              "      <th>location</th>\n",
              "      <th>text</th>\n",
              "      <th>target</th>\n",
              "    </tr>\n",
              "  </thead>\n",
              "  <tbody>\n",
              "    <tr>\n",
              "      <th>0</th>\n",
              "      <td>NaN</td>\n",
              "      <td>NaN</td>\n",
              "      <td>Our Deeds are the Reason of this #earthquake M...</td>\n",
              "      <td>1</td>\n",
              "    </tr>\n",
              "    <tr>\n",
              "      <th>1</th>\n",
              "      <td>NaN</td>\n",
              "      <td>NaN</td>\n",
              "      <td>Forest fire near La Ronge Sask. Canada</td>\n",
              "      <td>1</td>\n",
              "    </tr>\n",
              "    <tr>\n",
              "      <th>2</th>\n",
              "      <td>NaN</td>\n",
              "      <td>NaN</td>\n",
              "      <td>All residents asked to 'shelter in place' are ...</td>\n",
              "      <td>1</td>\n",
              "    </tr>\n",
              "    <tr>\n",
              "      <th>3</th>\n",
              "      <td>NaN</td>\n",
              "      <td>NaN</td>\n",
              "      <td>13,000 people receive #wildfires evacuation or...</td>\n",
              "      <td>1</td>\n",
              "    </tr>\n",
              "    <tr>\n",
              "      <th>4</th>\n",
              "      <td>NaN</td>\n",
              "      <td>NaN</td>\n",
              "      <td>Just got sent this photo from Ruby #Alaska as ...</td>\n",
              "      <td>1</td>\n",
              "    </tr>\n",
              "    <tr>\n",
              "      <th>...</th>\n",
              "      <td>...</td>\n",
              "      <td>...</td>\n",
              "      <td>...</td>\n",
              "      <td>...</td>\n",
              "    </tr>\n",
              "    <tr>\n",
              "      <th>7480</th>\n",
              "      <td>NaN</td>\n",
              "      <td>NaN</td>\n",
              "      <td>#WorldNews Fallen powerlines on G:link tram: U...</td>\n",
              "      <td>1</td>\n",
              "    </tr>\n",
              "    <tr>\n",
              "      <th>7481</th>\n",
              "      <td>NaN</td>\n",
              "      <td>NaN</td>\n",
              "      <td>on the flip side I'm at Walmart and there is a...</td>\n",
              "      <td>1</td>\n",
              "    </tr>\n",
              "    <tr>\n",
              "      <th>7482</th>\n",
              "      <td>NaN</td>\n",
              "      <td>NaN</td>\n",
              "      <td>Suicide bomber kills 15 in Saudi security site...</td>\n",
              "      <td>1</td>\n",
              "    </tr>\n",
              "    <tr>\n",
              "      <th>7483</th>\n",
              "      <td>NaN</td>\n",
              "      <td>NaN</td>\n",
              "      <td>Two giant cranes holding a bridge collapse int...</td>\n",
              "      <td>1</td>\n",
              "    </tr>\n",
              "    <tr>\n",
              "      <th>7484</th>\n",
              "      <td>NaN</td>\n",
              "      <td>NaN</td>\n",
              "      <td>The Latest: More Homes Razed by Northern Calif...</td>\n",
              "      <td>1</td>\n",
              "    </tr>\n",
              "  </tbody>\n",
              "</table>\n",
              "<p>7485 rows × 4 columns</p>\n",
              "</div>\n",
              "      <button class=\"colab-df-convert\" onclick=\"convertToInteractive('df-98b37fcf-b524-47bb-aaf0-8227047453ad')\"\n",
              "              title=\"Convert this dataframe to an interactive table.\"\n",
              "              style=\"display:none;\">\n",
              "        \n",
              "  <svg xmlns=\"http://www.w3.org/2000/svg\" height=\"24px\"viewBox=\"0 0 24 24\"\n",
              "       width=\"24px\">\n",
              "    <path d=\"M0 0h24v24H0V0z\" fill=\"none\"/>\n",
              "    <path d=\"M18.56 5.44l.94 2.06.94-2.06 2.06-.94-2.06-.94-.94-2.06-.94 2.06-2.06.94zm-11 1L8.5 8.5l.94-2.06 2.06-.94-2.06-.94L8.5 2.5l-.94 2.06-2.06.94zm10 10l.94 2.06.94-2.06 2.06-.94-2.06-.94-.94-2.06-.94 2.06-2.06.94z\"/><path d=\"M17.41 7.96l-1.37-1.37c-.4-.4-.92-.59-1.43-.59-.52 0-1.04.2-1.43.59L10.3 9.45l-7.72 7.72c-.78.78-.78 2.05 0 2.83L4 21.41c.39.39.9.59 1.41.59.51 0 1.02-.2 1.41-.59l7.78-7.78 2.81-2.81c.8-.78.8-2.07 0-2.86zM5.41 20L4 18.59l7.72-7.72 1.47 1.35L5.41 20z\"/>\n",
              "  </svg>\n",
              "      </button>\n",
              "      \n",
              "  <style>\n",
              "    .colab-df-container {\n",
              "      display:flex;\n",
              "      flex-wrap:wrap;\n",
              "      gap: 12px;\n",
              "    }\n",
              "\n",
              "    .colab-df-convert {\n",
              "      background-color: #E8F0FE;\n",
              "      border: none;\n",
              "      border-radius: 50%;\n",
              "      cursor: pointer;\n",
              "      display: none;\n",
              "      fill: #1967D2;\n",
              "      height: 32px;\n",
              "      padding: 0 0 0 0;\n",
              "      width: 32px;\n",
              "    }\n",
              "\n",
              "    .colab-df-convert:hover {\n",
              "      background-color: #E2EBFA;\n",
              "      box-shadow: 0px 1px 2px rgba(60, 64, 67, 0.3), 0px 1px 3px 1px rgba(60, 64, 67, 0.15);\n",
              "      fill: #174EA6;\n",
              "    }\n",
              "\n",
              "    [theme=dark] .colab-df-convert {\n",
              "      background-color: #3B4455;\n",
              "      fill: #D2E3FC;\n",
              "    }\n",
              "\n",
              "    [theme=dark] .colab-df-convert:hover {\n",
              "      background-color: #434B5C;\n",
              "      box-shadow: 0px 1px 3px 1px rgba(0, 0, 0, 0.15);\n",
              "      filter: drop-shadow(0px 1px 2px rgba(0, 0, 0, 0.3));\n",
              "      fill: #FFFFFF;\n",
              "    }\n",
              "  </style>\n",
              "\n",
              "      <script>\n",
              "        const buttonEl =\n",
              "          document.querySelector('#df-98b37fcf-b524-47bb-aaf0-8227047453ad button.colab-df-convert');\n",
              "        buttonEl.style.display =\n",
              "          google.colab.kernel.accessAllowed ? 'block' : 'none';\n",
              "\n",
              "        async function convertToInteractive(key) {\n",
              "          const element = document.querySelector('#df-98b37fcf-b524-47bb-aaf0-8227047453ad');\n",
              "          const dataTable =\n",
              "            await google.colab.kernel.invokeFunction('convertToInteractive',\n",
              "                                                     [key], {});\n",
              "          if (!dataTable) return;\n",
              "\n",
              "          const docLinkHtml = 'Like what you see? Visit the ' +\n",
              "            '<a target=\"_blank\" href=https://colab.research.google.com/notebooks/data_table.ipynb>data table notebook</a>'\n",
              "            + ' to learn more about interactive tables.';\n",
              "          element.innerHTML = '';\n",
              "          dataTable['output_type'] = 'display_data';\n",
              "          await google.colab.output.renderOutput(dataTable, element);\n",
              "          const docLink = document.createElement('div');\n",
              "          docLink.innerHTML = docLinkHtml;\n",
              "          element.appendChild(docLink);\n",
              "        }\n",
              "      </script>\n",
              "    </div>\n",
              "  </div>\n",
              "  "
            ],
            "text/plain": [
              "     keyword  ... target\n",
              "0        NaN  ...      1\n",
              "1        NaN  ...      1\n",
              "2        NaN  ...      1\n",
              "3        NaN  ...      1\n",
              "4        NaN  ...      1\n",
              "...      ...  ...    ...\n",
              "7480     NaN  ...      1\n",
              "7481     NaN  ...      1\n",
              "7482     NaN  ...      1\n",
              "7483     NaN  ...      1\n",
              "7484     NaN  ...      1\n",
              "\n",
              "[7485 rows x 4 columns]"
            ]
          },
          "metadata": {},
          "execution_count": 10
        }
      ]
    },
    {
      "cell_type": "code",
      "source": [
        "df_train.shape"
      ],
      "metadata": {
        "colab": {
          "base_uri": "https://localhost:8080/"
        },
        "id": "Iw11KpDZH856",
        "outputId": "7833134c-9729-4d3d-b5ba-8a4d9c5f3e7c"
      },
      "execution_count": null,
      "outputs": [
        {
          "output_type": "execute_result",
          "data": {
            "text/plain": [
              "(7485, 4)"
            ]
          },
          "metadata": {},
          "execution_count": 11
        }
      ]
    },
    {
      "cell_type": "code",
      "metadata": {
        "id": "lLS27b-HgvRy",
        "colab": {
          "base_uri": "https://localhost:8080/"
        },
        "outputId": "ace7df78-69a1-406b-82ca-d08b605f40f4"
      },
      "source": [
        "#il est intéressant de vérifier s'il ya des valeurs manquantes: on constate pour les 2 vles qui nous intéressent text,target y en a pas \n",
        "df_train.isna().sum()"
      ],
      "execution_count": null,
      "outputs": [
        {
          "output_type": "execute_result",
          "data": {
            "text/plain": [
              "keyword       56\n",
              "location    2472\n",
              "text           0\n",
              "target         0\n",
              "dtype: int64"
            ]
          },
          "metadata": {},
          "execution_count": 12
        }
      ]
    },
    {
      "cell_type": "code",
      "metadata": {
        "id": "1fKRbsRCgvUP",
        "colab": {
          "base_uri": "https://localhost:8080/",
          "height": 206
        },
        "outputId": "dbb498b8-4133-431e-c38f-1def13a6fa7a"
      },
      "source": [
        "df_train=df_train[~df_train['location'].isna()]\n",
        "df_train.head()\n",
        "# Je décide de travailler uniquement avec les tweets où la géo-localisation est mentionnée "
      ],
      "execution_count": null,
      "outputs": [
        {
          "output_type": "execute_result",
          "data": {
            "text/html": [
              "\n",
              "  <div id=\"df-fe4c9f7a-f071-4ba2-8d40-8e665368eba1\">\n",
              "    <div class=\"colab-df-container\">\n",
              "      <div>\n",
              "<style scoped>\n",
              "    .dataframe tbody tr th:only-of-type {\n",
              "        vertical-align: middle;\n",
              "    }\n",
              "\n",
              "    .dataframe tbody tr th {\n",
              "        vertical-align: top;\n",
              "    }\n",
              "\n",
              "    .dataframe thead th {\n",
              "        text-align: right;\n",
              "    }\n",
              "</style>\n",
              "<table border=\"1\" class=\"dataframe\">\n",
              "  <thead>\n",
              "    <tr style=\"text-align: right;\">\n",
              "      <th></th>\n",
              "      <th>keyword</th>\n",
              "      <th>location</th>\n",
              "      <th>text</th>\n",
              "      <th>target</th>\n",
              "    </tr>\n",
              "  </thead>\n",
              "  <tbody>\n",
              "    <tr>\n",
              "      <th>31</th>\n",
              "      <td>ablaze</td>\n",
              "      <td>Birmingham</td>\n",
              "      <td>@bbcmtd Wholesale Markets ablaze http://t.co/l...</td>\n",
              "      <td>1</td>\n",
              "    </tr>\n",
              "    <tr>\n",
              "      <th>32</th>\n",
              "      <td>ablaze</td>\n",
              "      <td>Est. September 2012 - Bristol</td>\n",
              "      <td>We always try to bring the heavy. #metal #RT h...</td>\n",
              "      <td>0</td>\n",
              "    </tr>\n",
              "    <tr>\n",
              "      <th>33</th>\n",
              "      <td>ablaze</td>\n",
              "      <td>AFRICA</td>\n",
              "      <td>#AFRICANBAZE: Breaking news:Nigeria flag set a...</td>\n",
              "      <td>1</td>\n",
              "    </tr>\n",
              "    <tr>\n",
              "      <th>34</th>\n",
              "      <td>ablaze</td>\n",
              "      <td>Philadelphia, PA</td>\n",
              "      <td>Crying out for more! Set me ablaze</td>\n",
              "      <td>0</td>\n",
              "    </tr>\n",
              "    <tr>\n",
              "      <th>35</th>\n",
              "      <td>ablaze</td>\n",
              "      <td>London, UK</td>\n",
              "      <td>On plus side LOOK AT THE SKY LAST NIGHT IT WAS...</td>\n",
              "      <td>0</td>\n",
              "    </tr>\n",
              "  </tbody>\n",
              "</table>\n",
              "</div>\n",
              "      <button class=\"colab-df-convert\" onclick=\"convertToInteractive('df-fe4c9f7a-f071-4ba2-8d40-8e665368eba1')\"\n",
              "              title=\"Convert this dataframe to an interactive table.\"\n",
              "              style=\"display:none;\">\n",
              "        \n",
              "  <svg xmlns=\"http://www.w3.org/2000/svg\" height=\"24px\"viewBox=\"0 0 24 24\"\n",
              "       width=\"24px\">\n",
              "    <path d=\"M0 0h24v24H0V0z\" fill=\"none\"/>\n",
              "    <path d=\"M18.56 5.44l.94 2.06.94-2.06 2.06-.94-2.06-.94-.94-2.06-.94 2.06-2.06.94zm-11 1L8.5 8.5l.94-2.06 2.06-.94-2.06-.94L8.5 2.5l-.94 2.06-2.06.94zm10 10l.94 2.06.94-2.06 2.06-.94-2.06-.94-.94-2.06-.94 2.06-2.06.94z\"/><path d=\"M17.41 7.96l-1.37-1.37c-.4-.4-.92-.59-1.43-.59-.52 0-1.04.2-1.43.59L10.3 9.45l-7.72 7.72c-.78.78-.78 2.05 0 2.83L4 21.41c.39.39.9.59 1.41.59.51 0 1.02-.2 1.41-.59l7.78-7.78 2.81-2.81c.8-.78.8-2.07 0-2.86zM5.41 20L4 18.59l7.72-7.72 1.47 1.35L5.41 20z\"/>\n",
              "  </svg>\n",
              "      </button>\n",
              "      \n",
              "  <style>\n",
              "    .colab-df-container {\n",
              "      display:flex;\n",
              "      flex-wrap:wrap;\n",
              "      gap: 12px;\n",
              "    }\n",
              "\n",
              "    .colab-df-convert {\n",
              "      background-color: #E8F0FE;\n",
              "      border: none;\n",
              "      border-radius: 50%;\n",
              "      cursor: pointer;\n",
              "      display: none;\n",
              "      fill: #1967D2;\n",
              "      height: 32px;\n",
              "      padding: 0 0 0 0;\n",
              "      width: 32px;\n",
              "    }\n",
              "\n",
              "    .colab-df-convert:hover {\n",
              "      background-color: #E2EBFA;\n",
              "      box-shadow: 0px 1px 2px rgba(60, 64, 67, 0.3), 0px 1px 3px 1px rgba(60, 64, 67, 0.15);\n",
              "      fill: #174EA6;\n",
              "    }\n",
              "\n",
              "    [theme=dark] .colab-df-convert {\n",
              "      background-color: #3B4455;\n",
              "      fill: #D2E3FC;\n",
              "    }\n",
              "\n",
              "    [theme=dark] .colab-df-convert:hover {\n",
              "      background-color: #434B5C;\n",
              "      box-shadow: 0px 1px 3px 1px rgba(0, 0, 0, 0.15);\n",
              "      filter: drop-shadow(0px 1px 2px rgba(0, 0, 0, 0.3));\n",
              "      fill: #FFFFFF;\n",
              "    }\n",
              "  </style>\n",
              "\n",
              "      <script>\n",
              "        const buttonEl =\n",
              "          document.querySelector('#df-fe4c9f7a-f071-4ba2-8d40-8e665368eba1 button.colab-df-convert');\n",
              "        buttonEl.style.display =\n",
              "          google.colab.kernel.accessAllowed ? 'block' : 'none';\n",
              "\n",
              "        async function convertToInteractive(key) {\n",
              "          const element = document.querySelector('#df-fe4c9f7a-f071-4ba2-8d40-8e665368eba1');\n",
              "          const dataTable =\n",
              "            await google.colab.kernel.invokeFunction('convertToInteractive',\n",
              "                                                     [key], {});\n",
              "          if (!dataTable) return;\n",
              "\n",
              "          const docLinkHtml = 'Like what you see? Visit the ' +\n",
              "            '<a target=\"_blank\" href=https://colab.research.google.com/notebooks/data_table.ipynb>data table notebook</a>'\n",
              "            + ' to learn more about interactive tables.';\n",
              "          element.innerHTML = '';\n",
              "          dataTable['output_type'] = 'display_data';\n",
              "          await google.colab.output.renderOutput(dataTable, element);\n",
              "          const docLink = document.createElement('div');\n",
              "          docLink.innerHTML = docLinkHtml;\n",
              "          element.appendChild(docLink);\n",
              "        }\n",
              "      </script>\n",
              "    </div>\n",
              "  </div>\n",
              "  "
            ],
            "text/plain": [
              "   keyword  ... target\n",
              "31  ablaze  ...      1\n",
              "32  ablaze  ...      0\n",
              "33  ablaze  ...      1\n",
              "34  ablaze  ...      0\n",
              "35  ablaze  ...      0\n",
              "\n",
              "[5 rows x 4 columns]"
            ]
          },
          "metadata": {},
          "execution_count": 13
        }
      ]
    },
    {
      "cell_type": "code",
      "source": [
        "df_train.shape"
      ],
      "metadata": {
        "colab": {
          "base_uri": "https://localhost:8080/"
        },
        "id": "HIeeUHKDIZn0",
        "outputId": "0b738b96-e521-4a08-e543-d1be8ab6599d"
      },
      "execution_count": null,
      "outputs": [
        {
          "output_type": "execute_result",
          "data": {
            "text/plain": [
              "(5013, 4)"
            ]
          },
          "metadata": {},
          "execution_count": 14
        }
      ]
    },
    {
      "cell_type": "code",
      "source": [
        "df_train.isna().sum()"
      ],
      "metadata": {
        "colab": {
          "base_uri": "https://localhost:8080/"
        },
        "id": "zq7vZ3ZgIegX",
        "outputId": "59f56ff5-bd28-4879-c526-1814e6931f54"
      },
      "execution_count": null,
      "outputs": [
        {
          "output_type": "execute_result",
          "data": {
            "text/plain": [
              "keyword     0\n",
              "location    0\n",
              "text        0\n",
              "target      0\n",
              "dtype: int64"
            ]
          },
          "metadata": {},
          "execution_count": 15
        }
      ]
    },
    {
      "cell_type": "code",
      "metadata": {
        "id": "FIiEUDDTgvWQ",
        "colab": {
          "base_uri": "https://localhost:8080/"
        },
        "outputId": "426576d7-21c9-462f-e28a-393c9d30fa98"
      },
      "source": [
        "df_train[\"keyword\"].value_counts()"
      ],
      "execution_count": null,
      "outputs": [
        {
          "output_type": "execute_result",
          "data": {
            "text/plain": [
              "collision                36\n",
              "whirlwind                33\n",
              "fatalities               32\n",
              "armageddon               32\n",
              "outbreak                 31\n",
              "                         ..\n",
              "threat                   10\n",
              "epicentre                 9\n",
              "detonation                8\n",
              "radiation%20emergency     6\n",
              "inundation                5\n",
              "Name: keyword, Length: 221, dtype: int64"
            ]
          },
          "metadata": {},
          "execution_count": 16
        }
      ]
    },
    {
      "cell_type": "code",
      "metadata": {
        "id": "LM8-FdeUhDva",
        "colab": {
          "base_uri": "https://localhost:8080/"
        },
        "outputId": "d731778c-3ffd-4300-d843-78c9c656070d"
      },
      "source": [
        "df_train['target'].value_counts()\n",
        "#la target est divisé d'une manière proportionnelle c'est une bonne chose"
      ],
      "execution_count": null,
      "outputs": [
        {
          "output_type": "execute_result",
          "data": {
            "text/plain": [
              "0    2863\n",
              "1    2150\n",
              "Name: target, dtype: int64"
            ]
          },
          "metadata": {},
          "execution_count": 17
        }
      ]
    },
    {
      "cell_type": "code",
      "source": [
        "df_test.head()"
      ],
      "metadata": {
        "colab": {
          "base_uri": "https://localhost:8080/",
          "height": 206
        },
        "id": "6R7BkRBGu-h8",
        "outputId": "cb051ca5-6c1c-47ba-bad6-47d99d0e38a5"
      },
      "execution_count": null,
      "outputs": [
        {
          "output_type": "execute_result",
          "data": {
            "text/html": [
              "\n",
              "  <div id=\"df-465e231b-ad07-466f-9fd5-1752b98c26b6\">\n",
              "    <div class=\"colab-df-container\">\n",
              "      <div>\n",
              "<style scoped>\n",
              "    .dataframe tbody tr th:only-of-type {\n",
              "        vertical-align: middle;\n",
              "    }\n",
              "\n",
              "    .dataframe tbody tr th {\n",
              "        vertical-align: top;\n",
              "    }\n",
              "\n",
              "    .dataframe thead th {\n",
              "        text-align: right;\n",
              "    }\n",
              "</style>\n",
              "<table border=\"1\" class=\"dataframe\">\n",
              "  <thead>\n",
              "    <tr style=\"text-align: right;\">\n",
              "      <th></th>\n",
              "      <th>id</th>\n",
              "      <th>keyword</th>\n",
              "      <th>location</th>\n",
              "      <th>text</th>\n",
              "    </tr>\n",
              "  </thead>\n",
              "  <tbody>\n",
              "    <tr>\n",
              "      <th>0</th>\n",
              "      <td>0</td>\n",
              "      <td>NaN</td>\n",
              "      <td>NaN</td>\n",
              "      <td>Just happened a terrible car crash</td>\n",
              "    </tr>\n",
              "    <tr>\n",
              "      <th>1</th>\n",
              "      <td>2</td>\n",
              "      <td>NaN</td>\n",
              "      <td>NaN</td>\n",
              "      <td>Heard about #earthquake is different cities, s...</td>\n",
              "    </tr>\n",
              "    <tr>\n",
              "      <th>2</th>\n",
              "      <td>3</td>\n",
              "      <td>NaN</td>\n",
              "      <td>NaN</td>\n",
              "      <td>there is a forest fire at spot pond, geese are...</td>\n",
              "    </tr>\n",
              "    <tr>\n",
              "      <th>3</th>\n",
              "      <td>9</td>\n",
              "      <td>NaN</td>\n",
              "      <td>NaN</td>\n",
              "      <td>Apocalypse lighting. #Spokane #wildfires</td>\n",
              "    </tr>\n",
              "    <tr>\n",
              "      <th>4</th>\n",
              "      <td>11</td>\n",
              "      <td>NaN</td>\n",
              "      <td>NaN</td>\n",
              "      <td>Typhoon Soudelor kills 28 in China and Taiwan</td>\n",
              "    </tr>\n",
              "  </tbody>\n",
              "</table>\n",
              "</div>\n",
              "      <button class=\"colab-df-convert\" onclick=\"convertToInteractive('df-465e231b-ad07-466f-9fd5-1752b98c26b6')\"\n",
              "              title=\"Convert this dataframe to an interactive table.\"\n",
              "              style=\"display:none;\">\n",
              "        \n",
              "  <svg xmlns=\"http://www.w3.org/2000/svg\" height=\"24px\"viewBox=\"0 0 24 24\"\n",
              "       width=\"24px\">\n",
              "    <path d=\"M0 0h24v24H0V0z\" fill=\"none\"/>\n",
              "    <path d=\"M18.56 5.44l.94 2.06.94-2.06 2.06-.94-2.06-.94-.94-2.06-.94 2.06-2.06.94zm-11 1L8.5 8.5l.94-2.06 2.06-.94-2.06-.94L8.5 2.5l-.94 2.06-2.06.94zm10 10l.94 2.06.94-2.06 2.06-.94-2.06-.94-.94-2.06-.94 2.06-2.06.94z\"/><path d=\"M17.41 7.96l-1.37-1.37c-.4-.4-.92-.59-1.43-.59-.52 0-1.04.2-1.43.59L10.3 9.45l-7.72 7.72c-.78.78-.78 2.05 0 2.83L4 21.41c.39.39.9.59 1.41.59.51 0 1.02-.2 1.41-.59l7.78-7.78 2.81-2.81c.8-.78.8-2.07 0-2.86zM5.41 20L4 18.59l7.72-7.72 1.47 1.35L5.41 20z\"/>\n",
              "  </svg>\n",
              "      </button>\n",
              "      \n",
              "  <style>\n",
              "    .colab-df-container {\n",
              "      display:flex;\n",
              "      flex-wrap:wrap;\n",
              "      gap: 12px;\n",
              "    }\n",
              "\n",
              "    .colab-df-convert {\n",
              "      background-color: #E8F0FE;\n",
              "      border: none;\n",
              "      border-radius: 50%;\n",
              "      cursor: pointer;\n",
              "      display: none;\n",
              "      fill: #1967D2;\n",
              "      height: 32px;\n",
              "      padding: 0 0 0 0;\n",
              "      width: 32px;\n",
              "    }\n",
              "\n",
              "    .colab-df-convert:hover {\n",
              "      background-color: #E2EBFA;\n",
              "      box-shadow: 0px 1px 2px rgba(60, 64, 67, 0.3), 0px 1px 3px 1px rgba(60, 64, 67, 0.15);\n",
              "      fill: #174EA6;\n",
              "    }\n",
              "\n",
              "    [theme=dark] .colab-df-convert {\n",
              "      background-color: #3B4455;\n",
              "      fill: #D2E3FC;\n",
              "    }\n",
              "\n",
              "    [theme=dark] .colab-df-convert:hover {\n",
              "      background-color: #434B5C;\n",
              "      box-shadow: 0px 1px 3px 1px rgba(0, 0, 0, 0.15);\n",
              "      filter: drop-shadow(0px 1px 2px rgba(0, 0, 0, 0.3));\n",
              "      fill: #FFFFFF;\n",
              "    }\n",
              "  </style>\n",
              "\n",
              "      <script>\n",
              "        const buttonEl =\n",
              "          document.querySelector('#df-465e231b-ad07-466f-9fd5-1752b98c26b6 button.colab-df-convert');\n",
              "        buttonEl.style.display =\n",
              "          google.colab.kernel.accessAllowed ? 'block' : 'none';\n",
              "\n",
              "        async function convertToInteractive(key) {\n",
              "          const element = document.querySelector('#df-465e231b-ad07-466f-9fd5-1752b98c26b6');\n",
              "          const dataTable =\n",
              "            await google.colab.kernel.invokeFunction('convertToInteractive',\n",
              "                                                     [key], {});\n",
              "          if (!dataTable) return;\n",
              "\n",
              "          const docLinkHtml = 'Like what you see? Visit the ' +\n",
              "            '<a target=\"_blank\" href=https://colab.research.google.com/notebooks/data_table.ipynb>data table notebook</a>'\n",
              "            + ' to learn more about interactive tables.';\n",
              "          element.innerHTML = '';\n",
              "          dataTable['output_type'] = 'display_data';\n",
              "          await google.colab.output.renderOutput(dataTable, element);\n",
              "          const docLink = document.createElement('div');\n",
              "          docLink.innerHTML = docLinkHtml;\n",
              "          element.appendChild(docLink);\n",
              "        }\n",
              "      </script>\n",
              "    </div>\n",
              "  </div>\n",
              "  "
            ],
            "text/plain": [
              "   id keyword location                                               text\n",
              "0   0     NaN      NaN                 Just happened a terrible car crash\n",
              "1   2     NaN      NaN  Heard about #earthquake is different cities, s...\n",
              "2   3     NaN      NaN  there is a forest fire at spot pond, geese are...\n",
              "3   9     NaN      NaN           Apocalypse lighting. #Spokane #wildfires\n",
              "4  11     NaN      NaN      Typhoon Soudelor kills 28 in China and Taiwan"
            ]
          },
          "metadata": {},
          "execution_count": 18
        }
      ]
    },
    {
      "cell_type": "code",
      "source": [
        "df_test.drop(columns=\"id\", axis = 1, inplace = True)"
      ],
      "metadata": {
        "id": "y200NJhOu-tX"
      },
      "execution_count": null,
      "outputs": []
    },
    {
      "cell_type": "code",
      "source": [
        "df_test.shape"
      ],
      "metadata": {
        "colab": {
          "base_uri": "https://localhost:8080/"
        },
        "id": "lAOYep4au-wI",
        "outputId": "2f4376d3-3a9f-4cc6-8c3c-097c70f0f0c1"
      },
      "execution_count": null,
      "outputs": [
        {
          "output_type": "execute_result",
          "data": {
            "text/plain": [
              "(3263, 3)"
            ]
          },
          "metadata": {},
          "execution_count": 20
        }
      ]
    },
    {
      "cell_type": "code",
      "source": [
        "#On vérifie s'il y a des doublons dans les enregistrements dans le test \n",
        "duplicates_record = df_test[df_test.duplicated(subset=['text'], keep=False)] #subset nous permet d'identifier la colonne dans laquelle on veut \n",
        "# chercher les doublons, keep = false il va nous afficher les doublons en true \n",
        "duplicates_record.head()"
      ],
      "metadata": {
        "colab": {
          "base_uri": "https://localhost:8080/",
          "height": 206
        },
        "id": "3dYetW_Mu-zS",
        "outputId": "2f949080-195e-43ac-a75f-3f1bf5166874"
      },
      "execution_count": null,
      "outputs": [
        {
          "output_type": "execute_result",
          "data": {
            "text/html": [
              "\n",
              "  <div id=\"df-0723567c-53ac-4632-813c-31c631a62bf9\">\n",
              "    <div class=\"colab-df-container\">\n",
              "      <div>\n",
              "<style scoped>\n",
              "    .dataframe tbody tr th:only-of-type {\n",
              "        vertical-align: middle;\n",
              "    }\n",
              "\n",
              "    .dataframe tbody tr th {\n",
              "        vertical-align: top;\n",
              "    }\n",
              "\n",
              "    .dataframe thead th {\n",
              "        text-align: right;\n",
              "    }\n",
              "</style>\n",
              "<table border=\"1\" class=\"dataframe\">\n",
              "  <thead>\n",
              "    <tr style=\"text-align: right;\">\n",
              "      <th></th>\n",
              "      <th>keyword</th>\n",
              "      <th>location</th>\n",
              "      <th>text</th>\n",
              "    </tr>\n",
              "  </thead>\n",
              "  <tbody>\n",
              "    <tr>\n",
              "      <th>47</th>\n",
              "      <td>aftershock</td>\n",
              "      <td>Switzerland</td>\n",
              "      <td>320 [IR] ICEMOON [AFTERSHOCK] | http://t.co/TH...</td>\n",
              "    </tr>\n",
              "    <tr>\n",
              "      <th>53</th>\n",
              "      <td>aftershock</td>\n",
              "      <td>Switzerland</td>\n",
              "      <td>320 [IR] ICEMOON [AFTERSHOCK] | http://t.co/TH...</td>\n",
              "    </tr>\n",
              "    <tr>\n",
              "      <th>128</th>\n",
              "      <td>apocalypse</td>\n",
              "      <td>NaN</td>\n",
              "      <td>#AskConnor there's a zombie apocalypse. the it...</td>\n",
              "    </tr>\n",
              "    <tr>\n",
              "      <th>285</th>\n",
              "      <td>bioterrorism</td>\n",
              "      <td>NaN</td>\n",
              "      <td>To fight bioterrorism sir.</td>\n",
              "    </tr>\n",
              "    <tr>\n",
              "      <th>286</th>\n",
              "      <td>bioterrorism</td>\n",
              "      <td>NaN</td>\n",
              "      <td>To fight bioterrorism sir.</td>\n",
              "    </tr>\n",
              "  </tbody>\n",
              "</table>\n",
              "</div>\n",
              "      <button class=\"colab-df-convert\" onclick=\"convertToInteractive('df-0723567c-53ac-4632-813c-31c631a62bf9')\"\n",
              "              title=\"Convert this dataframe to an interactive table.\"\n",
              "              style=\"display:none;\">\n",
              "        \n",
              "  <svg xmlns=\"http://www.w3.org/2000/svg\" height=\"24px\"viewBox=\"0 0 24 24\"\n",
              "       width=\"24px\">\n",
              "    <path d=\"M0 0h24v24H0V0z\" fill=\"none\"/>\n",
              "    <path d=\"M18.56 5.44l.94 2.06.94-2.06 2.06-.94-2.06-.94-.94-2.06-.94 2.06-2.06.94zm-11 1L8.5 8.5l.94-2.06 2.06-.94-2.06-.94L8.5 2.5l-.94 2.06-2.06.94zm10 10l.94 2.06.94-2.06 2.06-.94-2.06-.94-.94-2.06-.94 2.06-2.06.94z\"/><path d=\"M17.41 7.96l-1.37-1.37c-.4-.4-.92-.59-1.43-.59-.52 0-1.04.2-1.43.59L10.3 9.45l-7.72 7.72c-.78.78-.78 2.05 0 2.83L4 21.41c.39.39.9.59 1.41.59.51 0 1.02-.2 1.41-.59l7.78-7.78 2.81-2.81c.8-.78.8-2.07 0-2.86zM5.41 20L4 18.59l7.72-7.72 1.47 1.35L5.41 20z\"/>\n",
              "  </svg>\n",
              "      </button>\n",
              "      \n",
              "  <style>\n",
              "    .colab-df-container {\n",
              "      display:flex;\n",
              "      flex-wrap:wrap;\n",
              "      gap: 12px;\n",
              "    }\n",
              "\n",
              "    .colab-df-convert {\n",
              "      background-color: #E8F0FE;\n",
              "      border: none;\n",
              "      border-radius: 50%;\n",
              "      cursor: pointer;\n",
              "      display: none;\n",
              "      fill: #1967D2;\n",
              "      height: 32px;\n",
              "      padding: 0 0 0 0;\n",
              "      width: 32px;\n",
              "    }\n",
              "\n",
              "    .colab-df-convert:hover {\n",
              "      background-color: #E2EBFA;\n",
              "      box-shadow: 0px 1px 2px rgba(60, 64, 67, 0.3), 0px 1px 3px 1px rgba(60, 64, 67, 0.15);\n",
              "      fill: #174EA6;\n",
              "    }\n",
              "\n",
              "    [theme=dark] .colab-df-convert {\n",
              "      background-color: #3B4455;\n",
              "      fill: #D2E3FC;\n",
              "    }\n",
              "\n",
              "    [theme=dark] .colab-df-convert:hover {\n",
              "      background-color: #434B5C;\n",
              "      box-shadow: 0px 1px 3px 1px rgba(0, 0, 0, 0.15);\n",
              "      filter: drop-shadow(0px 1px 2px rgba(0, 0, 0, 0.3));\n",
              "      fill: #FFFFFF;\n",
              "    }\n",
              "  </style>\n",
              "\n",
              "      <script>\n",
              "        const buttonEl =\n",
              "          document.querySelector('#df-0723567c-53ac-4632-813c-31c631a62bf9 button.colab-df-convert');\n",
              "        buttonEl.style.display =\n",
              "          google.colab.kernel.accessAllowed ? 'block' : 'none';\n",
              "\n",
              "        async function convertToInteractive(key) {\n",
              "          const element = document.querySelector('#df-0723567c-53ac-4632-813c-31c631a62bf9');\n",
              "          const dataTable =\n",
              "            await google.colab.kernel.invokeFunction('convertToInteractive',\n",
              "                                                     [key], {});\n",
              "          if (!dataTable) return;\n",
              "\n",
              "          const docLinkHtml = 'Like what you see? Visit the ' +\n",
              "            '<a target=\"_blank\" href=https://colab.research.google.com/notebooks/data_table.ipynb>data table notebook</a>'\n",
              "            + ' to learn more about interactive tables.';\n",
              "          element.innerHTML = '';\n",
              "          dataTable['output_type'] = 'display_data';\n",
              "          await google.colab.output.renderOutput(dataTable, element);\n",
              "          const docLink = document.createElement('div');\n",
              "          docLink.innerHTML = docLinkHtml;\n",
              "          element.appendChild(docLink);\n",
              "        }\n",
              "      </script>\n",
              "    </div>\n",
              "  </div>\n",
              "  "
            ],
            "text/plain": [
              "          keyword  ...                                               text\n",
              "47     aftershock  ...  320 [IR] ICEMOON [AFTERSHOCK] | http://t.co/TH...\n",
              "53     aftershock  ...  320 [IR] ICEMOON [AFTERSHOCK] | http://t.co/TH...\n",
              "128    apocalypse  ...  #AskConnor there's a zombie apocalypse. the it...\n",
              "285  bioterrorism  ...                         To fight bioterrorism sir.\n",
              "286  bioterrorism  ...                         To fight bioterrorism sir.\n",
              "\n",
              "[5 rows x 3 columns]"
            ]
          },
          "metadata": {},
          "execution_count": 21
        }
      ]
    },
    {
      "cell_type": "code",
      "source": [
        "duplicates_record.shape"
      ],
      "metadata": {
        "colab": {
          "base_uri": "https://localhost:8080/"
        },
        "id": "PUUZ2pQhw0iS",
        "outputId": "e8550f50-9128-4cb2-af79-53c832486fa5"
      },
      "execution_count": null,
      "outputs": [
        {
          "output_type": "execute_result",
          "data": {
            "text/plain": [
              "(39, 3)"
            ]
          },
          "metadata": {},
          "execution_count": 22
        }
      ]
    },
    {
      "cell_type": "code",
      "source": [
        "#Environ 39 enregistrements en double sont trouvés, on garde que le premier enregistrement et on supprime le reste \n",
        "df_test.drop_duplicates(subset = ['text'], keep = 'first',inplace = True, ignore_index = True)"
      ],
      "metadata": {
        "id": "f_npJiC4vc53"
      },
      "execution_count": null,
      "outputs": []
    },
    {
      "cell_type": "code",
      "source": [
        "df_test.shape"
      ],
      "metadata": {
        "colab": {
          "base_uri": "https://localhost:8080/"
        },
        "id": "PJZbZjNQvc9G",
        "outputId": "ccb8f2e2-a262-4852-c091-79a94bdb9e2e"
      },
      "execution_count": null,
      "outputs": [
        {
          "output_type": "execute_result",
          "data": {
            "text/plain": [
              "(3243, 3)"
            ]
          },
          "metadata": {},
          "execution_count": 24
        }
      ]
    },
    {
      "cell_type": "code",
      "source": [
        "df_test.isna().sum()"
      ],
      "metadata": {
        "colab": {
          "base_uri": "https://localhost:8080/"
        },
        "id": "ToJP_DHku-17",
        "outputId": "e2204a4c-b4f1-404d-c0e5-fb47d9990377"
      },
      "execution_count": null,
      "outputs": [
        {
          "output_type": "execute_result",
          "data": {
            "text/plain": [
              "keyword       26\n",
              "location    1097\n",
              "text           0\n",
              "dtype: int64"
            ]
          },
          "metadata": {},
          "execution_count": 25
        }
      ]
    },
    {
      "cell_type": "code",
      "source": [
        "df_test=df_test[~df_test['location'].isna()]\n",
        "df_test.head()"
      ],
      "metadata": {
        "colab": {
          "base_uri": "https://localhost:8080/",
          "height": 206
        },
        "id": "W3u0RDauz73d",
        "outputId": "30a30f6d-2920-4913-b03f-c92a5d999b0f"
      },
      "execution_count": null,
      "outputs": [
        {
          "output_type": "execute_result",
          "data": {
            "text/html": [
              "\n",
              "  <div id=\"df-81b3bdea-1e2c-410e-b186-8d43210f5114\">\n",
              "    <div class=\"colab-df-container\">\n",
              "      <div>\n",
              "<style scoped>\n",
              "    .dataframe tbody tr th:only-of-type {\n",
              "        vertical-align: middle;\n",
              "    }\n",
              "\n",
              "    .dataframe tbody tr th {\n",
              "        vertical-align: top;\n",
              "    }\n",
              "\n",
              "    .dataframe thead th {\n",
              "        text-align: right;\n",
              "    }\n",
              "</style>\n",
              "<table border=\"1\" class=\"dataframe\">\n",
              "  <thead>\n",
              "    <tr style=\"text-align: right;\">\n",
              "      <th></th>\n",
              "      <th>keyword</th>\n",
              "      <th>location</th>\n",
              "      <th>text</th>\n",
              "    </tr>\n",
              "  </thead>\n",
              "  <tbody>\n",
              "    <tr>\n",
              "      <th>15</th>\n",
              "      <td>ablaze</td>\n",
              "      <td>London</td>\n",
              "      <td>Birmingham Wholesale Market is ablaze BBC News...</td>\n",
              "    </tr>\n",
              "    <tr>\n",
              "      <th>16</th>\n",
              "      <td>ablaze</td>\n",
              "      <td>Niall's place | SAF 12 SQUAD |</td>\n",
              "      <td>@sunkxssedharry will you wear shorts for race ...</td>\n",
              "    </tr>\n",
              "    <tr>\n",
              "      <th>17</th>\n",
              "      <td>ablaze</td>\n",
              "      <td>NIGERIA</td>\n",
              "      <td>#PreviouslyOnDoyinTv: Toke MakinwaÛªs marriag...</td>\n",
              "    </tr>\n",
              "    <tr>\n",
              "      <th>18</th>\n",
              "      <td>ablaze</td>\n",
              "      <td>Live On Webcam</td>\n",
              "      <td>Check these out: http://t.co/rOI2NSmEJJ http:/...</td>\n",
              "    </tr>\n",
              "    <tr>\n",
              "      <th>19</th>\n",
              "      <td>ablaze</td>\n",
              "      <td>Los Angeles, Califnordia</td>\n",
              "      <td>PSA: IÛªm splitting my personalities.\\n\\n?? t...</td>\n",
              "    </tr>\n",
              "  </tbody>\n",
              "</table>\n",
              "</div>\n",
              "      <button class=\"colab-df-convert\" onclick=\"convertToInteractive('df-81b3bdea-1e2c-410e-b186-8d43210f5114')\"\n",
              "              title=\"Convert this dataframe to an interactive table.\"\n",
              "              style=\"display:none;\">\n",
              "        \n",
              "  <svg xmlns=\"http://www.w3.org/2000/svg\" height=\"24px\"viewBox=\"0 0 24 24\"\n",
              "       width=\"24px\">\n",
              "    <path d=\"M0 0h24v24H0V0z\" fill=\"none\"/>\n",
              "    <path d=\"M18.56 5.44l.94 2.06.94-2.06 2.06-.94-2.06-.94-.94-2.06-.94 2.06-2.06.94zm-11 1L8.5 8.5l.94-2.06 2.06-.94-2.06-.94L8.5 2.5l-.94 2.06-2.06.94zm10 10l.94 2.06.94-2.06 2.06-.94-2.06-.94-.94-2.06-.94 2.06-2.06.94z\"/><path d=\"M17.41 7.96l-1.37-1.37c-.4-.4-.92-.59-1.43-.59-.52 0-1.04.2-1.43.59L10.3 9.45l-7.72 7.72c-.78.78-.78 2.05 0 2.83L4 21.41c.39.39.9.59 1.41.59.51 0 1.02-.2 1.41-.59l7.78-7.78 2.81-2.81c.8-.78.8-2.07 0-2.86zM5.41 20L4 18.59l7.72-7.72 1.47 1.35L5.41 20z\"/>\n",
              "  </svg>\n",
              "      </button>\n",
              "      \n",
              "  <style>\n",
              "    .colab-df-container {\n",
              "      display:flex;\n",
              "      flex-wrap:wrap;\n",
              "      gap: 12px;\n",
              "    }\n",
              "\n",
              "    .colab-df-convert {\n",
              "      background-color: #E8F0FE;\n",
              "      border: none;\n",
              "      border-radius: 50%;\n",
              "      cursor: pointer;\n",
              "      display: none;\n",
              "      fill: #1967D2;\n",
              "      height: 32px;\n",
              "      padding: 0 0 0 0;\n",
              "      width: 32px;\n",
              "    }\n",
              "\n",
              "    .colab-df-convert:hover {\n",
              "      background-color: #E2EBFA;\n",
              "      box-shadow: 0px 1px 2px rgba(60, 64, 67, 0.3), 0px 1px 3px 1px rgba(60, 64, 67, 0.15);\n",
              "      fill: #174EA6;\n",
              "    }\n",
              "\n",
              "    [theme=dark] .colab-df-convert {\n",
              "      background-color: #3B4455;\n",
              "      fill: #D2E3FC;\n",
              "    }\n",
              "\n",
              "    [theme=dark] .colab-df-convert:hover {\n",
              "      background-color: #434B5C;\n",
              "      box-shadow: 0px 1px 3px 1px rgba(0, 0, 0, 0.15);\n",
              "      filter: drop-shadow(0px 1px 2px rgba(0, 0, 0, 0.3));\n",
              "      fill: #FFFFFF;\n",
              "    }\n",
              "  </style>\n",
              "\n",
              "      <script>\n",
              "        const buttonEl =\n",
              "          document.querySelector('#df-81b3bdea-1e2c-410e-b186-8d43210f5114 button.colab-df-convert');\n",
              "        buttonEl.style.display =\n",
              "          google.colab.kernel.accessAllowed ? 'block' : 'none';\n",
              "\n",
              "        async function convertToInteractive(key) {\n",
              "          const element = document.querySelector('#df-81b3bdea-1e2c-410e-b186-8d43210f5114');\n",
              "          const dataTable =\n",
              "            await google.colab.kernel.invokeFunction('convertToInteractive',\n",
              "                                                     [key], {});\n",
              "          if (!dataTable) return;\n",
              "\n",
              "          const docLinkHtml = 'Like what you see? Visit the ' +\n",
              "            '<a target=\"_blank\" href=https://colab.research.google.com/notebooks/data_table.ipynb>data table notebook</a>'\n",
              "            + ' to learn more about interactive tables.';\n",
              "          element.innerHTML = '';\n",
              "          dataTable['output_type'] = 'display_data';\n",
              "          await google.colab.output.renderOutput(dataTable, element);\n",
              "          const docLink = document.createElement('div');\n",
              "          docLink.innerHTML = docLinkHtml;\n",
              "          element.appendChild(docLink);\n",
              "        }\n",
              "      </script>\n",
              "    </div>\n",
              "  </div>\n",
              "  "
            ],
            "text/plain": [
              "   keyword  ...                                               text\n",
              "15  ablaze  ...  Birmingham Wholesale Market is ablaze BBC News...\n",
              "16  ablaze  ...  @sunkxssedharry will you wear shorts for race ...\n",
              "17  ablaze  ...  #PreviouslyOnDoyinTv: Toke MakinwaÛªs marriag...\n",
              "18  ablaze  ...  Check these out: http://t.co/rOI2NSmEJJ http:/...\n",
              "19  ablaze  ...  PSA: IÛªm splitting my personalities.\\n\\n?? t...\n",
              "\n",
              "[5 rows x 3 columns]"
            ]
          },
          "metadata": {},
          "execution_count": 26
        }
      ]
    },
    {
      "cell_type": "code",
      "source": [
        "df_test.shape"
      ],
      "metadata": {
        "colab": {
          "base_uri": "https://localhost:8080/"
        },
        "id": "amRNnrqwz8CF",
        "outputId": "c621e3f1-1bf9-4851-cc4e-86e993734bb0"
      },
      "execution_count": null,
      "outputs": [
        {
          "output_type": "execute_result",
          "data": {
            "text/plain": [
              "(2146, 3)"
            ]
          },
          "metadata": {},
          "execution_count": 27
        }
      ]
    },
    {
      "cell_type": "code",
      "source": [
        "df_test.isna().sum()"
      ],
      "metadata": {
        "id": "nTvI2pd10KZS",
        "outputId": "e2d0e785-4bcb-4f96-aed0-fe0a468b17eb",
        "colab": {
          "base_uri": "https://localhost:8080/"
        }
      },
      "execution_count": null,
      "outputs": [
        {
          "output_type": "execute_result",
          "data": {
            "text/plain": [
              "keyword     0\n",
              "location    0\n",
              "text        0\n",
              "dtype: int64"
            ]
          },
          "metadata": {},
          "execution_count": 28
        }
      ]
    },
    {
      "cell_type": "markdown",
      "source": [
        "I - **Visualization**"
      ],
      "metadata": {
        "id": "ydRr4n1yJXQj"
      }
    },
    {
      "cell_type": "code",
      "metadata": {
        "id": "9d0LR6exhDyv",
        "colab": {
          "base_uri": "https://localhost:8080/",
          "height": 401
        },
        "outputId": "46346d0d-7c84-49de-cdae-9d6e71325dba"
      },
      "source": [
        "# Visualisation de la distribution de la cible \n",
        "plt.style.use('seaborn')\n",
        "sns.countplot(df_train['target'])\n",
        "plt.title('Distribution of target', fontsize=20)"
      ],
      "execution_count": null,
      "outputs": [
        {
          "output_type": "execute_result",
          "data": {
            "text/plain": [
              "Text(0.5, 1.0, 'Distribution of target')"
            ]
          },
          "metadata": {},
          "execution_count": 29
        },
        {
          "output_type": "display_data",
          "data": {
            "image/png": "[encoded data removed]",
            "text/plain": [
              "<Figure size 576x396 with 1 Axes>"
            ]
          },
          "metadata": {}
        }
      ]
    },
    {
      "cell_type": "code",
      "metadata": {
        "id": "rH3nN2c1hD00",
        "colab": {
          "base_uri": "https://localhost:8080/"
        },
        "outputId": "537e7fe6-5edd-423b-a5b3-84cdb6115161"
      },
      "source": [
        "df_train['keyword'].value_counts()[0:20]"
      ],
      "execution_count": null,
      "outputs": [
        {
          "output_type": "execute_result",
          "data": {
            "text/plain": [
              "collision           36\n",
              "whirlwind           33\n",
              "fatalities          32\n",
              "armageddon          32\n",
              "outbreak            31\n",
              "sandstorm           31\n",
              "emergency%20plan    31\n",
              "flames              31\n",
              "derailed            31\n",
              "earthquake          30\n",
              "danger              30\n",
              "desolation          30\n",
              "harm                30\n",
              "damage              30\n",
              "inundated           30\n",
              "upheaval            30\n",
              "rainstorm           29\n",
              "flattened           29\n",
              "weapons             29\n",
              "sinkhole            29\n",
              "Name: keyword, dtype: int64"
            ]
          },
          "metadata": {},
          "execution_count": 30
        }
      ]
    },
    {
      "cell_type": "code",
      "metadata": {
        "id": "S6t2VxUChD3b",
        "colab": {
          "base_uri": "https://localhost:8080/",
          "height": 367
        },
        "outputId": "fb76a87a-6d89-4944-d853-8149f2489b99"
      },
      "source": [
        "#Let's take the 20 most frequent keywords\n",
        "top20 = df_train['keyword'].value_counts()[0:20].index.tolist()\n",
        "#We take all the keywords and targets if they are in the top20 list\n",
        "df_top20 = [(keyword,target) for keyword,target in zip(df_train['keyword'], df_train['target']) if keyword in top20]\n",
        "df_top20 = pd.DataFrame(df_top20, columns = ['keyword', 'target'])\n",
        "\n",
        "#We plot the results to see the impact of keywords on target\n",
        "sns.set_theme(style=\"ticks\")\n",
        "fig, ax = plt.subplots(1,1, figsize = (20,6))\n",
        "g = sns.histplot(data = df_top20, x = 'keyword', hue = 'target', multiple = 'dodge', shrink = 0.5, ax = ax)\n",
        "g.set_xticklabels(labels = top20, rotation=30)\n",
        "g.set_xlabel('')\n",
        "g.set_title('Top 20 Keyword count by nature of tweet', fontsize=20)\n",
        "g.legend(['Disaster','Not Disaster'],loc=\"upper right\")\n",
        "\n",
        "plt.show()"
      ],
      "execution_count": null,
      "outputs": [
        {
          "output_type": "display_data",
          "data": {
            "image/png": "[encoded data removed]",
            "text/plain": [
              "<Figure size 1440x432 with 1 Axes>"
            ]
          },
          "metadata": {}
        }
      ]
    },
    {
      "cell_type": "code",
      "source": [
        "#Comme nous pouvons le voir, certains mots-clés sont plus fréquemment utilisés pour décrire les catastrophes que d'autres\n",
        "#Jetons maintenant un coup d'œil à la colonne d'emplacement"
      ],
      "metadata": {
        "id": "tUvGmqHxPjDd"
      },
      "execution_count": null,
      "outputs": []
    },
    {
      "cell_type": "code",
      "source": [
        "df_train['location'].value_counts()[0:20]"
      ],
      "metadata": {
        "colab": {
          "base_uri": "https://localhost:8080/"
        },
        "id": "BYmIM4uBSvfh",
        "outputId": "f99f4691-efd0-4611-b417-34415ee9266b"
      },
      "execution_count": null,
      "outputs": [
        {
          "output_type": "execute_result",
          "data": {
            "text/plain": [
              "USA                104\n",
              "New York            71\n",
              "United States       50\n",
              "London              45\n",
              "Canada              29\n",
              "UK                  26\n",
              "Los Angeles, CA     26\n",
              "Nigeria             23\n",
              "India               21\n",
              "Washington, DC      21\n",
              "Mumbai              20\n",
              "Kenya               20\n",
              "Worldwide           19\n",
              "Chicago, IL         18\n",
              "Australia           18\n",
              "California          17\n",
              "New York, NY        15\n",
              "California, USA     15\n",
              "Everywhere          15\n",
              "Florida             14\n",
              "Name: location, dtype: int64"
            ]
          },
          "metadata": {},
          "execution_count": 33
        }
      ]
    },
    {
      "cell_type": "code",
      "source": [
        "#Let's take the rest of the 20 most frequent keywords\n",
        "top20 = df_train['location'].value_counts()[0:20].index.tolist()\n",
        "#We take all the locations and targets if they are in the top20 list\n",
        "df_top20 = [(location,target) for location,target in zip(df_train['location'], df_train['target']) if location in top20]\n",
        "df_top20 = pd.DataFrame(df_top20, columns = ['location', 'target'])\n",
        "\n",
        "sns.set_theme(style=\"ticks\")\n",
        "\n",
        "fig,ax = plt.subplots(1,1, figsize = (20,6))\n",
        "\n",
        "g20 = sns.histplot(data = df_top20, x = 'location', hue = 'target', multiple = 'dodge', shrink = 0.5, ax = ax)\n",
        "g20.set_xticklabels(labels = top20, rotation=45)\n",
        "g20.set_xlabel('')\n",
        "g20.set_title('Top 20 location count by nature of tweet', fontsize=20)\n",
        "g20.legend(['Disaster','Not Disaster'],loc=\"upper right\")\n",
        "\n",
        "plt.show()"
      ],
      "metadata": {
        "colab": {
          "base_uri": "https://localhost:8080/",
          "height": 371
        },
        "id": "Dd7DglqaSvio",
        "outputId": "7b0d7cc2-3a5c-47bb-9e8d-5aa6b73e1de4"
      },
      "execution_count": null,
      "outputs": [
        {
          "output_type": "display_data",
          "data": {
            "image/png": "[encoded data removed]",
            "text/plain": [
              "<Figure size 1440x432 with 1 Axes>"
            ]
          },
          "metadata": {}
        }
      ]
    },
    {
      "cell_type": "code",
      "source": [
        "#L'emplacement n'est pas cohérent comme nous pouvons le voir par exemple \"USA\" et \"United States\" ou \"California\" et \"California, USA\",\n",
        "#étant utilisés en même temps, nous devrons peut-être le nettoyer un peu si nous voulons l'utiliser."
      ],
      "metadata": {
        "id": "DOOmJWlKSvl-"
      },
      "execution_count": null,
      "outputs": []
    },
    {
      "cell_type": "markdown",
      "source": [
        "II- Nettoyage de la colonne localisation "
      ],
      "metadata": {
        "id": "HTVBOUsnWHYE"
      }
    },
    {
      "cell_type": "code",
      "source": [
        "#On va sélectionner la localisation unique \n",
        "pd.DataFrame(df_train['location'].unique(), columns=['location']).sort_values(by='location')"
      ],
      "metadata": {
        "colab": {
          "base_uri": "https://localhost:8080/",
          "height": 423
        },
        "id": "Ok0rFCsGSvo7",
        "outputId": "9bfb3cd0-7fc2-4c29-9423-f3a1b8e3c0ea"
      },
      "execution_count": null,
      "outputs": [
        {
          "output_type": "execute_result",
          "data": {
            "text/html": [
              "\n",
              "  <div id=\"df-7e4765d5-832b-4e45-8dbb-85429b6bf98d\">\n",
              "    <div class=\"colab-df-container\">\n",
              "      <div>\n",
              "<style scoped>\n",
              "    .dataframe tbody tr th:only-of-type {\n",
              "        vertical-align: middle;\n",
              "    }\n",
              "\n",
              "    .dataframe tbody tr th {\n",
              "        vertical-align: top;\n",
              "    }\n",
              "\n",
              "    .dataframe thead th {\n",
              "        text-align: right;\n",
              "    }\n",
              "</style>\n",
              "<table border=\"1\" class=\"dataframe\">\n",
              "  <thead>\n",
              "    <tr style=\"text-align: right;\">\n",
              "      <th></th>\n",
              "      <th>location</th>\n",
              "    </tr>\n",
              "  </thead>\n",
              "  <tbody>\n",
              "    <tr>\n",
              "      <th>2999</th>\n",
              "      <td></td>\n",
              "    </tr>\n",
              "    <tr>\n",
              "      <th>3314</th>\n",
              "      <td>Glasgow</td>\n",
              "    </tr>\n",
              "    <tr>\n",
              "      <th>928</th>\n",
              "      <td>Melbourne, Australia</td>\n",
              "    </tr>\n",
              "    <tr>\n",
              "      <th>1368</th>\n",
              "      <td>News</td>\n",
              "    </tr>\n",
              "    <tr>\n",
              "      <th>1800</th>\n",
              "      <td>å_</td>\n",
              "    </tr>\n",
              "    <tr>\n",
              "      <th>...</th>\n",
              "      <td>...</td>\n",
              "    </tr>\n",
              "    <tr>\n",
              "      <th>1981</th>\n",
              "      <td>å_: ?? ÌÑ ? : ?</td>\n",
              "    </tr>\n",
              "    <tr>\n",
              "      <th>3022</th>\n",
              "      <td>å_å_Los Mina Cityã¢</td>\n",
              "    </tr>\n",
              "    <tr>\n",
              "      <th>3082</th>\n",
              "      <td>å¡å¡Midwest Û¢Û¢</td>\n",
              "    </tr>\n",
              "    <tr>\n",
              "      <th>3156</th>\n",
              "      <td>åÊ(?Û¢`?Û¢å«)??</td>\n",
              "    </tr>\n",
              "    <tr>\n",
              "      <th>1228</th>\n",
              "      <td>åø\\_(?)_/åø</td>\n",
              "    </tr>\n",
              "  </tbody>\n",
              "</table>\n",
              "<p>3321 rows × 1 columns</p>\n",
              "</div>\n",
              "      <button class=\"colab-df-convert\" onclick=\"convertToInteractive('df-7e4765d5-832b-4e45-8dbb-85429b6bf98d')\"\n",
              "              title=\"Convert this dataframe to an interactive table.\"\n",
              "              style=\"display:none;\">\n",
              "        \n",
              "  <svg xmlns=\"http://www.w3.org/2000/svg\" height=\"24px\"viewBox=\"0 0 24 24\"\n",
              "       width=\"24px\">\n",
              "    <path d=\"M0 0h24v24H0V0z\" fill=\"none\"/>\n",
              "    <path d=\"M18.56 5.44l.94 2.06.94-2.06 2.06-.94-2.06-.94-.94-2.06-.94 2.06-2.06.94zm-11 1L8.5 8.5l.94-2.06 2.06-.94-2.06-.94L8.5 2.5l-.94 2.06-2.06.94zm10 10l.94 2.06.94-2.06 2.06-.94-2.06-.94-.94-2.06-.94 2.06-2.06.94z\"/><path d=\"M17.41 7.96l-1.37-1.37c-.4-.4-.92-.59-1.43-.59-.52 0-1.04.2-1.43.59L10.3 9.45l-7.72 7.72c-.78.78-.78 2.05 0 2.83L4 21.41c.39.39.9.59 1.41.59.51 0 1.02-.2 1.41-.59l7.78-7.78 2.81-2.81c.8-.78.8-2.07 0-2.86zM5.41 20L4 18.59l7.72-7.72 1.47 1.35L5.41 20z\"/>\n",
              "  </svg>\n",
              "      </button>\n",
              "      \n",
              "  <style>\n",
              "    .colab-df-container {\n",
              "      display:flex;\n",
              "      flex-wrap:wrap;\n",
              "      gap: 12px;\n",
              "    }\n",
              "\n",
              "    .colab-df-convert {\n",
              "      background-color: #E8F0FE;\n",
              "      border: none;\n",
              "      border-radius: 50%;\n",
              "      cursor: pointer;\n",
              "      display: none;\n",
              "      fill: #1967D2;\n",
              "      height: 32px;\n",
              "      padding: 0 0 0 0;\n",
              "      width: 32px;\n",
              "    }\n",
              "\n",
              "    .colab-df-convert:hover {\n",
              "      background-color: #E2EBFA;\n",
              "      box-shadow: 0px 1px 2px rgba(60, 64, 67, 0.3), 0px 1px 3px 1px rgba(60, 64, 67, 0.15);\n",
              "      fill: #174EA6;\n",
              "    }\n",
              "\n",
              "    [theme=dark] .colab-df-convert {\n",
              "      background-color: #3B4455;\n",
              "      fill: #D2E3FC;\n",
              "    }\n",
              "\n",
              "    [theme=dark] .colab-df-convert:hover {\n",
              "      background-color: #434B5C;\n",
              "      box-shadow: 0px 1px 3px 1px rgba(0, 0, 0, 0.15);\n",
              "      filter: drop-shadow(0px 1px 2px rgba(0, 0, 0, 0.3));\n",
              "      fill: #FFFFFF;\n",
              "    }\n",
              "  </style>\n",
              "\n",
              "      <script>\n",
              "        const buttonEl =\n",
              "          document.querySelector('#df-7e4765d5-832b-4e45-8dbb-85429b6bf98d button.colab-df-convert');\n",
              "        buttonEl.style.display =\n",
              "          google.colab.kernel.accessAllowed ? 'block' : 'none';\n",
              "\n",
              "        async function convertToInteractive(key) {\n",
              "          const element = document.querySelector('#df-7e4765d5-832b-4e45-8dbb-85429b6bf98d');\n",
              "          const dataTable =\n",
              "            await google.colab.kernel.invokeFunction('convertToInteractive',\n",
              "                                                     [key], {});\n",
              "          if (!dataTable) return;\n",
              "\n",
              "          const docLinkHtml = 'Like what you see? Visit the ' +\n",
              "            '<a target=\"_blank\" href=https://colab.research.google.com/notebooks/data_table.ipynb>data table notebook</a>'\n",
              "            + ' to learn more about interactive tables.';\n",
              "          element.innerHTML = '';\n",
              "          dataTable['output_type'] = 'display_data';\n",
              "          await google.colab.output.renderOutput(dataTable, element);\n",
              "          const docLink = document.createElement('div');\n",
              "          docLink.innerHTML = docLinkHtml;\n",
              "          element.appendChild(docLink);\n",
              "        }\n",
              "      </script>\n",
              "    </div>\n",
              "  </div>\n",
              "  "
            ],
            "text/plain": [
              "                    location\n",
              "2999                        \n",
              "3314                Glasgow \n",
              "928     Melbourne, Australia\n",
              "1368                    News\n",
              "1800                     å_ \n",
              "...                      ...\n",
              "1981         å_: ?? ÌÑ ? : ?\n",
              "3022    å_å_Los Mina Cityã¢\n",
              "3082      å¡å¡Midwest Û¢Û¢\n",
              "3156       åÊ(?Û¢`?Û¢å«)??\n",
              "1228             åø\\_(?)_/åø\n",
              "\n",
              "[3321 rows x 1 columns]"
            ]
          },
          "metadata": {},
          "execution_count": 35
        }
      ]
    },
    {
      "cell_type": "code",
      "source": [
        "#Après avoir vu qu'il y a des doublons, des mots mal orthographiés, l'utilisation d'abréviations et d'autres choses conduisant à des incohérences, essayons de nettoyer au mieux. \n",
        "#Je vais ensuite créer une fonction en utilisant regex"
      ],
      "metadata": {
        "id": "6f8fxyTMW4gj"
      },
      "execution_count": null,
      "outputs": []
    },
    {
      "cell_type": "code",
      "source": [
        "   def correct_location(x):\n",
        "    #special char\n",
        "    x = re.sub(r\"United States\", \"USA\", x)\n",
        "    x = re.sub(r\"America\", \"USA\", x)\n",
        "    x = re.sub(r\"America [|] New Zealand \", \"USA\", x)\n",
        "    x = re.sub(r\"Americas Newsroom\", \"USA\", x)\n",
        "    x = re.sub(r\"us\", \"USA\", x)\n",
        "    x = re.sub(r\"us-east-1a\", \"USA\", x)\n",
        "\n",
        "    x = re.sub(r\"Los Angeles, CA\", \"Los Angeles\", x)\n",
        "    x = re.sub(r\"Chicago, IL\", \"Chicago\", x)\n",
        "\n",
        "    x = re.sub(r\"Boston MA\", \"Boston\", x)\n",
        "    x = re.sub(r\"Boston [\\]x89Û¢ Cape Cod [?]\", \"Boston\", x)\n",
        "    x = re.sub(r\"Boston, MA\", \"Boston\", x)\n",
        "    x = re.sub(r\"Boston, Massachusetts\", \"Boston\", x)\n",
        "    x = re.sub(r\"Boston/Montreal \", \"Boston\", x)\n",
        "\n",
        "    x = re.sub(r\"Birmingham [&] Bristol\", \"Birmingham\", x)\n",
        "    x = re.sub(r\"Birmingham UK\", \"Birmingham\", x)\n",
        "    x = re.sub(r\"Birmingham and the Marches\", \"Birmingham\", x)\n",
        "    x = re.sub(r\"Birmingham, England\", \"Birmingham\", x)\n",
        "    x = re.sub(r\"Birmingham, UK \", \"Birmingham\", x)\n",
        "    x = re.sub(r\"Birmingham, United Kingdom\", \"Birmingham\", x)\n",
        "\n",
        "    x = re.sub(r\"California, USA\", \"California\", x)\n",
        "    x = re.sub(r\"California, United States\", \"California\", x)\n",
        "    x = re.sub(r\"California or Colorado\", \"California\", x)\n",
        "    \n",
        "\n",
        "    x = re.sub(r\"New York, NY\", \"New York\", x)\n",
        "    x = re.sub(r\"New York City\", \"New York\", x)\n",
        "    x = re.sub(r\"New York, USA\", \"New York\", x)\n",
        "    x = re.sub(r\"NY\", \"New York\", x)\n",
        "    x = re.sub(r\"new york\", \"New York\", x)\n",
        "    x = re.sub(r\"nc\", \"New York\", x)\n",
        "    x = re.sub(r\"nyc\", \"New York\", x)\n",
        "\n",
        "    x = re.sub(r\"Florida Forever\", \"Florida\", x)\n",
        "    x = re.sub(r\"Florida USA\", \"Florida\", x)\n",
        "    x = re.sub(r\"Florida but I wanna be n Texas\", \"Florida\", x)\n",
        "    x = re.sub(r\"Florida, USA\", \"Florida\", x)\n",
        "    x = re.sub(r\"Florida, USA\", \"Florida\", x)\n",
        "\n",
        "    x = re.sub(r\"Dallas, TX\", \"Dallas\", x)\n",
        "    x = re.sub(r\"Dallas, TX \", \"Dallas\", x)\n",
        "    x = re.sub(r\"Dallas, Tejas\", \"Dallas\", x)\n",
        "    x = re.sub(r\"Dallas, Texas[.] \", \"Dallas\", x)\n",
        "\n",
        "    x = re.sub(r\"England \", \"England\", x)\n",
        "    x = re.sub(r\"England [&] Wales Border, UK\", \"England\", x)\n",
        "    x = re.sub(r\"England, Great Britain[.]\", \"England\", x)\n",
        "    x = re.sub(r\"England, United Kingdom\", \"England\", x)\n",
        "    x = re.sub(r\"England,UK,Europe,Sol 3[.]\", \"England\", x)\n",
        "    x = re.sub(r\"England[.]\", \"England\", x)\n",
        "    x = re.sub(r\"English Midlands\", \"England\", x)\n",
        "\n",
        "    x = re.sub(r\"Texas, USA\", \"Texas\", x)\n",
        "    x = re.sub(r\"Lagos, Nigeria\", \"Nigeria\", x)\n",
        "    x = re.sub(r\"Nxgerxa\", \"Lagos\", x)\n",
        "\n",
        "    x = re.sub(r\"Tampa, FL\", \"Tampa\", x)\n",
        "    x = re.sub(r\"Florida, USA\", \"Florida\", x)\n",
        "    x = re.sub(r\"Asheville, NC\", \"Asheville\", x)\n",
        "    x = re.sub(r\"Oklahoma City, OK \", \"Oklahoma City\", x)\n",
        "\n",
        "    x = re.sub(r\"Melbourne, Australia\", \"Australia\", x)\n",
        "    x = re.sub(r\"Adelaide\", \"Australia\", x)\n",
        "    x = re.sub(r\"Adelaide, Australia, Australia\", \"Australia\", x)\n",
        "    x = re.sub(r\"Adelaide, South Australia\", \"Australia\", x)\n",
        "    x = re.sub(r\"Australia \", \"Australia\", x)\n",
        "    x = re.sub(r\"Australian Capital Territory\", \"Australia\", x)\n",
        "\n",
        "    x = re.sub(r\"Bangalore City, India\", \"Bangalore\", x)\n",
        "    x = re.sub(r\"Bangalore, INDIA\", \"Bangalore\", x)\n",
        "    x = re.sub(r\"Bangalore, India\", \"Bangalore\", x)\n",
        "    x = re.sub(r\"Bangalore[.] India\", \"Bangalore\", x)\n",
        "\n",
        "    x = re.sub(r\"Mumbai \\(India\\)\", \"Mumbai\", x)\n",
        "    x = re.sub(r\"Mumbai india\", \"Mumbai\", x)\n",
        "    x = re.sub(r\"Bangalore[.] India\", \"Mumbai\", x)\n",
        "    x = re.sub(r\"Bangalore[.] India\", \"Mumbai\", x)\n",
        "\n",
        "    x = re.sub(r\"Washington, DC\", \"Washington\", x)\n",
        "    x = re.sub(r\"Washington, D[.]C[.]\", \"Washington\", x)\n",
        "    x = re.sub(r\"Washington, D[.]C[.]\", \"Washington\", x)\n",
        "    x = re.sub(r\"Washington [&] Charlotte\", \"Washington\", x)\n",
        "    x = re.sub(r\"Washington 20009\", \"Washington\", x)\n",
        "    x = re.sub(r\"Washington D[.]C[.]\", \"Washington\", x)\n",
        "    x = re.sub(r\"Washington DC\", \"Washington\", x)\n",
        "    x = re.sub(r\"Washington DC [/] Nantes\", \"Washington\", x)\n",
        "    x = re.sub(r\"Washington NATIVE\", \"Washington\", x)\n",
        "    x = re.sub(r\"Washington State\", \"Washington\", x)\n",
        "    x = re.sub(r\"Washington state\", \"Washington\", x)\n",
        "\n",
        "    x = re.sub(r\"San Francisco, CA\", \"San Francisco\", x)\n",
        "\n",
        "    x = re.sub(r\"London, UK\", \"London\", x)\n",
        "    x = re.sub(r\"London, England\", \"London\", x)\n",
        "    x = re.sub(r\"London / Berlin / Online\", \"London\", x)\n",
        "    x = re.sub(r\"London UK\", \"London\", x)\n",
        "    x = re.sub(r\"London[.]\", \"London\", x)\n",
        "    x = re.sub(r\"London/Bristol/Guildford\", \"London\", x)\n",
        "    x = re.sub(r\"London/Lagos/FL ÌÏT: 6[.]6200132\", \"London\", x)\n",
        "    x = re.sub(r\"London/New York\", \"London\", x)\n",
        "    x = re.sub(r\"London/Outlaw Country\", \"London\", x)\n",
        "    x = re.sub(r\"London/Surrey\", \"London\", x)\n",
        "\n",
        "    x = re.sub(r\"Atlanta, GA\", \"Atlanta\", x)\n",
        "    x = re.sub(r\"Atlanta [-] FAU class of '18\", \"Atlanta\", x)\n",
        "    x = re.sub(r\"Atlanta Georgia\", \"Atlanta\", x)\n",
        "    x = re.sub(r\"Atlanta Georgia \", \"Atlanta\", x)\n",
        "    x = re.sub(r\"Atlanta g[.]a[.]\", \"Atlanta\", x)\n",
        "    x = re.sub(r\"Atlanta[(]ish[)], GA\", \"Atlanta\", x)\n",
        "    x = re.sub(r\"Atlanta, Ga\", \"Atlanta\", x)\n",
        "    x = re.sub(r\"Atlanta, Georgia\", \"Atlanta\", x)\n",
        "    x = re.sub(r\"Atlanta, Georgia USA\", \"Atlanta\", x)\n",
        "    x = re.sub(r\"Atlanta,Ga\", \"Atlanta\", x)\n",
        "    x = re.sub(r\"Atlanta \", \"Atlanta\", x)\n",
        "    x = re.sub(r\"Atlanta USA\", \"Atlanta\", x)\n",
        "    x = re.sub(r\"Atlanta[(]ish[)]\", \"Atlanta\", x)\n",
        "    x = re.sub(r\"Atlanta,Ga\", \"Atlanta\", x)\n",
        "\n",
        "    x = re.sub(r\"Sacramento, CA\", \"Sacramento\", x)\n",
        "\n",
        "    x = re.sub(r\"Nashville, TN\", \"Nashville\", x)\n",
        "    x = re.sub(r\"Denver, Colorado\", \"Denver\", x)\n",
        "    x = re.sub(r\"Dallas, TX\", \"Dallas\", x)\n",
        "    x = re.sub(r\"Houston, TX\", \"Houston\", x)\n",
        "    x = re.sub(r\"Seattle, WA\", \"Seattle\", x)\n",
        "    x = re.sub(r\"Pennsylvania, USA, WA\", \"Pennsylvania\", x)\n",
        "    x = re.sub(r\"Memphis, TN\", \"Memphis\", x)\n",
        "    x = re.sub(r\"Austin, TX\", \"Austin\", x)\n",
        "    x = re.sub(r\"Austin TX\", \"Austin\", x)\n",
        "    x = re.sub(r\"Austin [|] San Diego\", \"Austin\", x)\n",
        "    x = re.sub(r\"Austin/Los Angeles\", \"Austin\", x)\n",
        "\n",
        "    x = re.sub(r\"Portland, OR\", \"Portland\", x)\n",
        "\n",
        "    x = re.sub(r\"Charlotte, NC\", \"Charlotte\", x)\n",
        "    x = re.sub(r\"Charlotte \", \"Charlotte\", x)\n",
        "    x = re.sub(r\"Charlotte County Florida\", \"Charlotte\", x)\n",
        "    x = re.sub(r\"Charlotte, N[.]C[.]\", \"Charlotte\", x)\n",
        "    x = re.sub(r\"Charlotte, NC [|] KÌ¦ln, NRW\", \"Charlotte\", x)\n",
        "    x = re.sub(r\"Charlotte, North Carolina\", \"Charlotte\", x)\n",
        "    x = re.sub(r\"CharlotteCounty Florida\", \"Charlotte\", x)\n",
        "    x = re.sub(r\"CharlotteNC\", \"Charlotte\", x)\n",
        "    x = re.sub(r\"Charlottetown\", \"Charlotte\", x)\n",
        "    x = re.sub(r\"Charlotte[|]Charlotte\", \"Charlotte\", x)\n",
        "\n",
        "    x = re.sub(r\"Brooklyn, NY\", \"Brooklyn\", x)\n",
        "\n",
        "    x = re.sub(r\"Brasil, Fortaleza ce\", \"Brazil\", x)\n",
        "    x = re.sub(r\"Brasil,SP\", \"Brazil\", x)\n",
        "    x = re.sub(r\"BrasÌ_lia\", \"Brazil\", x)\n",
        "    x = re.sub(r\"Brazil\", \"Brazil\", x)\n",
        "    x = re.sub(r\"Brazil \", \"Brazil\", x)\n",
        "\n",
        "    x = re.sub(r\"Calgary, Alberta\", \"Calgary\", x)\n",
        "    x = re.sub(r\"Calgary, AB\", \"Calgary\", x)\n",
        "    x = re.sub(r\"Calgary, AB, Canada\", \"Calgary\", x)\n",
        "    x = re.sub(r\"Calgary/Airdrie/RedDeer/AB\", \"Calgary\", x)\n",
        "    x = re.sub(r\"Calgary,AB, Canada\", \"Calgary\", x)\n",
        "    x = re.sub(r\"Calgary, Canada\", \"Calgary\", x)\n",
        "    x = re.sub(r\"Calgary, Alberta, Canada\", \"Calgary\", x)\n",
        "    x = re.sub(r\"MontrÌ©al\", \"Montreal\", x)\n",
        "   \n",
        "    x = re.sub(r\"Alberta \", \"Alberta\", x)\n",
        "    x = re.sub(r\"Alberta Pack\", \"Alberta\", x)\n",
        "    x = re.sub(r\"Alberta Pack\", \"Alberta\", x)\n",
        "    x = re.sub(r\"Alberta [|] Sask[.] [|] Montana\", \"Alberta\", x)\n",
        "\n",
        "    x = re.sub(r\"Morioh, Japan\", \"Japan\", x)\n",
        "    x = re.sub(r\"Orlando, FL \", \"Orlando\", x)\n",
        "    x = re.sub(r\"Portland, OR\", \"Portland\", x)\n",
        "   \n",
        "    x = re.sub(r\"Afghanistan, USA\", \"Afghanistan\", x)\n",
        "    x = re.sub(r\"Abuja\", \"Abuja\", x)\n",
        "    x = re.sub(r\"Abuja,Nigeria\", \"Abuja\", x)\n",
        "    x = re.sub(r\"Abuja\", \"Nigeria\", x)\n",
        "\n",
        "    x = re.sub(r\"Alabama, USA\", \"Alabama\", x)\n",
        "    x = re.sub(r\"Alameda and Pleasanton, CA\", \"Alameda\", x)\n",
        "    x = re.sub(r\"Alameda, CA\", \"Alameda\", x)\n",
        "\n",
        "    x = re.sub(r\"Alaska, USA\", \"Alaska\", x)\n",
        "\n",
        "    x = re.sub(r\"Albuquerque New Mexico\", \"Albuquerque\", x)\n",
        "\n",
        "    x = re.sub(r\"Alexandria, VA\", \"Alexandria\", x)\n",
        "    x = re.sub(r\"Alexandria, VA, USA\", \"Alexandria\", x)\n",
        "\n",
        "    x = re.sub(r\"All around the world\", \"worldwide!\", x)\n",
        "    x = re.sub(r\"All around the world\", \"worldwide!\", x)\n",
        "    x = re.sub(r\"All around the world baby\", \"worldwide!\", x)\n",
        "    x = re.sub(r\"All around the world[!]\", \"worldwide!\", x)\n",
        "    x = re.sub(r\"All Around the World baby\", \"worldwide!\", x)\n",
        "    x = re.sub(r\"All Around the World[!]\", \"worldwide!\", x)\n",
        "\n",
        "    x = re.sub(r\"Alicante, Spain\", \"Alicante\", x)\n",
        "    x = re.sub(r\"Alicante, Valencia\", \"Alicante\", x)\n",
        "\n",
        "    return x"
      ],
      "metadata": {
        "id": "a3ED4LMhW4jw"
      },
      "execution_count": null,
      "outputs": []
    },
    {
      "cell_type": "code",
      "source": [
        "#Nous effectuerons simultanément les changements sur le train et sur le test pour faciliter les prochaines parties de l'étude:\n",
        "\n",
        "#on train\n",
        "df_train['location_clean']=df_train['location'].apply(lambda x: correct_location(x))\n",
        "print(df_train['location_clean'].tail(25))\n",
        "\n",
        "#on test\n",
        "df_test['location_clean'] = df_test['location'].apply(lambda x: correct_location(x))"
      ],
      "metadata": {
        "colab": {
          "base_uri": "https://localhost:8080/"
        },
        "id": "-B4a85y2W4p2",
        "outputId": "3cf0ce59-cf84-4e22-aa56-d783c4985544"
      },
      "execution_count": null,
      "outputs": [
        {
          "output_type": "stream",
          "name": "stdout",
          "text": [
            "7418                New Delhi,India\n",
            "7419                   Xi'an, China\n",
            "7420                         Mumbai\n",
            "7421             Brooklyn, New York\n",
            "7422           Robin Hood's County \n",
            "7424                            USA\n",
            "7425                   Pennsylvania\n",
            "7429                 Santa Cruz, CA\n",
            "7432               Milwaukee County\n",
            "7433    Click the link below, okay \n",
            "7435              probably not home\n",
            "7438                              6\n",
            "7443                            USA\n",
            "7444                   At your back\n",
            "7446                 Livingston, MT\n",
            "7447                     California\n",
            "7448                       Glasgow \n",
            "7449            Manhattan, New York\n",
            "7450                  Denton, Texas\n",
            "7451                         Global\n",
            "7452                             TN\n",
            "7454         #NewcastleuponTyne #UK\n",
            "7456        VaNew Yorkouver, Canada\n",
            "7457                        London \n",
            "7458                  LiNew Yorkoln\n",
            "Name: location_clean, dtype: object\n"
          ]
        }
      ]
    },
    {
      "cell_type": "code",
      "source": [
        "#on train\n",
        "\n",
        "#Il y a certaines villes qui s'écrivent ainsi : \"New York City, US\" on sépare avant et après la virgule et on ne garde que la première partie \"New york City\"\n",
        "df_train['location_clean']=df_train['location_clean'].apply(lambda x: x.split(',')[0])\n",
        "#Idem avec le point\n",
        "df_train['location_clean']=df_train['location_clean'].apply(lambda x: x.split('.')[0])\n",
        "#On supprime les espaces au début et à la fin \n",
        "df_train['location_clean']=df_train['location_clean'].apply(lambda x: x.strip())\n",
        "#Nous mettons tout en minuscules car nous avons trouvé des doublons en minuscules\n",
        "df_train['location_clean']=df_train['location_clean'].str.lower()\n",
        "#Nous ne gardons que les lettres, tous les caractères non alpha sont supprimés, y compris les chiffres\n",
        "df_train['location_clean']=df_train['location_clean'].apply(lambda x: \"\".join(ch for ch in x if ch.isalpha() or ch == ' '))\n",
        "print(df_train['location_clean'].tail(25))\n",
        "\n",
        "#on test\n",
        "df_test['location_clean'] = df_test['location_clean'].apply(lambda x: x.split(',')[0])\n",
        "df_test['location_clean'] = df_test['location_clean'].apply(lambda x: x.split('.')[0])\n",
        "df_test['location_clean'] = df_test['location_clean'].apply(lambda x: x.strip())\n",
        "df_test['location_clean'] = df_test['location_clean'].str.lower()\n",
        "df_test['location_clean'] = df_test['location_clean'].apply(lambda x: \"\".join(ch for ch in x if ch.isalpha() or ch == ' '))"
      ],
      "metadata": {
        "id": "uKQ_JfySZOBv",
        "colab": {
          "base_uri": "https://localhost:8080/"
        },
        "outputId": "e611c038-e4ba-42e2-a88d-8af4f291d0f0"
      },
      "execution_count": null,
      "outputs": [
        {
          "output_type": "stream",
          "name": "stdout",
          "text": [
            "7418               new delhi\n",
            "7419                    xian\n",
            "7420                  mumbai\n",
            "7421                brooklyn\n",
            "7422      robin hoods county\n",
            "7424                     usa\n",
            "7425            pennsylvania\n",
            "7429              santa cruz\n",
            "7432        milwaukee county\n",
            "7433    click the link below\n",
            "7435       probably not home\n",
            "7438                        \n",
            "7443                     usa\n",
            "7444            at your back\n",
            "7446              livingston\n",
            "7447              california\n",
            "7448                 glasgow\n",
            "7449               manhattan\n",
            "7450                  denton\n",
            "7451                  global\n",
            "7452                      tn\n",
            "7454    newcastleupontyne uk\n",
            "7456         vanew yorkouver\n",
            "7457                  london\n",
            "7458           linew yorkoln\n",
            "Name: location_clean, dtype: object\n"
          ]
        }
      ]
    },
    {
      "cell_type": "code",
      "source": [
        "df_train['location_clean'].value_counts()[0:20]"
      ],
      "metadata": {
        "colab": {
          "base_uri": "https://localhost:8080/"
        },
        "id": "C0Gu5hqgng0_",
        "outputId": "e9796e03-c79f-4266-e993-8a35d6d16c11"
      },
      "execution_count": null,
      "outputs": [
        {
          "output_type": "execute_result",
          "data": {
            "text/plain": [
              "usa                    164\n",
              "new york               126\n",
              "london                  85\n",
              "                        83\n",
              "washington              56\n",
              "los angeles             51\n",
              "california              43\n",
              "nigeria                 40\n",
              "chicago                 37\n",
              "canada                  35\n",
              "worldwide               33\n",
              "uk                      31\n",
              "mumbai                  30\n",
              "atlanta                 29\n",
              "san franew yorkisco     26\n",
              "india                   25\n",
              "seattle                 23\n",
              "calgary                 23\n",
              "florida                 22\n",
              "toronto                 22\n",
              "Name: location_clean, dtype: int64"
            ]
          },
          "metadata": {},
          "execution_count": 39
        }
      ]
    },
    {
      "cell_type": "code",
      "source": [
        "#Visualisons à nouveau les données\n",
        "#Let's take the rest of the 20 most frequent keywords\n",
        "top20 = df_train['location_clean'].value_counts()[0:20].index.tolist()\n",
        "#We take all the locations and targets if they are in the top20 list\n",
        "df_top20 = [(location_clean,target) for location_clean,target in zip(df_train['location_clean'], df_train['target']) if location_clean in top20]\n",
        "df_top20 = pd.DataFrame(df_top20, columns = ['location_clean', 'target'])\n",
        "\n",
        "sns.set_theme(style=\"ticks\")\n",
        "\n",
        "fig,ax = plt.subplots(1,1, figsize = (20,6))\n",
        "\n",
        "g20 = sns.histplot(data = df_top20, x = 'location_clean', hue = 'target', multiple = 'dodge', shrink = 0.5, ax = ax)\n",
        "g20.set_xticklabels(labels = top20, rotation=45)\n",
        "g20.set_xlabel('')\n",
        "g20.set_title('Top 20 location count by nature of tweet', fontsize=20)\n",
        "g20.legend(['Disaster','Not Disaster'],loc=\"upper right\")\n",
        "\n",
        "plt.show()"
      ],
      "metadata": {
        "id": "5EL7fjUOZONH",
        "colab": {
          "base_uri": "https://localhost:8080/",
          "height": 381
        },
        "outputId": "77277ec3-edf5-49f3-8546-62f559755bfb"
      },
      "execution_count": null,
      "outputs": [
        {
          "output_type": "display_data",
          "data": {
            "image/png": "[encoded data removed]",
            "text/plain": [
              "<Figure size 1440x432 with 1 Axes>"
            ]
          },
          "metadata": {}
        }
      ]
    },
    {
      "cell_type": "code",
      "source": [
        "#Comme on peut le voir les données sont plus propres, mais comme nous l'avons dit plus tôt nous devons nous \n",
        "#débarrasser des \"non localisés\" car il y en a trop, cela va biaiser les données. De plus, il n'est pas très \n",
        "#utile de conserver des emplacements qui ne sont utilisés que pour quelques tweets. Nous décidons donc de ne \n",
        "#garder que les emplacements qui sont utilisés pour plus de 5 tweets"
      ],
      "metadata": {
        "id": "BahL10H2ZOQW"
      },
      "execution_count": null,
      "outputs": []
    },
    {
      "cell_type": "code",
      "source": [
        "#faire la liste des emplacements utilisés moins de 5 fois. Nous supprimerons ensuite ces mots-clés et les \"non localisés\"\n",
        "#on train \n",
        "mask = df_train['location_clean'].value_counts() <5\n",
        "under_5 = df_train['location_clean'].value_counts()[mask].index.to_list()\n",
        "df_train['location_clean'] = df_train['location_clean'].apply(lambda x: '' if x in under_5 or x ==\"unlocated\" else x)\n",
        "df_train['location_clean']=df_train['location_clean'].replace('', np.nan)\n",
        "df_train=df_train.dropna(subset=['location_clean'])\n",
        "print(df_train.tail(5))\n",
        "\n",
        "\n",
        "#on test\n",
        "mask = df_test['location_clean'].value_counts() <5\n",
        "under_5 = df_test['location_clean'].value_counts()[mask].index.to_list()\n",
        "df_test['location_clean'] = df_test['location_clean'].apply(lambda x: '' if x in under_5 or x ==\"unlocated\" else x)\n",
        "df_test['location_clean']=df_test['location_clean'].replace('', np.nan)\n",
        "df_test=df_test.dropna(subset=['location_clean'])"
      ],
      "metadata": {
        "id": "NcZOdqWlZOUR",
        "colab": {
          "base_uri": "https://localhost:8080/"
        },
        "outputId": "45844541-1d9a-4bd0-b6ce-617bd0ea90ef"
      },
      "execution_count": null,
      "outputs": [
        {
          "output_type": "stream",
          "name": "stdout",
          "text": [
            "      keyword           location  ... target   location_clean\n",
            "7447  wrecked         California  ...      0       california\n",
            "7448  wrecked           Glasgow   ...      0          glasgow\n",
            "7451  wrecked             Global  ...      0           global\n",
            "7456  wrecked  Vancouver, Canada  ...      0  vanew yorkouver\n",
            "7457  wrecked            London   ...      0           london\n",
            "\n",
            "[5 rows x 5 columns]\n"
          ]
        }
      ]
    },
    {
      "cell_type": "code",
      "source": [
        "df_train.shape"
      ],
      "metadata": {
        "colab": {
          "base_uri": "https://localhost:8080/"
        },
        "id": "Q19_UrrM0T5w",
        "outputId": "a1d54542-b86e-41e1-f973-ef79056c3078"
      },
      "execution_count": null,
      "outputs": [
        {
          "output_type": "execute_result",
          "data": {
            "text/plain": [
              "(1941, 5)"
            ]
          },
          "metadata": {},
          "execution_count": 42
        }
      ]
    },
    {
      "cell_type": "markdown",
      "source": [
        "III- Nettoyage du texte"
      ],
      "metadata": {
        "id": "Swsbjkn62u6t"
      }
    },
    {
      "cell_type": "code",
      "metadata": {
        "id": "GHYnImYihgWw",
        "colab": {
          "base_uri": "https://localhost:8080/"
        },
        "outputId": "b4c460f2-cdd4-4f32-a7f8-dd3d790cb652"
      },
      "source": [
        "import spacy\n",
        "spacy.__version__\n",
        "!python -m spacy download en_core_web_md -q"
      ],
      "execution_count": null,
      "outputs": [
        {
          "output_type": "stream",
          "name": "stdout",
          "text": [
            "\u001b[K     |████████████████████████████████| 96.4 MB 1.4 MB/s \n",
            "\u001b[?25h  Building wheel for en-core-web-md (setup.py) ... \u001b[?25l\u001b[?25hdone\n",
            "\u001b[38;5;2m✔ Download and installation successful\u001b[0m\n",
            "You can now load the model via spacy.load('en_core_web_md')\n"
          ]
        }
      ]
    },
    {
      "cell_type": "code",
      "metadata": {
        "id": "EwH-kLgdhgaJ"
      },
      "source": [
        "# Import English using en_core_web_md.load()\n",
        "import en_core_web_md\n",
        "nlp = en_core_web_md.load()\n",
        "# avec nlp je peux traiter une chaine de caractères "
      ],
      "execution_count": null,
      "outputs": []
    },
    {
      "cell_type": "code",
      "metadata": {
        "id": "3LVLazs-hgdK"
      },
      "source": [
        "# Import Stop words \n",
        "from spacy.lang.en.stop_words import STOP_WORDS"
      ],
      "execution_count": null,
      "outputs": []
    },
    {
      "cell_type": "code",
      "metadata": {
        "id": "vvU7ulk7hgic"
      },
      "source": [
        "#La tâche suivante consiste à créer une fonction de normalisation de texte spécifique au contenu trouvé dans les tweets. \n",
        "#Outre la ponctuation, il existe des URL, des abréviations, des entités, des retweets, des chiffres, des mots vides et bien sûr \n",
        "#des emojis. Les mots de chaque tweet seront également lemmatisés ou réduits à leur forme racine à l'aide de la bibliothèque spaCy. \n",
        "#Nous allons commencer par créer un dictionnaire de recherche avec des abréviations courantes de phrases Twitter. Les termes de Tweet \n",
        "#qui correspondent aux clés du dictionnaire de recherche seront étendus à leur forme non abrégée.\n",
        "lookup_dict = {\n",
        "  'abt' : 'about',\n",
        "  'afaik' : 'as far as i know',\n",
        "  'bc' : 'because',\n",
        "  'bfn' : 'bye for now',\n",
        "  'bgd' : 'background',\n",
        "  'bh' : 'blockhead',\n",
        "  'br' : 'best regards',\n",
        "  'btw' : 'by the way',\n",
        "  'cc': 'carbon copy',\n",
        "  'chk' : 'check',\n",
        "  'dam' : 'do not annoy me',\n",
        "  'dd' : 'dear daughter',\n",
        "  'df': 'dear fiance',\n",
        "  'ds' : 'dear son',\n",
        "  'dyk' : 'did you know',\n",
        "  'em': 'email',\n",
        "  'ema' : 'email address',\n",
        "  'ftf' : 'face to face',\n",
        "  'fb' : 'facebook',\n",
        "  'ff' : 'follow friday', \n",
        "  'fotd' : 'find of the day',\n",
        "  'ftw': 'for the win',\n",
        "  'fwiw' : 'for what it is worth',\n",
        "  'gts' : 'guess the song',\n",
        "  'hagn' : 'have a good night',\n",
        "  'hand' : 'have a nice day',\n",
        "  'hotd' : 'headline of the day',\n",
        "  'ht' : 'heard through',\n",
        "  'hth' : 'hope that helps',\n",
        "  'ic' : 'i see',\n",
        "  'icymi' : 'in case you missed it',\n",
        "  'idk' : 'i do not know',\n",
        "  'ig': 'instagram',\n",
        "  'iirc' : 'if i remember correctly',\n",
        "  'imho' : 'in my humble opinion',\n",
        "  'imo' : 'in my opinion',\n",
        "  'irl' : 'in real life',\n",
        "  'iwsn' : 'i want sex now',\n",
        "  'jk' : 'just kidding',\n",
        "  'jsyk' : 'just so you know',\n",
        "  'jv' : 'joint venture',\n",
        "  'kk' : 'cool cool',\n",
        "  'kyso' : 'knock your socks off',\n",
        "  'lmao' : 'laugh my ass off',\n",
        "  'lmk' : 'let me know', \n",
        "  'lo' : 'little one',\n",
        "  'lol' : 'laugh out loud',\n",
        "  'mm' : 'music monday',\n",
        "  'mirl' : 'meet in real life',\n",
        "  'mrjn' : 'marijuana',\n",
        "  'nbd' : 'no big deal',\n",
        "  'nct' : 'nobody cares though',\n",
        "  'njoy' : 'enjoy',\n",
        "  'nsfw' : 'not safe for work',\n",
        "  'nts' : 'note to self',\n",
        "  'oh' : 'overheard',\n",
        "  'omg': 'oh my god',\n",
        "  'oomf' : 'one of my friends',\n",
        "  'orly' : 'oh really',\n",
        "  'plmk' : 'please let me know',\n",
        "  'pnp' : 'party and play', \n",
        "  'qotd' : 'quote of the day',\n",
        "  're' : 'in reply to in regards to',\n",
        "  'rtq' : 'read the question',\n",
        "  'rt' : 'retweet',\n",
        "  'sfw' : 'safe for work',\n",
        "  'smdh' : 'shaking my damn head', \n",
        "  'smh' : 'shaking my head',\n",
        "  'so' : 'significant other',\n",
        "  'srs' : 'serious',\n",
        "  'tftf' : 'thanks for the follow',\n",
        "  'tftt' : 'thanks for this tweet',\n",
        "  'tj' : 'tweetjack',\n",
        "  'tl' : 'timeline',\n",
        "  'tldr' : 'too long did not read',\n",
        "  'tmb' : 'tweet me back',\n",
        "  'tt' : 'trending topic',\n",
        "  'ty' : 'thank you',\n",
        "  'tyia' : 'thank you in advance',\n",
        "  'tyt' : 'take your time',\n",
        "  'tyvw' : 'thank you very much',\n",
        "  'w': 'with', \n",
        "  'wtv' : 'whatever',\n",
        "  'ygtr' : 'you got that right',\n",
        "  'ykwim' : 'you know what i mean',\n",
        "  'ykyat' : 'you know you are addicted to',\n",
        "  'ymmv' : 'your mileage may vary',\n",
        "  'yolo' : 'you only live once',\n",
        "  'yoyo' : 'you are on your own',\n",
        "  'yt': 'youtube',\n",
        "  'yw' : 'you are welcome',\n",
        "  'zomg' : 'oh my god to the maximum'\n",
        "}\n"
      ],
      "execution_count": null,
      "outputs": []
    },
    {
      "cell_type": "code",
      "metadata": {
        "id": "eo-bFEKqhzC9"
      },
      "source": [
        "def abbrev_conversion(text):\n",
        "    words = text.split() \n",
        "    abbrevs_removed = [] \n",
        "    \n",
        "    for i in words:\n",
        "        if i in lookup_dict:\n",
        "            i = lookup_dict[i]\n",
        "        abbrevs_removed.append(i)\n",
        "            \n",
        "    return ' '.join(abbrevs_removed)\n",
        "# on créée une fonction qui nous permet de transformer les phrases abrégées en phrases non abrégées"
      ],
      "execution_count": null,
      "outputs": []
    },
    {
      "cell_type": "code",
      "metadata": {
        "id": "5Rxld95vhzEc",
        "colab": {
          "base_uri": "https://localhost:8080/"
        },
        "outputId": "d4d64c81-2b2c-4a15-e46f-8551f0ecd066"
      },
      "source": [
        "#on train \n",
        "#pour supprimer les urls \n",
        "df_train[\"text_clean\"] = df_train[\"text\"].apply(lambda x: re.sub(re.compile(r'(?:\\@|http?\\://|https?\\://|www)\\S+'), '', x) if pd.isna(x) != True else x) \n",
        "#On supprimer tous les caractères non alphanumériques à l'exception des espaces \n",
        "df_train[\"text_clean\"] = df_train[\"text_clean\"].apply(lambda x:''.join(ch for ch in x if ch.isalnum() or ch==\" \"))\n",
        "#On va transformer ttes les phrases abrégées en non abrgées mais on ne prend pas en compte les NAN.\n",
        "df_train[\"text_clean\"]= df_train[\"text_clean\"].apply(lambda x: abbrev_conversion(x) if pd.isna(x) != True else x)\n",
        "#On supprime les doubles espaces et les espaces au début et à la fin des chaînes et on transforme en miniscule\n",
        "df_train[\"text_clean\"] =df_train[\"text_clean\"].apply(lambda x: x.replace(\" +\",\" \").lower().strip())\n",
        "#On supprime les mots vides et remplace chaque mot par son lemme\n",
        "#pour chaque token ds nlp appliqué à x qui représente un élément dans ma colonne on va chercher les lemmas mais\n",
        "#uniquement si le texte associé à mon token n'est pas ds les stop_words et que le lemma associé à mon token n'est pas dans les stop_words non plus\n",
        "df_train[\"text_clean\"]= df_train[\"text_clean\"].apply(lambda x: \" \".join([token.lemma_ for token in nlp(x) if (token.lemma_ not in STOP_WORDS) and (token.text not in STOP_WORDS)]))\n",
        "print(df_train.head())\n",
        "\n",
        "#on test\n",
        "df_test[\"text_clean\"] = df_test[\"text\"].apply(lambda x: re.sub(re.compile(r'(?:\\@|http?\\://|https?\\://|www)\\S+'), '', x) if pd.isna(x) != True else x)  \n",
        "df_test[\"text_clean\"] = df_test[\"text_clean\"].apply(lambda x:''.join(ch for ch in x if ch.isalnum() or ch==\" \"))\n",
        "df_test[\"text_clean\"]= df_test[\"text_clean\"].apply(lambda x: abbrev_conversion(x) if pd.isna(x) != True else x)\n",
        "df_test[\"text_clean\"] =df_test[\"text_clean\"].apply(lambda x: x.replace(\" +\",\" \").lower().strip())\n",
        "df_test[\"text_clean\"]= df_test[\"text_clean\"].apply(lambda x: \" \".join([token.lemma_ for token in nlp(x) if (token.lemma_ not in STOP_WORDS) and (token.text not in STOP_WORDS)]))"
      ],
      "execution_count": null,
      "outputs": [
        {
          "output_type": "stream",
          "name": "stdout",
          "text": [
            "   keyword  ...                                         text_clean\n",
            "31  ablaze  ...                            wholesale market ablaze\n",
            "33  ablaze  ...  africanbaze break newsnigeria flag set ablaze aba\n",
            "34  ablaze  ...                                     cry set ablaze\n",
            "35  ablaze  ...                         plus look sky night ablaze\n",
            "37  ablaze  ...                        inec office abia set ablaze\n",
            "\n",
            "[5 rows x 6 columns]\n"
          ]
        }
      ]
    },
    {
      "cell_type": "code",
      "metadata": {
        "id": "mcRnIxUOhzGx",
        "colab": {
          "base_uri": "https://localhost:8080/"
        },
        "outputId": "e68ddc50-951d-4b1f-bec8-50b5f222b102"
      },
      "source": [
        "df_train.shape"
      ],
      "execution_count": null,
      "outputs": [
        {
          "output_type": "execute_result",
          "data": {
            "text/plain": [
              "(1941, 6)"
            ]
          },
          "metadata": {},
          "execution_count": 49
        }
      ]
    },
    {
      "cell_type": "markdown",
      "source": [
        "Le modèle prédit si un tweet donné parle d'un véritable désastre ou non. Si oui, il prédit un 1. Sinon, il prédit un 0."
      ],
      "metadata": {
        "id": "tO_WmEdGrY7D"
      }
    },
    {
      "cell_type": "code",
      "metadata": {
        "id": "R_srnYtMhzKE",
        "colab": {
          "base_uri": "https://localhost:8080/",
          "height": 273
        },
        "outputId": "eef49fc0-8ada-4791-8f06-fcd71b030ae5"
      },
      "source": [
        "# Word cloud of text in disaster and non-disaster tweets\n",
        "\n",
        "# Cleaned dataframe of disaster\n",
        "df_true = df_train[df_train.target == 1]\n",
        "\n",
        "text_true = \" \".join(txt for txt in df_true['text'])\n",
        "\n",
        "text_cloud = WordCloud(collocations=False, background_color='black').generate(text_true)\n",
        "plt.axis(\"off\")\n",
        "plt.imshow(text_cloud, interpolation='bilinear')"
      ],
      "execution_count": null,
      "outputs": [
        {
          "output_type": "execute_result",
          "data": {
            "text/plain": [
              "<matplotlib.image.AxesImage at 0x7f30d7112e90>"
            ]
          },
          "metadata": {},
          "execution_count": 50
        },
        {
          "output_type": "display_data",
          "data": {
            "image/png": "[encoded data removed]",
            "text/plain": [
              "<Figure size 576x396 with 1 Axes>"
            ]
          },
          "metadata": {}
        }
      ]
    },
    {
      "cell_type": "code",
      "metadata": {
        "id": "Kn4TXxh4hzNL"
      },
      "source": [
        "#Words in disaster tweets:- disaster, new, fire, via, year, suicide, police, home,killed, crash, storm, etc."
      ],
      "execution_count": null,
      "outputs": []
    },
    {
      "cell_type": "code",
      "metadata": {
        "id": "ZnocHewwhzP6",
        "colab": {
          "base_uri": "https://localhost:8080/",
          "height": 273
        },
        "outputId": "2077b1a9-19e1-41f3-d462-0aa1d97b25b6"
      },
      "source": [
        "# Cleaned dataframe of disaster\n",
        "df_true = df_train[df_train.target == 0]\n",
        "\n",
        "text_true = \" \".join(txt for txt in df_true['text'])\n",
        "\n",
        "text_cloud = WordCloud(collocations=False, background_color='black').generate(text_true)\n",
        "plt.axis(\"off\")\n",
        "plt.imshow(text_cloud, interpolation='bilinear')"
      ],
      "execution_count": null,
      "outputs": [
        {
          "output_type": "execute_result",
          "data": {
            "text/plain": [
              "<matplotlib.image.AxesImage at 0x7f30d712ef10>"
            ]
          },
          "metadata": {},
          "execution_count": 51
        },
        {
          "output_type": "display_data",
          "data": {
            "image/png": "[encoded data removed]",
            "text/plain": [
              "<Figure size 576x396 with 1 Axes>"
            ]
          },
          "metadata": {}
        }
      ]
    },
    {
      "cell_type": "code",
      "metadata": {
        "id": "WxR4SFAZhzSv"
      },
      "source": [
        "#Words in non-disaster tweets:- new, love, one, time, now, body, people,good, etc."
      ],
      "execution_count": null,
      "outputs": []
    },
    {
      "cell_type": "code",
      "metadata": {
        "id": "CuWdcQVwiHbt",
        "colab": {
          "base_uri": "https://localhost:8080/",
          "height": 797
        },
        "outputId": "7d4b6d6c-cb9e-4fd9-806b-21144b7e2f6a"
      },
      "source": [
        "import numpy as np\n",
        "tokenizer = tf.keras.preprocessing.text.Tokenizer() # instanciate the tokenizer pr garder les mots les plus fréquents\n",
        "tokenizer.fit_on_texts(df_train.text_clean)#il va créer son tableau de correspondance pour remplacer les textes en liste d'indices \n",
        "df_train[\"text_encoded\"] = tokenizer.texts_to_sequences(df_train.text_clean)# pour remplacer le texte en liste d'indices \n",
        "\n",
        "df_train[\"len_text\"] = df_train[\"text_encoded\"].apply(lambda x: len(x))\n",
        "df_train= df_train[df_train[\"len_text\"]!=0] \n",
        "df_train "
      ],
      "execution_count": null,
      "outputs": [
        {
          "output_type": "execute_result",
          "data": {
            "text/html": [
              "\n",
              "  <div id=\"df-5cd41e2c-0662-4754-9411-bfad3e243c8c\">\n",
              "    <div class=\"colab-df-container\">\n",
              "      <div>\n",
              "<style scoped>\n",
              "    .dataframe tbody tr th:only-of-type {\n",
              "        vertical-align: middle;\n",
              "    }\n",
              "\n",
              "    .dataframe tbody tr th {\n",
              "        vertical-align: top;\n",
              "    }\n",
              "\n",
              "    .dataframe thead th {\n",
              "        text-align: right;\n",
              "    }\n",
              "</style>\n",
              "<table border=\"1\" class=\"dataframe\">\n",
              "  <thead>\n",
              "    <tr style=\"text-align: right;\">\n",
              "      <th></th>\n",
              "      <th>keyword</th>\n",
              "      <th>location</th>\n",
              "      <th>text</th>\n",
              "      <th>target</th>\n",
              "      <th>location_clean</th>\n",
              "      <th>text_clean</th>\n",
              "      <th>text_encoded</th>\n",
              "      <th>len_text</th>\n",
              "    </tr>\n",
              "  </thead>\n",
              "  <tbody>\n",
              "    <tr>\n",
              "      <th>31</th>\n",
              "      <td>ablaze</td>\n",
              "      <td>Birmingham</td>\n",
              "      <td>@bbcmtd Wholesale Markets ablaze http://t.co/l...</td>\n",
              "      <td>1</td>\n",
              "      <td>birmingham</td>\n",
              "      <td>wholesale market ablaze</td>\n",
              "      <td>[1059, 165, 316]</td>\n",
              "      <td>3</td>\n",
              "    </tr>\n",
              "    <tr>\n",
              "      <th>33</th>\n",
              "      <td>ablaze</td>\n",
              "      <td>AFRICA</td>\n",
              "      <td>#AFRICANBAZE: Breaking news:Nigeria flag set a...</td>\n",
              "      <td>1</td>\n",
              "      <td>africa</td>\n",
              "      <td>africanbaze break newsnigeria flag set ablaze aba</td>\n",
              "      <td>[2217, 79, 2218, 269, 92, 316, 496]</td>\n",
              "      <td>7</td>\n",
              "    </tr>\n",
              "    <tr>\n",
              "      <th>34</th>\n",
              "      <td>ablaze</td>\n",
              "      <td>Philadelphia, PA</td>\n",
              "      <td>Crying out for more! Set me ablaze</td>\n",
              "      <td>0</td>\n",
              "      <td>philadelphia</td>\n",
              "      <td>cry set ablaze</td>\n",
              "      <td>[846, 92, 316]</td>\n",
              "      <td>3</td>\n",
              "    </tr>\n",
              "    <tr>\n",
              "      <th>35</th>\n",
              "      <td>ablaze</td>\n",
              "      <td>London, UK</td>\n",
              "      <td>On plus side LOOK AT THE SKY LAST NIGHT IT WAS...</td>\n",
              "      <td>0</td>\n",
              "      <td>london</td>\n",
              "      <td>plus look sky night ablaze</td>\n",
              "      <td>[2219, 19, 427, 234, 316]</td>\n",
              "      <td>5</td>\n",
              "    </tr>\n",
              "    <tr>\n",
              "      <th>37</th>\n",
              "      <td>ablaze</td>\n",
              "      <td>World Wide!!</td>\n",
              "      <td>INEC Office in Abia Set Ablaze - http://t.co/3...</td>\n",
              "      <td>1</td>\n",
              "      <td>world wide</td>\n",
              "      <td>inec office abia set ablaze</td>\n",
              "      <td>[1424, 589, 1425, 92, 316]</td>\n",
              "      <td>5</td>\n",
              "    </tr>\n",
              "    <tr>\n",
              "      <th>...</th>\n",
              "      <td>...</td>\n",
              "      <td>...</td>\n",
              "      <td>...</td>\n",
              "      <td>...</td>\n",
              "      <td>...</td>\n",
              "      <td>...</td>\n",
              "      <td>...</td>\n",
              "      <td>...</td>\n",
              "    </tr>\n",
              "    <tr>\n",
              "      <th>7447</th>\n",
              "      <td>wrecked</td>\n",
              "      <td>California</td>\n",
              "      <td>Cramer: Iger's 3 words that wrecked Disney's s...</td>\n",
              "      <td>0</td>\n",
              "      <td>california</td>\n",
              "      <td>cramer igers 3 word wreck disneys stock cnbc t...</td>\n",
              "      <td>[1058, 1422, 43, 304, 114, 1423, 181, 1822, 5901]</td>\n",
              "      <td>9</td>\n",
              "    </tr>\n",
              "    <tr>\n",
              "      <th>7448</th>\n",
              "      <td>wrecked</td>\n",
              "      <td>Glasgow</td>\n",
              "      <td>@Caitsroberts see U the night wee bArra to get...</td>\n",
              "      <td>0</td>\n",
              "      <td>glasgow</td>\n",
              "      <td>u night wee barra absolutely wreck</td>\n",
              "      <td>[240, 234, 2181, 5902, 5903, 114]</td>\n",
              "      <td>6</td>\n",
              "    </tr>\n",
              "    <tr>\n",
              "      <th>7451</th>\n",
              "      <td>wrecked</td>\n",
              "      <td>Global</td>\n",
              "      <td>Cramer: 3 words that wrecked DIS stock - http:...</td>\n",
              "      <td>0</td>\n",
              "      <td>global</td>\n",
              "      <td>cramer 3 word wreck dis stock</td>\n",
              "      <td>[1058, 43, 304, 114, 5904, 181]</td>\n",
              "      <td>6</td>\n",
              "    </tr>\n",
              "    <tr>\n",
              "      <th>7456</th>\n",
              "      <td>wrecked</td>\n",
              "      <td>Vancouver, Canada</td>\n",
              "      <td>Three days off from work and they've pretty mu...</td>\n",
              "      <td>0</td>\n",
              "      <td>vanew yorkouver</td>\n",
              "      <td>day work pretty wreck hahaha shoutout family</td>\n",
              "      <td>[21, 18, 1412, 114, 5905, 5906, 16]</td>\n",
              "      <td>7</td>\n",
              "    </tr>\n",
              "    <tr>\n",
              "      <th>7457</th>\n",
              "      <td>wrecked</td>\n",
              "      <td>London</td>\n",
              "      <td>#FX #forex #trading Cramer: Iger's 3 words tha...</td>\n",
              "      <td>0</td>\n",
              "      <td>london</td>\n",
              "      <td>fx forex trading cramer igers 3 word wreck dis...</td>\n",
              "      <td>[5907, 5908, 5909, 1058, 1422, 43, 304, 114, 1...</td>\n",
              "      <td>10</td>\n",
              "    </tr>\n",
              "  </tbody>\n",
              "</table>\n",
              "<p>1940 rows × 8 columns</p>\n",
              "</div>\n",
              "      <button class=\"colab-df-convert\" onclick=\"convertToInteractive('df-5cd41e2c-0662-4754-9411-bfad3e243c8c')\"\n",
              "              title=\"Convert this dataframe to an interactive table.\"\n",
              "              style=\"display:none;\">\n",
              "        \n",
              "  <svg xmlns=\"http://www.w3.org/2000/svg\" height=\"24px\"viewBox=\"0 0 24 24\"\n",
              "       width=\"24px\">\n",
              "    <path d=\"M0 0h24v24H0V0z\" fill=\"none\"/>\n",
              "    <path d=\"M18.56 5.44l.94 2.06.94-2.06 2.06-.94-2.06-.94-.94-2.06-.94 2.06-2.06.94zm-11 1L8.5 8.5l.94-2.06 2.06-.94-2.06-.94L8.5 2.5l-.94 2.06-2.06.94zm10 10l.94 2.06.94-2.06 2.06-.94-2.06-.94-.94-2.06-.94 2.06-2.06.94z\"/><path d=\"M17.41 7.96l-1.37-1.37c-.4-.4-.92-.59-1.43-.59-.52 0-1.04.2-1.43.59L10.3 9.45l-7.72 7.72c-.78.78-.78 2.05 0 2.83L4 21.41c.39.39.9.59 1.41.59.51 0 1.02-.2 1.41-.59l7.78-7.78 2.81-2.81c.8-.78.8-2.07 0-2.86zM5.41 20L4 18.59l7.72-7.72 1.47 1.35L5.41 20z\"/>\n",
              "  </svg>\n",
              "      </button>\n",
              "      \n",
              "  <style>\n",
              "    .colab-df-container {\n",
              "      display:flex;\n",
              "      flex-wrap:wrap;\n",
              "      gap: 12px;\n",
              "    }\n",
              "\n",
              "    .colab-df-convert {\n",
              "      background-color: #E8F0FE;\n",
              "      border: none;\n",
              "      border-radius: 50%;\n",
              "      cursor: pointer;\n",
              "      display: none;\n",
              "      fill: #1967D2;\n",
              "      height: 32px;\n",
              "      padding: 0 0 0 0;\n",
              "      width: 32px;\n",
              "    }\n",
              "\n",
              "    .colab-df-convert:hover {\n",
              "      background-color: #E2EBFA;\n",
              "      box-shadow: 0px 1px 2px rgba(60, 64, 67, 0.3), 0px 1px 3px 1px rgba(60, 64, 67, 0.15);\n",
              "      fill: #174EA6;\n",
              "    }\n",
              "\n",
              "    [theme=dark] .colab-df-convert {\n",
              "      background-color: #3B4455;\n",
              "      fill: #D2E3FC;\n",
              "    }\n",
              "\n",
              "    [theme=dark] .colab-df-convert:hover {\n",
              "      background-color: #434B5C;\n",
              "      box-shadow: 0px 1px 3px 1px rgba(0, 0, 0, 0.15);\n",
              "      filter: drop-shadow(0px 1px 2px rgba(0, 0, 0, 0.3));\n",
              "      fill: #FFFFFF;\n",
              "    }\n",
              "  </style>\n",
              "\n",
              "      <script>\n",
              "        const buttonEl =\n",
              "          document.querySelector('#df-5cd41e2c-0662-4754-9411-bfad3e243c8c button.colab-df-convert');\n",
              "        buttonEl.style.display =\n",
              "          google.colab.kernel.accessAllowed ? 'block' : 'none';\n",
              "\n",
              "        async function convertToInteractive(key) {\n",
              "          const element = document.querySelector('#df-5cd41e2c-0662-4754-9411-bfad3e243c8c');\n",
              "          const dataTable =\n",
              "            await google.colab.kernel.invokeFunction('convertToInteractive',\n",
              "                                                     [key], {});\n",
              "          if (!dataTable) return;\n",
              "\n",
              "          const docLinkHtml = 'Like what you see? Visit the ' +\n",
              "            '<a target=\"_blank\" href=https://colab.research.google.com/notebooks/data_table.ipynb>data table notebook</a>'\n",
              "            + ' to learn more about interactive tables.';\n",
              "          element.innerHTML = '';\n",
              "          dataTable['output_type'] = 'display_data';\n",
              "          await google.colab.output.renderOutput(dataTable, element);\n",
              "          const docLink = document.createElement('div');\n",
              "          docLink.innerHTML = docLinkHtml;\n",
              "          element.appendChild(docLink);\n",
              "        }\n",
              "      </script>\n",
              "    </div>\n",
              "  </div>\n",
              "  "
            ],
            "text/plain": [
              "      keyword  ... len_text\n",
              "31     ablaze  ...        3\n",
              "33     ablaze  ...        7\n",
              "34     ablaze  ...        3\n",
              "35     ablaze  ...        5\n",
              "37     ablaze  ...        5\n",
              "...       ...  ...      ...\n",
              "7447  wrecked  ...        9\n",
              "7448  wrecked  ...        6\n",
              "7451  wrecked  ...        6\n",
              "7456  wrecked  ...        7\n",
              "7457  wrecked  ...       10\n",
              "\n",
              "[1940 rows x 8 columns]"
            ]
          },
          "metadata": {},
          "execution_count": 52
        }
      ]
    },
    {
      "cell_type": "code",
      "source": [
        "#On va nettoyer notre texte à l'aide de spacy puis on va encoder le texte en le transformant en liste d'indices\n",
        "#pr ceci on utilise le tenserflow tokenizer  "
      ],
      "metadata": {
        "id": "_WB_ts4cKILF"
      },
      "execution_count": null,
      "outputs": []
    },
    {
      "cell_type": "code",
      "metadata": {
        "id": "7n_4vvlDiHoU"
      },
      "source": [
        "## On fait de même sur le set de test, sauf qu'on ne fit pas sur le tokenizer \n",
        "df_test[\"text_encoded\"] = tokenizer.texts_to_sequences(df_test.text_clean)\n",
        "df_test[\"len_text\"] =df_test[\"text_encoded\"].apply(lambda x: len(x))\n",
        "df_test=df_test[df_test[\"len_text\"]!=0] "
      ],
      "execution_count": null,
      "outputs": []
    },
    {
      "cell_type": "code",
      "metadata": {
        "id": "U_EpGYqCiHqz"
      },
      "source": [
        "# on rajoute du padding pour avoir la même longueur dans tte les phrase \n",
        "train_pad = tf.keras.preprocessing.sequence.pad_sequences(df_train.text_encoded, padding=\"post\")\n",
        "test_pad = tf.keras.preprocessing.sequence.pad_sequences(df_test.text_encoded, padding=\"post\")"
      ],
      "execution_count": null,
      "outputs": []
    },
    {
      "cell_type": "code",
      "metadata": {
        "id": "mqTCmMBGiHtg",
        "colab": {
          "base_uri": "https://localhost:8080/"
        },
        "outputId": "9d1167f4-1998-4f7a-c49d-c44e6420fca0"
      },
      "source": [
        "seed=123 # pr avoir le mm comportement qui se reproduit à chaque fois c'est comme un random state\n",
        "train_x, val_x, train_y, val_y = train_test_split(\n",
        "    train_pad,\n",
        "    df_train.target,\n",
        "    test_size=0.2,\n",
        "    random_state=seed\n",
        ")\n",
        "\n",
        "print(train_x.shape)\n",
        "print(train_y.shape)\n",
        "print(val_x.shape)\n",
        "print(val_y.shape)"
      ],
      "execution_count": null,
      "outputs": [
        {
          "output_type": "stream",
          "name": "stdout",
          "text": [
            "(1552, 25)\n",
            "(1552,)\n",
            "(388, 25)\n",
            "(388,)\n"
          ]
        }
      ]
    },
    {
      "cell_type": "code",
      "metadata": {
        "id": "KXcw7yP4iHwW"
      },
      "source": [
        " # on transforme notre dataset en jeu de données tensoriel dans lequel on va mettre un tuple (1 er éléméent nos données, 2ème élément notre vble cible ) \n",
        "train_ds = tf.data.Dataset.from_tensor_slices((train_x, train_y))\n",
        "val_ds=tf.data.Dataset.from_tensor_slices((val_x, val_y))\n",
        "test_ds = tf.data.Dataset.from_tensor_slices(test_pad)"
      ],
      "execution_count": null,
      "outputs": []
    },
    {
      "cell_type": "code",
      "source": [
        "next(iter(train_ds))\n",
        "# c'est un élément de mon tenseur dataset j'ai une séquence de 25 mots avec plein de 0 padding et un tenseur qui \n",
        "# contient ma vble cible "
      ],
      "metadata": {
        "colab": {
          "base_uri": "https://localhost:8080/"
        },
        "id": "tsLR7dgebOMC",
        "outputId": "7d0ba864-2982-43a0-d196-f64ae25441bf"
      },
      "execution_count": null,
      "outputs": [
        {
          "output_type": "execute_result",
          "data": {
            "text/plain": [
              "(<tf.Tensor: shape=(25,), dtype=int32, numpy=\n",
              " array([ 193, 1523,  333, 1524,  873,  155,   99, 1525, 1526,   27,  217,\n",
              "           0,    0,    0,    0,    0,    0,    0,    0,    0,    0,    0,\n",
              "           0,    0,    0], dtype=int32)>,\n",
              " <tf.Tensor: shape=(), dtype=int64, numpy=1>)"
            ]
          },
          "metadata": {},
          "execution_count": 57
        }
      ]
    },
    {
      "cell_type": "code",
      "metadata": {
        "id": "1vTn-W_4iHzM"
      },
      "source": [
        "train_ds = train_ds.shuffle(len(train_ds)).batch(64)\n",
        "val_ds=val_ds.shuffle(len(val_ds)).batch(64)\n",
        "test_ds = test_ds.batch(64)\n",
        "# on applique le shuffle pr qu'à la fin de chaque époque les données se remélangent et on les organisent par\n",
        "# batch de 64 phrases "
      ],
      "execution_count": null,
      "outputs": []
    },
    {
      "cell_type": "code",
      "metadata": {
        "id": "KluCzLDFiH1m",
        "colab": {
          "base_uri": "https://localhost:8080/"
        },
        "outputId": "b2c8ea2a-c9a8-4b16-9f70-60c2e9b351fa"
      },
      "source": [
        "len(tokenizer.word_index)"
      ],
      "execution_count": null,
      "outputs": [
        {
          "output_type": "execute_result",
          "data": {
            "text/plain": [
              "5909"
            ]
          },
          "metadata": {},
          "execution_count": 59
        }
      ]
    },
    {
      "cell_type": "markdown",
      "source": [
        "IV-**Modeling**"
      ],
      "metadata": {
        "id": "MFA5SRKHdcQB"
      }
    },
    {
      "cell_type": "code",
      "source": [
        "from tensorflow.keras.layers import Embedding, SimpleRNN, Dense, GRU, LSTM,GlobalAveragePooling1D, Dropout"
      ],
      "metadata": {
        "id": "uFWz9SFGjV3i"
      },
      "execution_count": null,
      "outputs": []
    },
    {
      "cell_type": "code",
      "source": [
        "# c'est le nbre de mots qu'on a séléctionné dans notre tokenizer \n",
        "vocab_size=len(tokenizer.word_index)\n",
        "model = tf.keras.Sequential([\n",
        "                  # Couche d'Input Word Embedding(chaque indice va être représenté par un vecteur pour avoir une représentation plus riche qui nous donnera la possibilité d'analyser plus finement les mots de nos textes)         \n",
        "                  tf.keras.layers.Embedding(vocab_size+1, 8, input_shape=[train_pad.shape[1],],name=\"embedding\"), # chaque mot va être représeenté par un vecteur de 8 valeurs\n",
        "                  # Gobal average pooling\n",
        "                  tf.keras.layers.GlobalAveragePooling1D(),# pr supprimer la dimension séquentielle, il va faire un résumer\n",
        "\n",
        "                  # Couche Dense classique\n",
        "                  tf.keras.layers.Dense(16, activation='relu'),\n",
        "                  tf.keras.layers.Dense(8, activation='relu'),\n",
        "\n",
        "                  # Couche de sortie avec le nombre de neurones en sortie égale au nombre de classe avec fonction softmax\n",
        "                  tf.keras.layers.Dense(1, activation=\"sigmoid\") # c'est la couche de prédiction avec une classification binaire \n",
        "])\n",
        "# input_dim c'est le nbre de mot utilisé et input shape c'est le nbr de mots dans mes phrases, la longueur de mes phrases "
      ],
      "metadata": {
        "id": "vDDnSHfKdm0h"
      },
      "execution_count": null,
      "outputs": []
    },
    {
      "cell_type": "code",
      "source": [
        "model.summary()\n",
        "# None c'est la batch size 25 mots par phrases et chaque est représenté par 32 valeurs, on fait le GA on se\n",
        "# retrouve avec 8 valeurs "
      ],
      "metadata": {
        "colab": {
          "base_uri": "https://localhost:8080/"
        },
        "id": "WL2km1tvQMa2",
        "outputId": "9220e386-bc5b-43fa-b65b-b822b0fadf99"
      },
      "execution_count": null,
      "outputs": [
        {
          "output_type": "stream",
          "name": "stdout",
          "text": [
            "Model: \"sequential\"\n",
            "_________________________________________________________________\n",
            " Layer (type)                Output Shape              Param #   \n",
            "=================================================================\n",
            " embedding (Embedding)       (None, 25, 8)             47280     \n",
            "                                                                 \n",
            " global_average_pooling1d (G  (None, 8)                0         \n",
            " lobalAveragePooling1D)                                          \n",
            "                                                                 \n",
            " dense (Dense)               (None, 16)                144       \n",
            "                                                                 \n",
            " dense_1 (Dense)             (None, 8)                 136       \n",
            "                                                                 \n",
            " dense_2 (Dense)             (None, 1)                 9         \n",
            "                                                                 \n",
            "=================================================================\n",
            "Total params: 47,569\n",
            "Trainable params: 47,569\n",
            "Non-trainable params: 0\n",
            "_________________________________________________________________\n"
          ]
        }
      ]
    },
    {
      "cell_type": "code",
      "source": [
        "model.compile(optimizer='adam',\n",
        "              loss=tf.keras.losses.BinaryCrossentropy(),\n",
        "              metrics=['accuracy'])\n",
        "# Vu qu'on est en classification "
      ],
      "metadata": {
        "id": "1vuB02dRRAMo"
      },
      "execution_count": null,
      "outputs": []
    },
    {
      "cell_type": "code",
      "source": [
        "# Entrainement du modèle \n",
        "history = model.fit(train_ds,\n",
        "                    validation_data=val_ds,\n",
        "                    epochs=20, \n",
        "                  )"
      ],
      "metadata": {
        "colab": {
          "base_uri": "https://localhost:8080/"
        },
        "id": "VvkPL9mXRK0W",
        "outputId": "f5ec5220-4c2e-4070-e78c-dfc20a536d32"
      },
      "execution_count": null,
      "outputs": [
        {
          "output_type": "stream",
          "name": "stdout",
          "text": [
            "Epoch 1/20\n",
            "25/25 [==============================] - 2s 21ms/step - loss: 0.6925 - accuracy: 0.5387 - val_loss: 0.6928 - val_accuracy: 0.5052\n",
            "Epoch 2/20\n",
            "25/25 [==============================] - 0s 8ms/step - loss: 0.6898 - accuracy: 0.5387 - val_loss: 0.6909 - val_accuracy: 0.5052\n",
            "Epoch 3/20\n",
            "25/25 [==============================] - 0s 7ms/step - loss: 0.6833 - accuracy: 0.5696 - val_loss: 0.6847 - val_accuracy: 0.5722\n",
            "Epoch 4/20\n",
            "25/25 [==============================] - 0s 10ms/step - loss: 0.6683 - accuracy: 0.7094 - val_loss: 0.6721 - val_accuracy: 0.7113\n",
            "Epoch 5/20\n",
            "25/25 [==============================] - 0s 10ms/step - loss: 0.6398 - accuracy: 0.8550 - val_loss: 0.6494 - val_accuracy: 0.7835\n",
            "Epoch 6/20\n",
            "25/25 [==============================] - 0s 7ms/step - loss: 0.5936 - accuracy: 0.9066 - val_loss: 0.6179 - val_accuracy: 0.7655\n",
            "Epoch 7/20\n",
            "25/25 [==============================] - 0s 4ms/step - loss: 0.5280 - accuracy: 0.9265 - val_loss: 0.5783 - val_accuracy: 0.8015\n",
            "Epoch 8/20\n",
            "25/25 [==============================] - 0s 4ms/step - loss: 0.4498 - accuracy: 0.9336 - val_loss: 0.5372 - val_accuracy: 0.7990\n",
            "Epoch 9/20\n",
            "25/25 [==============================] - 0s 4ms/step - loss: 0.3697 - accuracy: 0.9343 - val_loss: 0.5066 - val_accuracy: 0.7809\n",
            "Epoch 10/20\n",
            "25/25 [==============================] - 0s 4ms/step - loss: 0.2973 - accuracy: 0.9433 - val_loss: 0.4858 - val_accuracy: 0.7887\n",
            "Epoch 11/20\n",
            "25/25 [==============================] - 0s 4ms/step - loss: 0.2415 - accuracy: 0.9517 - val_loss: 0.4768 - val_accuracy: 0.7809\n",
            "Epoch 12/20\n",
            "25/25 [==============================] - 0s 3ms/step - loss: 0.1969 - accuracy: 0.9568 - val_loss: 0.4753 - val_accuracy: 0.7938\n",
            "Epoch 13/20\n",
            "25/25 [==============================] - 0s 4ms/step - loss: 0.1670 - accuracy: 0.9607 - val_loss: 0.4815 - val_accuracy: 0.7964\n",
            "Epoch 14/20\n",
            "25/25 [==============================] - 0s 3ms/step - loss: 0.1414 - accuracy: 0.9678 - val_loss: 0.4904 - val_accuracy: 0.7809\n",
            "Epoch 15/20\n",
            "25/25 [==============================] - 0s 4ms/step - loss: 0.1226 - accuracy: 0.9716 - val_loss: 0.5061 - val_accuracy: 0.7706\n",
            "Epoch 16/20\n",
            "25/25 [==============================] - 0s 3ms/step - loss: 0.1064 - accuracy: 0.9749 - val_loss: 0.5232 - val_accuracy: 0.7706\n",
            "Epoch 17/20\n",
            "25/25 [==============================] - 0s 4ms/step - loss: 0.0955 - accuracy: 0.9774 - val_loss: 0.5374 - val_accuracy: 0.7655\n",
            "Epoch 18/20\n",
            "25/25 [==============================] - 0s 3ms/step - loss: 0.0865 - accuracy: 0.9820 - val_loss: 0.5419 - val_accuracy: 0.7680\n",
            "Epoch 19/20\n",
            "25/25 [==============================] - 0s 3ms/step - loss: 0.0752 - accuracy: 0.9832 - val_loss: 0.5678 - val_accuracy: 0.7655\n",
            "Epoch 20/20\n",
            "25/25 [==============================] - 0s 3ms/step - loss: 0.0690 - accuracy: 0.9820 - val_loss: 0.5688 - val_accuracy: 0.7732\n"
          ]
        }
      ]
    },
    {
      "cell_type": "code",
      "source": [
        "import matplotlib.pyplot as plt\n",
        "\n",
        "# Visualization of the training process on the loss function \n",
        "plt.plot(history.history[\"loss\"], color=\"b\")\n",
        "plt.plot(history.history[\"val_loss\"], color=\"r\")\n",
        "plt.ylabel(\"loss\")\n",
        "plt.xlabel(\"Epochs\")\n",
        "plt.show()\n"
      ],
      "metadata": {
        "colab": {
          "base_uri": "https://localhost:8080/",
          "height": 370
        },
        "id": "HRGXprOHtsQg",
        "outputId": "7c671421-5864-4467-ee99-8e05a5256210"
      },
      "execution_count": null,
      "outputs": [
        {
          "output_type": "display_data",
          "data": {
            "image/png": "[encoded data removed]",
            "text/plain": [
              "<Figure size 576x396 with 1 Axes>"
            ]
          },
          "metadata": {}
        }
      ]
    },
    {
      "cell_type": "code",
      "source": [
        "# Visualization of accuracy training \n",
        "plt.plot(history.history[\"accuracy\"], color=\"b\")\n",
        "plt.plot(history.history[\"val_accuracy\"], color=\"r\")\n",
        "plt.ylabel(\"accuracy\")\n",
        "plt.xlabel(\"Epochs\")\n",
        "plt.show()"
      ],
      "metadata": {
        "colab": {
          "base_uri": "https://localhost:8080/",
          "height": 370
        },
        "id": "yoszzBIjtzKj",
        "outputId": "1b16b3c9-3236-4187-e317-0657fae8a67e"
      },
      "execution_count": null,
      "outputs": [
        {
          "output_type": "display_data",
          "data": {
            "image/png": "[encoded data removed]",
            "text/plain": [
              "<Figure size 576x396 with 1 Axes>"
            ]
          },
          "metadata": {}
        }
      ]
    },
    {
      "cell_type": "code",
      "source": [
        "# La faiblesse des neuronnes dense pr analyser des séquences c'est qu'il traite chaque mot de manière indépendante\n",
        "# l'information d'un mot n'influence pas l'autre mot   "
      ],
      "metadata": {
        "id": "1OYdSdFlfllc"
      },
      "execution_count": null,
      "outputs": []
    },
    {
      "cell_type": "code",
      "metadata": {
        "id": "kNnwBRyMidnP"
      },
      "source": [
        "vocab_size=len(tokenizer.word_index)\n",
        "model = tf.keras.Sequential([\n",
        "                  # Word Embedding layer           \n",
        "                  Embedding(vocab_size+1,64, input_shape=[train_pad.shape[1],],name=\"embedding\"),\n",
        "                  SimpleRNN(units=32, return_sequences=False), # returns the last output\n",
        "                  # Dense layers once the data is flat\n",
        "                  Dense(16, activation='relu'),\n",
        "                  # output layer with as many neurons as the number of classes\n",
        "                  # for the target variable and softmax activation\n",
        "                  Dropout(0.5),\n",
        "                  Dense(1, activation=\"sigmoid\")\n",
        "])\n",
        "#le choix de la sigmoid parce que notre target va avoir deux valeurs 0 ou 1 s'il y a catastrophe \n",
        "# vocab_size c'est le nbre de mot dont on dispose +1 pr le padding \n",
        "# input_shape : le nombre max de mot dans la phrase "
      ],
      "execution_count": null,
      "outputs": []
    },
    {
      "cell_type": "code",
      "metadata": {
        "id": "yHLOQ4JeidqI",
        "colab": {
          "base_uri": "https://localhost:8080/"
        },
        "outputId": "569d9dd6-8b9e-4d91-a8dc-3e9e9b7768ac"
      },
      "source": [
        "model.summary()"
      ],
      "execution_count": null,
      "outputs": [
        {
          "output_type": "stream",
          "name": "stdout",
          "text": [
            "Model: \"sequential_4\"\n",
            "_________________________________________________________________\n",
            " Layer (type)                Output Shape              Param #   \n",
            "=================================================================\n",
            " embedding (Embedding)       (None, 25, 64)            378240    \n",
            "                                                                 \n",
            " simple_rnn_3 (SimpleRNN)    (None, 32)                3104      \n",
            "                                                                 \n",
            " dense_9 (Dense)             (None, 16)                528       \n",
            "                                                                 \n",
            " dropout_3 (Dropout)         (None, 16)                0         \n",
            "                                                                 \n",
            " dense_10 (Dense)            (None, 1)                 17        \n",
            "                                                                 \n",
            "=================================================================\n",
            "Total params: 381,889\n",
            "Trainable params: 381,889\n",
            "Non-trainable params: 0\n",
            "_________________________________________________________________\n"
          ]
        }
      ]
    },
    {
      "cell_type": "code",
      "metadata": {
        "id": "dyIb0sjlidsz"
      },
      "source": [
        "model.compile(optimizer='adam', # c'est l'algorithme de descente de gradient spécifique qu'on veut choisir pr l'entraîner\n",
        "              loss=tf.keras.losses.BinaryCrossentropy(),\n",
        "              metrics=['accuracy'])"
      ],
      "execution_count": null,
      "outputs": []
    },
    {
      "cell_type": "code",
      "metadata": {
        "id": "1UUjalO4idvV",
        "colab": {
          "base_uri": "https://localhost:8080/"
        },
        "outputId": "0d2980eb-af36-43b7-abc4-788a1ffcf628"
      },
      "source": [
        "# Entrainement du modèle \n",
        "history = model.fit(train_ds,\n",
        "                    validation_data=val_ds,\n",
        "                    epochs=20, \n",
        "                  )"
      ],
      "execution_count": null,
      "outputs": [
        {
          "output_type": "stream",
          "name": "stdout",
          "text": [
            "Epoch 1/20\n",
            "25/25 [==============================] - 2s 26ms/step - loss: 0.6889 - accuracy: 0.5303 - val_loss: 0.6784 - val_accuracy: 0.5902\n",
            "Epoch 2/20\n",
            "25/25 [==============================] - 0s 16ms/step - loss: 0.5525 - accuracy: 0.7803 - val_loss: 0.5711 - val_accuracy: 0.7216\n",
            "Epoch 3/20\n",
            "25/25 [==============================] - 0s 17ms/step - loss: 0.2491 - accuracy: 0.9446 - val_loss: 0.6560 - val_accuracy: 0.7036\n",
            "Epoch 4/20\n",
            "25/25 [==============================] - 0s 18ms/step - loss: 0.1312 - accuracy: 0.9736 - val_loss: 0.7504 - val_accuracy: 0.7113\n",
            "Epoch 5/20\n",
            "25/25 [==============================] - 0s 17ms/step - loss: 0.0929 - accuracy: 0.9807 - val_loss: 0.8306 - val_accuracy: 0.7062\n",
            "Epoch 6/20\n",
            "25/25 [==============================] - 0s 17ms/step - loss: 0.0616 - accuracy: 0.9858 - val_loss: 0.9633 - val_accuracy: 0.6933\n",
            "Epoch 7/20\n",
            "25/25 [==============================] - 0s 16ms/step - loss: 0.0544 - accuracy: 0.9832 - val_loss: 1.0004 - val_accuracy: 0.7010\n",
            "Epoch 8/20\n",
            "25/25 [==============================] - 0s 17ms/step - loss: 0.0529 - accuracy: 0.9871 - val_loss: 1.0491 - val_accuracy: 0.6856\n",
            "Epoch 9/20\n",
            "25/25 [==============================] - 0s 16ms/step - loss: 0.0488 - accuracy: 0.9832 - val_loss: 1.1219 - val_accuracy: 0.6830\n",
            "Epoch 10/20\n",
            "25/25 [==============================] - 0s 18ms/step - loss: 0.0439 - accuracy: 0.9839 - val_loss: 1.1230 - val_accuracy: 0.6804\n",
            "Epoch 11/20\n",
            "25/25 [==============================] - 0s 17ms/step - loss: 0.0376 - accuracy: 0.9878 - val_loss: 1.1696 - val_accuracy: 0.7010\n",
            "Epoch 12/20\n",
            "25/25 [==============================] - 0s 17ms/step - loss: 0.0380 - accuracy: 0.9832 - val_loss: 1.1875 - val_accuracy: 0.7036\n",
            "Epoch 13/20\n",
            "25/25 [==============================] - 0s 18ms/step - loss: 0.0307 - accuracy: 0.9884 - val_loss: 1.2460 - val_accuracy: 0.6727\n",
            "Epoch 14/20\n",
            "25/25 [==============================] - 0s 18ms/step - loss: 0.0351 - accuracy: 0.9897 - val_loss: 1.2254 - val_accuracy: 0.6804\n",
            "Epoch 15/20\n",
            "25/25 [==============================] - 0s 17ms/step - loss: 0.0351 - accuracy: 0.9858 - val_loss: 1.2385 - val_accuracy: 0.6753\n",
            "Epoch 16/20\n",
            "25/25 [==============================] - 0s 16ms/step - loss: 0.0318 - accuracy: 0.9878 - val_loss: 1.2682 - val_accuracy: 0.7036\n",
            "Epoch 17/20\n",
            "25/25 [==============================] - 0s 19ms/step - loss: 0.0297 - accuracy: 0.9884 - val_loss: 1.4398 - val_accuracy: 0.6856\n",
            "Epoch 18/20\n",
            "25/25 [==============================] - 0s 16ms/step - loss: 0.0312 - accuracy: 0.9890 - val_loss: 1.3367 - val_accuracy: 0.6778\n",
            "Epoch 19/20\n",
            "25/25 [==============================] - 0s 17ms/step - loss: 0.0255 - accuracy: 0.9884 - val_loss: 1.3651 - val_accuracy: 0.6881\n",
            "Epoch 20/20\n",
            "25/25 [==============================] - 0s 17ms/step - loss: 0.0249 - accuracy: 0.9897 - val_loss: 1.4630 - val_accuracy: 0.6727\n"
          ]
        }
      ]
    },
    {
      "cell_type": "code",
      "metadata": {
        "id": "2SRonpkgidx0",
        "colab": {
          "base_uri": "https://localhost:8080/",
          "height": 370
        },
        "outputId": "d18ddc94-622e-42f8-8be6-439fc32106ff"
      },
      "source": [
        "import matplotlib.pyplot as plt\n",
        "\n",
        "# Visualization of the training process on the loss function \n",
        "plt.plot(history.history[\"loss\"], color=\"b\")\n",
        "plt.plot(history.history[\"val_loss\"], color=\"r\")\n",
        "plt.ylabel(\"loss\")\n",
        "plt.xlabel(\"Epochs\")\n",
        "plt.show()\n",
        "# comme le schéma le montre on commence à overfitter depuis le début la val loss n'arrête pas d'augmenter "
      ],
      "execution_count": null,
      "outputs": [
        {
          "output_type": "display_data",
          "data": {
            "image/png": "[encoded data removed]",
            "text/plain": [
              "<Figure size 576x396 with 1 Axes>"
            ]
          },
          "metadata": {}
        }
      ]
    },
    {
      "cell_type": "code",
      "metadata": {
        "id": "UlA5CHRCisD5",
        "colab": {
          "base_uri": "https://localhost:8080/",
          "height": 370
        },
        "outputId": "cfeef444-1c01-4211-9339-490810ff0229"
      },
      "source": [
        "# Visualization of accuracy training \n",
        "plt.plot(history.history[\"accuracy\"], color=\"b\")\n",
        "plt.plot(history.history[\"val_accuracy\"], color=\"r\")\n",
        "plt.ylabel(\"accuracy\")\n",
        "plt.xlabel(\"Epochs\")\n",
        "plt.show()"
      ],
      "execution_count": null,
      "outputs": [
        {
          "output_type": "display_data",
          "data": {
            "image/png": "[encoded data removed]",
            "text/plain": [
              "<Figure size 576x396 with 1 Axes>"
            ]
          },
          "metadata": {}
        }
      ]
    },
    {
      "cell_type": "code",
      "source": [
        "# L'inconvenient du SRNN c'est qu'il n'est pas efficace sur les phrases longues, la fonction d'activation qu'on utilise \n",
        "# le plus souvent c'est une tangente hyperbolique comme on va dérivé plusieurs tangente hyperbolique qui va être comprise\n",
        "# entre 0 et 1 donc plus on va multilplier les dérivés plus on va réduire la valeur du gradient, on va avoir un problème\n",
        "# de vanishing gradient on va avoir bcp de mal à entrainer le modèle et donc a bien prédire\n"
      ],
      "metadata": {
        "id": "-avu6ytCnp4S"
      },
      "execution_count": null,
      "outputs": []
    },
    {
      "cell_type": "code",
      "metadata": {
        "id": "ByqI4XlkisHC"
      },
      "source": [
        "model.save(\"model_simpleRNN.h5\")"
      ],
      "execution_count": null,
      "outputs": []
    },
    {
      "cell_type": "code",
      "metadata": {
        "id": "fVJoI5OPisKd"
      },
      "source": [
        "from tensorflow.keras.layers import Embedding, SimpleRNN, Dense, GRU, LSTM\n",
        "\n",
        "vocab_size=len(tokenizer.word_index)\n",
        "model_gru = tf.keras.Sequential([\n",
        "                  Embedding(vocab_size+1,64, input_shape=[train_pad.shape[1],],name=\"embedding\"),\n",
        "                  GRU(units=32, return_sequences=True), # maintains the sequential nature\n",
        "                  tf.keras.layers.Bidirectional(GRU(units=16, return_sequences=False)), # returns the last output\n",
        "                  Dense(16, activation='relu'),\n",
        "                  Dropout(0.5),\n",
        "                  Dense(1, activation=\"sigmoid\")\n",
        "])"
      ],
      "execution_count": null,
      "outputs": []
    },
    {
      "cell_type": "code",
      "metadata": {
        "id": "0DVENEC1isNF",
        "colab": {
          "base_uri": "https://localhost:8080/"
        },
        "outputId": "ea31316e-d1ed-4aee-814c-fbf450e5b803"
      },
      "source": [
        "model_gru.summary()"
      ],
      "execution_count": null,
      "outputs": [
        {
          "output_type": "stream",
          "name": "stdout",
          "text": [
            "Model: \"sequential_8\"\n",
            "_________________________________________________________________\n",
            " Layer (type)                Output Shape              Param #   \n",
            "=================================================================\n",
            " embedding (Embedding)       (None, 25, 64)            378240    \n",
            "                                                                 \n",
            " gru_2 (GRU)                 (None, 25, 32)            9408      \n",
            "                                                                 \n",
            " bidirectional_3 (Bidirectio  (None, 32)               4800      \n",
            " nal)                                                            \n",
            "                                                                 \n",
            " dense_17 (Dense)            (None, 16)                528       \n",
            "                                                                 \n",
            " dropout_7 (Dropout)         (None, 16)                0         \n",
            "                                                                 \n",
            " dense_18 (Dense)            (None, 1)                 17        \n",
            "                                                                 \n",
            "=================================================================\n",
            "Total params: 392,993\n",
            "Trainable params: 392,993\n",
            "Non-trainable params: 0\n",
            "_________________________________________________________________\n"
          ]
        }
      ]
    },
    {
      "cell_type": "code",
      "metadata": {
        "id": "EBiG_sGVisP7"
      },
      "source": [
        "model.compile(optimizer='adam',\n",
        "              loss=tf.keras.losses.BinaryCrossentropy(),\n",
        "              metrics=['accuracy'])"
      ],
      "execution_count": null,
      "outputs": []
    },
    {
      "cell_type": "code",
      "metadata": {
        "id": "ea0BQK3LisR1",
        "colab": {
          "base_uri": "https://localhost:8080/"
        },
        "outputId": "07e22874-e946-4177-e054-bb6952e769da"
      },
      "source": [
        "# Entrainement du modèle \n",
        "history = model.fit(train_ds,\n",
        "                    validation_data=val_ds,\n",
        "                    epochs=20, \n",
        "                  )"
      ],
      "execution_count": null,
      "outputs": [
        {
          "output_type": "stream",
          "name": "stdout",
          "text": [
            "Epoch 1/20\n",
            "25/25 [==============================] - 2s 27ms/step - loss: 0.0217 - accuracy: 0.9910 - val_loss: 2.0012 - val_accuracy: 0.7113\n",
            "Epoch 2/20\n",
            "25/25 [==============================] - 0s 18ms/step - loss: 0.0215 - accuracy: 0.9865 - val_loss: 2.1917 - val_accuracy: 0.7191\n",
            "Epoch 3/20\n",
            "25/25 [==============================] - 0s 17ms/step - loss: 0.0205 - accuracy: 0.9878 - val_loss: 2.2754 - val_accuracy: 0.7010\n",
            "Epoch 4/20\n",
            "25/25 [==============================] - 0s 17ms/step - loss: 0.0270 - accuracy: 0.9852 - val_loss: 2.0469 - val_accuracy: 0.6572\n",
            "Epoch 5/20\n",
            "25/25 [==============================] - 0s 18ms/step - loss: 0.0230 - accuracy: 0.9865 - val_loss: 2.0053 - val_accuracy: 0.6598\n",
            "Epoch 6/20\n",
            "25/25 [==============================] - 0s 18ms/step - loss: 0.0212 - accuracy: 0.9871 - val_loss: 2.0523 - val_accuracy: 0.6418\n",
            "Epoch 7/20\n",
            "25/25 [==============================] - 0s 17ms/step - loss: 0.0194 - accuracy: 0.9890 - val_loss: 2.0986 - val_accuracy: 0.6753\n",
            "Epoch 8/20\n",
            "25/25 [==============================] - 0s 19ms/step - loss: 0.0217 - accuracy: 0.9878 - val_loss: 2.1537 - val_accuracy: 0.6753\n",
            "Epoch 9/20\n",
            "25/25 [==============================] - 0s 18ms/step - loss: 0.0182 - accuracy: 0.9903 - val_loss: 2.2169 - val_accuracy: 0.6856\n",
            "Epoch 10/20\n",
            "25/25 [==============================] - 0s 18ms/step - loss: 0.0226 - accuracy: 0.9884 - val_loss: 2.2609 - val_accuracy: 0.6804\n",
            "Epoch 11/20\n",
            "25/25 [==============================] - 0s 17ms/step - loss: 0.0211 - accuracy: 0.9890 - val_loss: 2.1994 - val_accuracy: 0.6804\n",
            "Epoch 12/20\n",
            "25/25 [==============================] - 0s 18ms/step - loss: 0.0235 - accuracy: 0.9858 - val_loss: 2.1918 - val_accuracy: 0.7088\n",
            "Epoch 13/20\n",
            "25/25 [==============================] - 0s 17ms/step - loss: 0.0196 - accuracy: 0.9897 - val_loss: 2.2050 - val_accuracy: 0.7062\n",
            "Epoch 14/20\n",
            "25/25 [==============================] - 0s 18ms/step - loss: 0.0197 - accuracy: 0.9910 - val_loss: 2.2185 - val_accuracy: 0.7088\n",
            "Epoch 15/20\n",
            "25/25 [==============================] - 0s 16ms/step - loss: 0.0192 - accuracy: 0.9910 - val_loss: 2.2519 - val_accuracy: 0.6933\n",
            "Epoch 16/20\n",
            "25/25 [==============================] - 0s 17ms/step - loss: 0.0211 - accuracy: 0.9884 - val_loss: 2.2030 - val_accuracy: 0.7010\n",
            "Epoch 17/20\n",
            "25/25 [==============================] - 0s 16ms/step - loss: 0.0205 - accuracy: 0.9884 - val_loss: 2.2061 - val_accuracy: 0.7010\n",
            "Epoch 18/20\n",
            "25/25 [==============================] - 0s 17ms/step - loss: 0.0206 - accuracy: 0.9890 - val_loss: 2.2299 - val_accuracy: 0.7139\n",
            "Epoch 19/20\n",
            "25/25 [==============================] - 0s 17ms/step - loss: 0.0215 - accuracy: 0.9903 - val_loss: 2.2625 - val_accuracy: 0.6649\n",
            "Epoch 20/20\n",
            "25/25 [==============================] - 0s 18ms/step - loss: 0.0231 - accuracy: 0.9858 - val_loss: 2.2342 - val_accuracy: 0.7010\n"
          ]
        }
      ]
    },
    {
      "cell_type": "code",
      "metadata": {
        "id": "JK9_Az_Ii9F5",
        "colab": {
          "base_uri": "https://localhost:8080/",
          "height": 370
        },
        "outputId": "9e2ab302-1478-4d75-bc9d-bb7f9a38ba12"
      },
      "source": [
        "# Visualization of the training process on the loss function \n",
        "plt.plot(history.history[\"loss\"], color=\"b\")\n",
        "plt.plot(history.history[\"val_loss\"], color=\"r\")\n",
        "plt.ylabel(\"loss\")\n",
        "plt.xlabel(\"Epochs\")\n",
        "plt.show()"
      ],
      "execution_count": null,
      "outputs": [
        {
          "output_type": "display_data",
          "data": {
            "image/png": "[encoded data removed]",
            "text/plain": [
              "<Figure size 576x396 with 1 Axes>"
            ]
          },
          "metadata": {}
        }
      ]
    },
    {
      "cell_type": "code",
      "metadata": {
        "id": "jgFin7H1i9JD",
        "colab": {
          "base_uri": "https://localhost:8080/",
          "height": 370
        },
        "outputId": "be57ec52-0882-4dbd-949f-6ce38a400b6b"
      },
      "source": [
        "# Visualization of accuracy training \n",
        "plt.plot(history.history[\"accuracy\"], color=\"b\")\n",
        "plt.plot(history.history[\"val_accuracy\"], color=\"r\")\n",
        "plt.ylabel(\"accuracy\")\n",
        "plt.xlabel(\"Epochs\")\n",
        "plt.show()"
      ],
      "execution_count": null,
      "outputs": [
        {
          "output_type": "display_data",
          "data": {
            "image/png": "[encoded data removed]",
            "text/plain": [
              "<Figure size 576x396 with 1 Axes>"
            ]
          },
          "metadata": {}
        }
      ]
    },
    {
      "cell_type": "code",
      "source": [
        "# Pour la GRU je vais avoir la reset gate qui répond à la question est ce qui a dans ma mémoire va être utile \n",
        "# pour créer ma nouvelle info, la update gate en deux parties pr créer mon nouvel output je vais garder quelle \n",
        "# proportion de ma mémoire et quelle proportion de la nouvelle info. Le neuronne est capable de choisir s'il veut\n",
        "# passer une proportion de l'ancienne info et une proportion de la noubvelle info ou bien il peut censurer l'une et pas du tout \n",
        "# l'autre et parfois ça sera l'inverse donc garder tt l'ancien et pas le nouveau ou bien l'inverse "
      ],
      "metadata": {
        "id": "Dy-6essKrp8i"
      },
      "execution_count": null,
      "outputs": []
    },
    {
      "cell_type": "code",
      "metadata": {
        "id": "9HoZ_mDZi9Oe",
        "colab": {
          "base_uri": "https://localhost:8080/"
        },
        "outputId": "a23b1ed3-ce0b-49dc-cf07-01a51a79b55e"
      },
      "source": [
        "model_gru.save(\"model_gru.h5\")"
      ],
      "execution_count": null,
      "outputs": [
        {
          "output_type": "stream",
          "name": "stdout",
          "text": [
            "WARNING:tensorflow:Compiled the loaded model, but the compiled metrics have yet to be built. `model.compile_metrics` will be empty until you train or evaluate the model.\n"
          ]
        }
      ]
    },
    {
      "cell_type": "code",
      "metadata": {
        "id": "OF154BWri9RP"
      },
      "source": [
        "from tensorflow.keras.layers import Embedding, SimpleRNN, Dense, GRU, LSTM\n",
        "\n",
        "vocab_size=len(tokenizer.word_index)\n",
        "model_lstm= tf.keras.Sequential([\n",
        "                  Embedding(vocab_size+1,64, input_shape=[train_pad.shape[1],],name=\"embedding\"),\n",
        "                  LSTM(units=32, return_sequences=True), # maintains the sequential nature\n",
        "                  tf.keras.layers.Bidirectional(LSTM(units=16, return_sequences=False)), # returns the last output\n",
        "                  Dense(16, activation='relu'),\n",
        "                  Dropout(0.5),\n",
        "                  Dense(1, activation=\"sigmoid\")\n",
        "])\n",
        "# Bidirectional ça permet de dupliquer le nbre de neurones la moitié des neurones va lire la séquence de gauche\n",
        "# à droite et l'autre moitié va la lire de droite à gauche  "
      ],
      "execution_count": null,
      "outputs": []
    },
    {
      "cell_type": "code",
      "metadata": {
        "id": "OJgBsf6pi9T3",
        "colab": {
          "base_uri": "https://localhost:8080/"
        },
        "outputId": "491a2112-67f7-4377-95db-a1b496eb1885"
      },
      "source": [
        "model_lstm.summary()"
      ],
      "execution_count": null,
      "outputs": [
        {
          "output_type": "stream",
          "name": "stdout",
          "text": [
            "Model: \"sequential_7\"\n",
            "_________________________________________________________________\n",
            " Layer (type)                Output Shape              Param #   \n",
            "=================================================================\n",
            " embedding (Embedding)       (None, 25, 64)            378240    \n",
            "                                                                 \n",
            " lstm_2 (LSTM)               (None, 25, 32)            12416     \n",
            "                                                                 \n",
            " bidirectional_2 (Bidirectio  (None, 32)               6272      \n",
            " nal)                                                            \n",
            "                                                                 \n",
            " dense_15 (Dense)            (None, 16)                528       \n",
            "                                                                 \n",
            " dropout_6 (Dropout)         (None, 16)                0         \n",
            "                                                                 \n",
            " dense_16 (Dense)            (None, 1)                 17        \n",
            "                                                                 \n",
            "=================================================================\n",
            "Total params: 397,473\n",
            "Trainable params: 397,473\n",
            "Non-trainable params: 0\n",
            "_________________________________________________________________\n"
          ]
        }
      ]
    },
    {
      "cell_type": "code",
      "metadata": {
        "id": "VnbtOGEvjIs2"
      },
      "source": [
        "model.compile(optimizer='adam',\n",
        "              loss=tf.keras.losses.BinaryCrossentropy(),\n",
        "              metrics=['accuracy'])"
      ],
      "execution_count": null,
      "outputs": []
    },
    {
      "cell_type": "code",
      "metadata": {
        "id": "WXKj3iADjIx4",
        "colab": {
          "base_uri": "https://localhost:8080/"
        },
        "outputId": "f8f250fb-2eec-4fc3-9a09-6d927491b7b1"
      },
      "source": [
        "# Entrainement du modèle \n",
        "history = model.fit(train_ds,\n",
        "                    validation_data=val_ds,\n",
        "                    epochs=20, \n",
        "                  )"
      ],
      "execution_count": null,
      "outputs": [
        {
          "output_type": "stream",
          "name": "stdout",
          "text": [
            "Epoch 1/20\n",
            "25/25 [==============================] - 2s 27ms/step - loss: 0.0242 - accuracy: 0.9890 - val_loss: 1.7754 - val_accuracy: 0.7062\n",
            "Epoch 2/20\n",
            "25/25 [==============================] - 0s 18ms/step - loss: 0.0201 - accuracy: 0.9910 - val_loss: 1.7605 - val_accuracy: 0.7010\n",
            "Epoch 3/20\n",
            "25/25 [==============================] - 0s 19ms/step - loss: 0.0251 - accuracy: 0.9839 - val_loss: 1.7012 - val_accuracy: 0.6985\n",
            "Epoch 4/20\n",
            "25/25 [==============================] - 0s 17ms/step - loss: 0.0221 - accuracy: 0.9884 - val_loss: 1.7609 - val_accuracy: 0.7088\n",
            "Epoch 5/20\n",
            "25/25 [==============================] - 0s 18ms/step - loss: 0.0190 - accuracy: 0.9910 - val_loss: 1.8467 - val_accuracy: 0.7191\n",
            "Epoch 6/20\n",
            "25/25 [==============================] - 1s 23ms/step - loss: 0.0208 - accuracy: 0.9903 - val_loss: 1.8979 - val_accuracy: 0.7113\n",
            "Epoch 7/20\n",
            "25/25 [==============================] - 1s 41ms/step - loss: 0.0269 - accuracy: 0.9832 - val_loss: 1.8973 - val_accuracy: 0.6907\n",
            "Epoch 8/20\n",
            "25/25 [==============================] - 1s 33ms/step - loss: 0.0221 - accuracy: 0.9890 - val_loss: 1.9978 - val_accuracy: 0.6856\n",
            "Epoch 9/20\n",
            "25/25 [==============================] - 0s 18ms/step - loss: 0.0232 - accuracy: 0.9884 - val_loss: 2.2584 - val_accuracy: 0.6804\n",
            "Epoch 10/20\n",
            "25/25 [==============================] - 0s 17ms/step - loss: 0.0237 - accuracy: 0.9890 - val_loss: 2.0578 - val_accuracy: 0.6985\n",
            "Epoch 11/20\n",
            "25/25 [==============================] - 0s 16ms/step - loss: 0.0272 - accuracy: 0.9903 - val_loss: 1.8883 - val_accuracy: 0.6469\n",
            "Epoch 12/20\n",
            "25/25 [==============================] - 0s 16ms/step - loss: 0.0264 - accuracy: 0.9878 - val_loss: 1.7627 - val_accuracy: 0.7165\n",
            "Epoch 13/20\n",
            "25/25 [==============================] - 0s 16ms/step - loss: 0.0241 - accuracy: 0.9878 - val_loss: 1.7671 - val_accuracy: 0.6985\n",
            "Epoch 14/20\n",
            "25/25 [==============================] - 0s 16ms/step - loss: 0.0193 - accuracy: 0.9903 - val_loss: 1.7427 - val_accuracy: 0.7036\n",
            "Epoch 15/20\n",
            "25/25 [==============================] - 0s 19ms/step - loss: 0.0204 - accuracy: 0.9890 - val_loss: 1.7005 - val_accuracy: 0.7320\n",
            "Epoch 16/20\n",
            "25/25 [==============================] - 0s 17ms/step - loss: 0.0210 - accuracy: 0.9903 - val_loss: 1.7702 - val_accuracy: 0.7242\n",
            "Epoch 17/20\n",
            "25/25 [==============================] - 0s 16ms/step - loss: 0.0172 - accuracy: 0.9916 - val_loss: 1.7594 - val_accuracy: 0.7191\n",
            "Epoch 18/20\n",
            "25/25 [==============================] - 0s 16ms/step - loss: 0.0222 - accuracy: 0.9865 - val_loss: 1.7460 - val_accuracy: 0.6804\n",
            "Epoch 19/20\n",
            "25/25 [==============================] - 0s 17ms/step - loss: 0.0192 - accuracy: 0.9897 - val_loss: 1.8486 - val_accuracy: 0.7165\n",
            "Epoch 20/20\n",
            "25/25 [==============================] - 0s 17ms/step - loss: 0.0204 - accuracy: 0.9884 - val_loss: 1.8091 - val_accuracy: 0.7216\n"
          ]
        }
      ]
    },
    {
      "cell_type": "code",
      "source": [
        "# Visualization of the training process on the loss function \n",
        "plt.plot(history.history[\"loss\"], color=\"b\")\n",
        "plt.plot(history.history[\"val_loss\"], color=\"r\")\n",
        "plt.ylabel(\"loss\")\n",
        "plt.xlabel(\"Epochs\")\n",
        "plt.show()"
      ],
      "metadata": {
        "colab": {
          "base_uri": "https://localhost:8080/",
          "height": 370
        },
        "id": "q0WsxZJBGyiD",
        "outputId": "1dfa9536-c395-4b2a-912e-e1f6d844a267"
      },
      "execution_count": null,
      "outputs": [
        {
          "output_type": "display_data",
          "data": {
            "image/png": "[encoded data removed]",
            "text/plain": [
              "<Figure size 576x396 with 1 Axes>"
            ]
          },
          "metadata": {}
        }
      ]
    },
    {
      "cell_type": "code",
      "metadata": {
        "id": "r1fexl9EjI00",
        "colab": {
          "base_uri": "https://localhost:8080/",
          "height": 370
        },
        "outputId": "10814b3e-2a5a-43e0-a7bf-224ffe78f957"
      },
      "source": [
        "# Visualization of accuracy training \n",
        "plt.plot(history.history[\"accuracy\"], color=\"b\")\n",
        "plt.plot(history.history[\"val_accuracy\"], color=\"r\")\n",
        "plt.ylabel(\"accuracy\")\n",
        "plt.xlabel(\"Epochs\")\n",
        "plt.show()"
      ],
      "execution_count": null,
      "outputs": [
        {
          "output_type": "display_data",
          "data": {
            "image/png": "[encoded data removed]",
            "text/plain": [
              "<Figure size 576x396 with 1 Axes>"
            ]
          },
          "metadata": {}
        }
      ]
    },
    {
      "cell_type": "code",
      "source": [
        "# Lstm ce sont des neurones qui sont capables d'utiliser à la fois de la mémoire de court terme et de la mémoire \n",
        "# de long terme on a deux mémoires une mémoire interne au neurone c'est cell state et une autre mémoire qui va \n",
        "# communiquer  avec les autres neurones et qui est le hidden state "
      ],
      "metadata": {
        "id": "z5A3S4F8x_mK"
      },
      "execution_count": null,
      "outputs": []
    },
    {
      "cell_type": "code",
      "metadata": {
        "id": "xj0xCTaZjI6o",
        "colab": {
          "base_uri": "https://localhost:8080/"
        },
        "outputId": "c88c2667-fb4e-4698-d75d-93ac18675e52"
      },
      "source": [
        "model_lstm.save(\"model_gru.h5\")"
      ],
      "execution_count": null,
      "outputs": [
        {
          "output_type": "stream",
          "name": "stdout",
          "text": [
            "WARNING:tensorflow:Compiled the loaded model, but the compiled metrics have yet to be built. `model.compile_metrics` will be empty until you train or evaluate the model.\n"
          ]
        }
      ]
    },
    {
      "cell_type": "code",
      "metadata": {
        "id": "31dMlz8CjJBm"
      },
      "source": [
        "pred=model.predict(train_pad)"
      ],
      "execution_count": null,
      "outputs": []
    },
    {
      "cell_type": "code",
      "metadata": {
        "id": "gowUwOXGjJDy"
      },
      "source": [
        "target=df_train.target"
      ],
      "execution_count": null,
      "outputs": []
    },
    {
      "cell_type": "code",
      "source": [
        "df_eval=pd.DataFrame({\"pred\":pred.squeeze(),\"target\":target,\"text\":df_train.text_clean})\n",
        "df_eval"
      ],
      "metadata": {
        "colab": {
          "base_uri": "https://localhost:8080/",
          "height": 423
        },
        "id": "M86f2GUUd62o",
        "outputId": "64810c49-da1b-4a2c-e68d-47491c88f143"
      },
      "execution_count": null,
      "outputs": [
        {
          "output_type": "execute_result",
          "data": {
            "text/html": [
              "\n",
              "  <div id=\"df-146afed9-92b4-4351-85bc-82450ab4bafa\">\n",
              "    <div class=\"colab-df-container\">\n",
              "      <div>\n",
              "<style scoped>\n",
              "    .dataframe tbody tr th:only-of-type {\n",
              "        vertical-align: middle;\n",
              "    }\n",
              "\n",
              "    .dataframe tbody tr th {\n",
              "        vertical-align: top;\n",
              "    }\n",
              "\n",
              "    .dataframe thead th {\n",
              "        text-align: right;\n",
              "    }\n",
              "</style>\n",
              "<table border=\"1\" class=\"dataframe\">\n",
              "  <thead>\n",
              "    <tr style=\"text-align: right;\">\n",
              "      <th></th>\n",
              "      <th>pred</th>\n",
              "      <th>target</th>\n",
              "      <th>text</th>\n",
              "    </tr>\n",
              "  </thead>\n",
              "  <tbody>\n",
              "    <tr>\n",
              "      <th>31</th>\n",
              "      <td>1.000000e+00</td>\n",
              "      <td>1</td>\n",
              "      <td>wholesale market ablaze</td>\n",
              "    </tr>\n",
              "    <tr>\n",
              "      <th>33</th>\n",
              "      <td>1.000000e+00</td>\n",
              "      <td>1</td>\n",
              "      <td>africanbaze break newsnigeria flag set ablaze aba</td>\n",
              "    </tr>\n",
              "    <tr>\n",
              "      <th>34</th>\n",
              "      <td>4.210218e-09</td>\n",
              "      <td>0</td>\n",
              "      <td>cry set ablaze</td>\n",
              "    </tr>\n",
              "    <tr>\n",
              "      <th>35</th>\n",
              "      <td>4.454245e-09</td>\n",
              "      <td>0</td>\n",
              "      <td>plus look sky night ablaze</td>\n",
              "    </tr>\n",
              "    <tr>\n",
              "      <th>37</th>\n",
              "      <td>1.000000e+00</td>\n",
              "      <td>1</td>\n",
              "      <td>inec office abia set ablaze</td>\n",
              "    </tr>\n",
              "    <tr>\n",
              "      <th>...</th>\n",
              "      <td>...</td>\n",
              "      <td>...</td>\n",
              "      <td>...</td>\n",
              "    </tr>\n",
              "    <tr>\n",
              "      <th>7447</th>\n",
              "      <td>9.047938e-09</td>\n",
              "      <td>0</td>\n",
              "      <td>cramer igers 3 word wreck disneys stock cnbc t...</td>\n",
              "    </tr>\n",
              "    <tr>\n",
              "      <th>7448</th>\n",
              "      <td>4.412843e-09</td>\n",
              "      <td>0</td>\n",
              "      <td>u night wee barra absolutely wreck</td>\n",
              "    </tr>\n",
              "    <tr>\n",
              "      <th>7451</th>\n",
              "      <td>6.909777e-08</td>\n",
              "      <td>0</td>\n",
              "      <td>cramer 3 word wreck dis stock</td>\n",
              "    </tr>\n",
              "    <tr>\n",
              "      <th>7456</th>\n",
              "      <td>1.606852e-09</td>\n",
              "      <td>0</td>\n",
              "      <td>day work pretty wreck hahaha shoutout family</td>\n",
              "    </tr>\n",
              "    <tr>\n",
              "      <th>7457</th>\n",
              "      <td>1.269506e-09</td>\n",
              "      <td>0</td>\n",
              "      <td>fx forex trading cramer igers 3 word wreck dis...</td>\n",
              "    </tr>\n",
              "  </tbody>\n",
              "</table>\n",
              "<p>1940 rows × 3 columns</p>\n",
              "</div>\n",
              "      <button class=\"colab-df-convert\" onclick=\"convertToInteractive('df-146afed9-92b4-4351-85bc-82450ab4bafa')\"\n",
              "              title=\"Convert this dataframe to an interactive table.\"\n",
              "              style=\"display:none;\">\n",
              "        \n",
              "  <svg xmlns=\"http://www.w3.org/2000/svg\" height=\"24px\"viewBox=\"0 0 24 24\"\n",
              "       width=\"24px\">\n",
              "    <path d=\"M0 0h24v24H0V0z\" fill=\"none\"/>\n",
              "    <path d=\"M18.56 5.44l.94 2.06.94-2.06 2.06-.94-2.06-.94-.94-2.06-.94 2.06-2.06.94zm-11 1L8.5 8.5l.94-2.06 2.06-.94-2.06-.94L8.5 2.5l-.94 2.06-2.06.94zm10 10l.94 2.06.94-2.06 2.06-.94-2.06-.94-.94-2.06-.94 2.06-2.06.94z\"/><path d=\"M17.41 7.96l-1.37-1.37c-.4-.4-.92-.59-1.43-.59-.52 0-1.04.2-1.43.59L10.3 9.45l-7.72 7.72c-.78.78-.78 2.05 0 2.83L4 21.41c.39.39.9.59 1.41.59.51 0 1.02-.2 1.41-.59l7.78-7.78 2.81-2.81c.8-.78.8-2.07 0-2.86zM5.41 20L4 18.59l7.72-7.72 1.47 1.35L5.41 20z\"/>\n",
              "  </svg>\n",
              "      </button>\n",
              "      \n",
              "  <style>\n",
              "    .colab-df-container {\n",
              "      display:flex;\n",
              "      flex-wrap:wrap;\n",
              "      gap: 12px;\n",
              "    }\n",
              "\n",
              "    .colab-df-convert {\n",
              "      background-color: #E8F0FE;\n",
              "      border: none;\n",
              "      border-radius: 50%;\n",
              "      cursor: pointer;\n",
              "      display: none;\n",
              "      fill: #1967D2;\n",
              "      height: 32px;\n",
              "      padding: 0 0 0 0;\n",
              "      width: 32px;\n",
              "    }\n",
              "\n",
              "    .colab-df-convert:hover {\n",
              "      background-color: #E2EBFA;\n",
              "      box-shadow: 0px 1px 2px rgba(60, 64, 67, 0.3), 0px 1px 3px 1px rgba(60, 64, 67, 0.15);\n",
              "      fill: #174EA6;\n",
              "    }\n",
              "\n",
              "    [theme=dark] .colab-df-convert {\n",
              "      background-color: #3B4455;\n",
              "      fill: #D2E3FC;\n",
              "    }\n",
              "\n",
              "    [theme=dark] .colab-df-convert:hover {\n",
              "      background-color: #434B5C;\n",
              "      box-shadow: 0px 1px 3px 1px rgba(0, 0, 0, 0.15);\n",
              "      filter: drop-shadow(0px 1px 2px rgba(0, 0, 0, 0.3));\n",
              "      fill: #FFFFFF;\n",
              "    }\n",
              "  </style>\n",
              "\n",
              "      <script>\n",
              "        const buttonEl =\n",
              "          document.querySelector('#df-146afed9-92b4-4351-85bc-82450ab4bafa button.colab-df-convert');\n",
              "        buttonEl.style.display =\n",
              "          google.colab.kernel.accessAllowed ? 'block' : 'none';\n",
              "\n",
              "        async function convertToInteractive(key) {\n",
              "          const element = document.querySelector('#df-146afed9-92b4-4351-85bc-82450ab4bafa');\n",
              "          const dataTable =\n",
              "            await google.colab.kernel.invokeFunction('convertToInteractive',\n",
              "                                                     [key], {});\n",
              "          if (!dataTable) return;\n",
              "\n",
              "          const docLinkHtml = 'Like what you see? Visit the ' +\n",
              "            '<a target=\"_blank\" href=https://colab.research.google.com/notebooks/data_table.ipynb>data table notebook</a>'\n",
              "            + ' to learn more about interactive tables.';\n",
              "          element.innerHTML = '';\n",
              "          dataTable['output_type'] = 'display_data';\n",
              "          await google.colab.output.renderOutput(dataTable, element);\n",
              "          const docLink = document.createElement('div');\n",
              "          docLink.innerHTML = docLinkHtml;\n",
              "          element.appendChild(docLink);\n",
              "        }\n",
              "      </script>\n",
              "    </div>\n",
              "  </div>\n",
              "  "
            ],
            "text/plain": [
              "              pred  target                                               text\n",
              "31    1.000000e+00       1                            wholesale market ablaze\n",
              "33    1.000000e+00       1  africanbaze break newsnigeria flag set ablaze aba\n",
              "34    4.210218e-09       0                                     cry set ablaze\n",
              "35    4.454245e-09       0                         plus look sky night ablaze\n",
              "37    1.000000e+00       1                        inec office abia set ablaze\n",
              "...            ...     ...                                                ...\n",
              "7447  9.047938e-09       0  cramer igers 3 word wreck disneys stock cnbc t...\n",
              "7448  4.412843e-09       0                 u night wee barra absolutely wreck\n",
              "7451  6.909777e-08       0                      cramer 3 word wreck dis stock\n",
              "7456  1.606852e-09       0       day work pretty wreck hahaha shoutout family\n",
              "7457  1.269506e-09       0  fx forex trading cramer igers 3 word wreck dis...\n",
              "\n",
              "[1940 rows x 3 columns]"
            ]
          },
          "metadata": {},
          "execution_count": 122
        }
      ]
    },
    {
      "cell_type": "code",
      "source": [
        "# On prédit si un tweet donné parle d'un véritable désastre ou non. Si oui on prédit un 1 sinon on prédit un 0.\n",
        "# On peut dire que notre modèle fait de bonnes prédictions puisque pr cry set ablaze et plus look sky night ablaze \n",
        "# il déclare que ce sont de fausses déclarations "
      ],
      "metadata": {
        "id": "LSXgobkwfLuN"
      },
      "execution_count": null,
      "outputs": []
    }
  ]
}